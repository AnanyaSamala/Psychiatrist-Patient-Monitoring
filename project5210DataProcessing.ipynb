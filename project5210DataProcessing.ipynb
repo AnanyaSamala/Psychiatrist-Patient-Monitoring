{
 "cells": [
  {
   "cell_type": "markdown",
   "metadata": {},
   "source": [
    "# Predicting Depression"
   ]
  },
  {
   "cell_type": "code",
   "execution_count": 178,
   "metadata": {
    "ExecuteTime": {
     "end_time": "2021-02-09T05:03:28.676617Z",
     "start_time": "2021-02-09T05:03:28.317535Z"
    }
   },
   "outputs": [],
   "source": [
    "# Importing numpy and setting a random seed\n",
    "import numpy as np\n",
    "np.random.seed(123)"
   ]
  },
  {
   "cell_type": "code",
   "execution_count": 179,
   "metadata": {
    "ExecuteTime": {
     "end_time": "2021-02-09T05:03:34.497720Z",
     "start_time": "2021-02-09T05:03:29.612852Z"
    }
   },
   "outputs": [],
   "source": [
    "# Importing packages and setting a couple of style options\n",
    "import pandas as pd\n",
    "import glob, os\n",
    "import matplotlib.pyplot as plt\n",
    "%matplotlib inline\n",
    "import seaborn as sns\n",
    "sns.set(style='whitegrid')\n",
    "import warnings\n",
    "warnings.filterwarnings('ignore')"
   ]
  },
  {
   "cell_type": "code",
   "execution_count": 180,
   "metadata": {
    "ExecuteTime": {
     "end_time": "2021-02-09T05:03:34.508720Z",
     "start_time": "2021-02-09T05:03:34.500720Z"
    }
   },
   "outputs": [],
   "source": [
    "# Setting pandas to display max columns and rows\n",
    "pd.set_option('display.max_columns', 0)\n",
    "pd.set_option('display.max_rows', None)\n",
    "\n",
    "# Setting pandas inf values to be nan\n",
    "pd.set_option('mode.use_inf_as_na', True)\n",
    "\n",
    "# Turning off scientific notation in pandas\n",
    "pd.set_option('display.float_format', lambda x: '%.3f' % x)"
   ]
  },
  {
   "cell_type": "code",
   "execution_count": 181,
   "metadata": {
    "ExecuteTime": {
     "end_time": "2021-02-09T05:03:34.654754Z",
     "start_time": "2021-02-09T05:03:34.513722Z"
    }
   },
   "outputs": [
    {
     "name": "stdout",
     "output_type": "stream",
     "text": [
      "The autoreload extension is already loaded. To reload it, use:\n",
      "  %reload_ext autoreload\n"
     ]
    }
   ],
   "source": [
    "# This will cause the project functions py file to keep refreshed\n",
    "%load_ext autoreload\n",
    "%autoreload 2"
   ]
  },
  {
   "cell_type": "code",
   "execution_count": 182,
   "metadata": {
    "ExecuteTime": {
     "end_time": "2021-02-09T05:03:36.226748Z",
     "start_time": "2021-02-09T05:03:34.657721Z"
    }
   },
   "outputs": [],
   "source": [
    "# Loading in the custom project functions and some tools to look at them\n",
    "import project_functions as pf\n",
    "import inspect\n",
    "from IPython.display import Markdown, display"
   ]
  },
  {
   "cell_type": "code",
   "execution_count": 183,
   "metadata": {
    "ExecuteTime": {
     "end_time": "2021-02-09T05:03:37.041814Z",
     "start_time": "2021-02-09T05:03:36.924719Z"
    }
   },
   "outputs": [
    {
     "data": {
      "text/markdown": [
       "```python\n",
       "def glob_concat(path, file_str):\n",
       "    '''\n",
       "    Looks for files in folder path and combines them into a DataFrame.\n",
       "    Also sets the index to be the SEQN column.\n",
       "    \n",
       "    Args:\n",
       "        path (str): Location on computer where files are located.\n",
       "        file_str (str): Specific search query of which files to find.\n",
       "        \n",
       "    Returns:\n",
       "        Displays the files that were found for verification and returns the \n",
       "        DataFrame of all files after pd.concat is performed and the index is set.\n",
       "    \n",
       "    Example:\n",
       "        combined_df = glob_concat(r'File/File', '*.XPT')\n",
       "    '''\n",
       "    \n",
       "    # Find the files in the folders\n",
       "    files = glob.glob(os.path.join(path, file_str))\n",
       "\n",
       "    # Print the files for verification when running the function\n",
       "    display(files)\n",
       "\n",
       "    # Combining all the files into a DataFrame\n",
       "    df_files = [pd.read_sas(file) for file in files]\n",
       "    combined_df = pd.concat(df_files)\n",
       "\n",
       "    # Setting the index of the new DataFrame\n",
       "    combined_df.SEQN = combined_df.SEQN.astype('int64')\n",
       "    combined_df.set_index('SEQN', verify_integrity=True, inplace=True)\n",
       "    return combined_df\n",
       "\n",
       "```"
      ],
      "text/plain": [
       "<IPython.core.display.Markdown object>"
      ]
     },
     "metadata": {},
     "output_type": "display_data"
    }
   ],
   "source": [
    "# Looking at function\n",
    "func = inspect.getsource(pf.glob_concat)\n",
    "display(Markdown(\"```python\\n\"+func+\"\\n```\"))"
   ]
  },
  {
   "cell_type": "code",
   "execution_count": 184,
   "metadata": {
    "ExecuteTime": {
     "end_time": "2021-02-09T05:03:37.849738Z",
     "start_time": "2021-02-09T05:03:37.514822Z"
    }
   },
   "outputs": [
    {
     "data": {
      "text/plain": [
       "['C:/Users/LaptopCheckout/Documents/CSCE_5210/data\\\\DPQ_H.XPT',\n",
       " 'C:/Users/LaptopCheckout/Documents/CSCE_5210/data\\\\DPQ_I.XPT']"
      ]
     },
     "metadata": {},
     "output_type": "display_data"
    }
   ],
   "source": [
    "# Combining all the files for the target\n",
    "path = r'C:/Users/LaptopCheckout/Documents/CSCE_5210/data'\n",
    "df_target = pf.glob_concat(path, '*.XPT')"
   ]
  },
  {
   "cell_type": "code",
   "execution_count": 185,
   "metadata": {
    "ExecuteTime": {
     "end_time": "2021-02-09T05:03:38.306828Z",
     "start_time": "2021-02-09T05:03:38.199721Z"
    }
   },
   "outputs": [],
   "source": [
    "# Dropping the final column\n",
    "df_target.drop(columns=['DPQ100'], inplace=True)"
   ]
  },
  {
   "cell_type": "code",
   "execution_count": 186,
   "metadata": {
    "ExecuteTime": {
     "end_time": "2021-02-09T05:03:38.904724Z",
     "start_time": "2021-02-09T05:03:38.785718Z"
    }
   },
   "outputs": [
    {
     "data": {
      "text/html": [
       "<div>\n",
       "<style scoped>\n",
       "    .dataframe tbody tr th:only-of-type {\n",
       "        vertical-align: middle;\n",
       "    }\n",
       "\n",
       "    .dataframe tbody tr th {\n",
       "        vertical-align: top;\n",
       "    }\n",
       "\n",
       "    .dataframe thead th {\n",
       "        text-align: right;\n",
       "    }\n",
       "</style>\n",
       "<table border=\"1\" class=\"dataframe\">\n",
       "  <thead>\n",
       "    <tr style=\"text-align: right;\">\n",
       "      <th></th>\n",
       "      <th>DPQ010</th>\n",
       "      <th>DPQ020</th>\n",
       "      <th>DPQ030</th>\n",
       "      <th>DPQ040</th>\n",
       "      <th>DPQ050</th>\n",
       "      <th>DPQ060</th>\n",
       "      <th>DPQ070</th>\n",
       "      <th>DPQ080</th>\n",
       "      <th>DPQ090</th>\n",
       "    </tr>\n",
       "    <tr>\n",
       "      <th>SEQN</th>\n",
       "      <th></th>\n",
       "      <th></th>\n",
       "      <th></th>\n",
       "      <th></th>\n",
       "      <th></th>\n",
       "      <th></th>\n",
       "      <th></th>\n",
       "      <th></th>\n",
       "      <th></th>\n",
       "    </tr>\n",
       "  </thead>\n",
       "  <tbody>\n",
       "    <tr>\n",
       "      <th>73557</th>\n",
       "      <td>1.000</td>\n",
       "      <td>0.000</td>\n",
       "      <td>0.000</td>\n",
       "      <td>0.000</td>\n",
       "      <td>0.000</td>\n",
       "      <td>0.000</td>\n",
       "      <td>0.000</td>\n",
       "      <td>0.000</td>\n",
       "      <td>0.000</td>\n",
       "    </tr>\n",
       "    <tr>\n",
       "      <th>73558</th>\n",
       "      <td>2.000</td>\n",
       "      <td>0.000</td>\n",
       "      <td>0.000</td>\n",
       "      <td>0.000</td>\n",
       "      <td>0.000</td>\n",
       "      <td>0.000</td>\n",
       "      <td>0.000</td>\n",
       "      <td>0.000</td>\n",
       "      <td>0.000</td>\n",
       "    </tr>\n",
       "    <tr>\n",
       "      <th>73559</th>\n",
       "      <td>0.000</td>\n",
       "      <td>0.000</td>\n",
       "      <td>0.000</td>\n",
       "      <td>0.000</td>\n",
       "      <td>0.000</td>\n",
       "      <td>0.000</td>\n",
       "      <td>0.000</td>\n",
       "      <td>0.000</td>\n",
       "      <td>0.000</td>\n",
       "    </tr>\n",
       "    <tr>\n",
       "      <th>73561</th>\n",
       "      <td>2.000</td>\n",
       "      <td>1.000</td>\n",
       "      <td>0.000</td>\n",
       "      <td>3.000</td>\n",
       "      <td>3.000</td>\n",
       "      <td>0.000</td>\n",
       "      <td>0.000</td>\n",
       "      <td>0.000</td>\n",
       "      <td>0.000</td>\n",
       "    </tr>\n",
       "    <tr>\n",
       "      <th>73562</th>\n",
       "      <td>3.000</td>\n",
       "      <td>3.000</td>\n",
       "      <td>3.000</td>\n",
       "      <td>3.000</td>\n",
       "      <td>3.000</td>\n",
       "      <td>1.000</td>\n",
       "      <td>2.000</td>\n",
       "      <td>1.000</td>\n",
       "      <td>0.000</td>\n",
       "    </tr>\n",
       "  </tbody>\n",
       "</table>\n",
       "</div>"
      ],
      "text/plain": [
       "       DPQ010  DPQ020  DPQ030  DPQ040  DPQ050  DPQ060  DPQ070  DPQ080  DPQ090\n",
       "SEQN                                                                         \n",
       "73557   1.000   0.000   0.000   0.000   0.000   0.000   0.000   0.000   0.000\n",
       "73558   2.000   0.000   0.000   0.000   0.000   0.000   0.000   0.000   0.000\n",
       "73559   0.000   0.000   0.000   0.000   0.000   0.000   0.000   0.000   0.000\n",
       "73561   2.000   1.000   0.000   3.000   3.000   0.000   0.000   0.000   0.000\n",
       "73562   3.000   3.000   3.000   3.000   3.000   1.000   2.000   1.000   0.000"
      ]
     },
     "execution_count": 186,
     "metadata": {},
     "output_type": "execute_result"
    }
   ],
   "source": [
    "df_target.head()"
   ]
  },
  {
   "cell_type": "code",
   "execution_count": 187,
   "metadata": {
    "ExecuteTime": {
     "end_time": "2021-02-09T05:03:39.566733Z",
     "start_time": "2021-02-09T05:03:39.471802Z"
    }
   },
   "outputs": [
    {
     "name": "stdout",
     "output_type": "stream",
     "text": [
      "<class 'pandas.core.frame.DataFrame'>\n",
      "Int64Index: 11659 entries, 73557 to 93702\n",
      "Data columns (total 9 columns):\n",
      " #   Column  Non-Null Count  Dtype  \n",
      "---  ------  --------------  -----  \n",
      " 0   DPQ010  10562 non-null  float64\n",
      " 1   DPQ020  10560 non-null  float64\n",
      " 2   DPQ030  10559 non-null  float64\n",
      " 3   DPQ040  10557 non-null  float64\n",
      " 4   DPQ050  10557 non-null  float64\n",
      " 5   DPQ060  10556 non-null  float64\n",
      " 6   DPQ070  10555 non-null  float64\n",
      " 7   DPQ080  10555 non-null  float64\n",
      " 8   DPQ090  10554 non-null  float64\n",
      "dtypes: float64(9)\n",
      "memory usage: 910.9 KB\n"
     ]
    }
   ],
   "source": [
    "df_target.info()"
   ]
  },
  {
   "cell_type": "code",
   "execution_count": 188,
   "metadata": {
    "ExecuteTime": {
     "end_time": "2021-02-09T05:03:40.074723Z",
     "start_time": "2021-02-09T05:03:39.982825Z"
    }
   },
   "outputs": [
    {
     "data": {
      "text/plain": [
       "DPQ010    1097\n",
       "DPQ020    1099\n",
       "DPQ030    1100\n",
       "DPQ040    1102\n",
       "DPQ050    1102\n",
       "DPQ060    1103\n",
       "DPQ070    1104\n",
       "DPQ080    1104\n",
       "DPQ090    1105\n",
       "dtype: int64"
      ]
     },
     "execution_count": 188,
     "metadata": {},
     "output_type": "execute_result"
    }
   ],
   "source": [
    "# Checking the null values\n",
    "df_target.isna().sum()"
   ]
  },
  {
   "cell_type": "code",
   "execution_count": 189,
   "metadata": {
    "ExecuteTime": {
     "end_time": "2021-02-09T05:03:41.551766Z",
     "start_time": "2021-02-09T05:03:40.758806Z"
    }
   },
   "outputs": [
    {
     "data": {
      "image/png": "[encoded data removed]",
      "text/plain": [
       "<Figure size 1800x720 with 2 Axes>"
      ]
     },
     "metadata": {},
     "output_type": "display_data"
    }
   ],
   "source": [
    "# Looking at the pattern of null values\n",
    "import missingno as ms\n",
    "ms.matrix(df_target);"
   ]
  },
  {
   "cell_type": "code",
   "execution_count": 190,
   "metadata": {
    "ExecuteTime": {
     "end_time": "2021-02-09T05:03:41.674800Z",
     "start_time": "2021-02-09T05:03:41.554721Z"
    }
   },
   "outputs": [],
   "source": [
    "# Removing all null entries\n",
    "df_target.dropna(inplace=True)"
   ]
  },
  {
   "cell_type": "code",
   "execution_count": 191,
   "metadata": {
    "ExecuteTime": {
     "end_time": "2021-02-09T05:03:41.867719Z",
     "start_time": "2021-02-09T05:03:41.752811Z"
    }
   },
   "outputs": [
    {
     "name": "stdout",
     "output_type": "stream",
     "text": [
      "<class 'pandas.core.frame.DataFrame'>\n",
      "Int64Index: 10554 entries, 73557 to 93702\n",
      "Data columns (total 9 columns):\n",
      " #   Column  Non-Null Count  Dtype  \n",
      "---  ------  --------------  -----  \n",
      " 0   DPQ010  10554 non-null  float64\n",
      " 1   DPQ020  10554 non-null  float64\n",
      " 2   DPQ030  10554 non-null  float64\n",
      " 3   DPQ040  10554 non-null  float64\n",
      " 4   DPQ050  10554 non-null  float64\n",
      " 5   DPQ060  10554 non-null  float64\n",
      " 6   DPQ070  10554 non-null  float64\n",
      " 7   DPQ080  10554 non-null  float64\n",
      " 8   DPQ090  10554 non-null  float64\n",
      "dtypes: float64(9)\n",
      "memory usage: 824.5 KB\n"
     ]
    }
   ],
   "source": [
    "# Checking for null values and how many entries are left\n",
    "df_target.info()"
   ]
  },
  {
   "cell_type": "code",
   "execution_count": 192,
   "metadata": {
    "ExecuteTime": {
     "end_time": "2021-02-09T05:03:42.483721Z",
     "start_time": "2021-02-09T05:03:42.371804Z"
    }
   },
   "outputs": [
    {
     "data": {
      "text/html": [
       "<div>\n",
       "<style scoped>\n",
       "    .dataframe tbody tr th:only-of-type {\n",
       "        vertical-align: middle;\n",
       "    }\n",
       "\n",
       "    .dataframe tbody tr th {\n",
       "        vertical-align: top;\n",
       "    }\n",
       "\n",
       "    .dataframe thead th {\n",
       "        text-align: right;\n",
       "    }\n",
       "</style>\n",
       "<table border=\"1\" class=\"dataframe\">\n",
       "  <thead>\n",
       "    <tr style=\"text-align: right;\">\n",
       "      <th></th>\n",
       "      <th>DPQ010</th>\n",
       "      <th>DPQ020</th>\n",
       "      <th>DPQ030</th>\n",
       "      <th>DPQ040</th>\n",
       "      <th>DPQ050</th>\n",
       "      <th>DPQ060</th>\n",
       "      <th>DPQ070</th>\n",
       "      <th>DPQ080</th>\n",
       "      <th>DPQ090</th>\n",
       "    </tr>\n",
       "    <tr>\n",
       "      <th>SEQN</th>\n",
       "      <th></th>\n",
       "      <th></th>\n",
       "      <th></th>\n",
       "      <th></th>\n",
       "      <th></th>\n",
       "      <th></th>\n",
       "      <th></th>\n",
       "      <th></th>\n",
       "      <th></th>\n",
       "    </tr>\n",
       "  </thead>\n",
       "  <tbody>\n",
       "    <tr>\n",
       "      <th>73557</th>\n",
       "      <td>1.000</td>\n",
       "      <td>0.000</td>\n",
       "      <td>0.000</td>\n",
       "      <td>0.000</td>\n",
       "      <td>0.000</td>\n",
       "      <td>0.000</td>\n",
       "      <td>0.000</td>\n",
       "      <td>0.000</td>\n",
       "      <td>0.000</td>\n",
       "    </tr>\n",
       "    <tr>\n",
       "      <th>73558</th>\n",
       "      <td>2.000</td>\n",
       "      <td>0.000</td>\n",
       "      <td>0.000</td>\n",
       "      <td>0.000</td>\n",
       "      <td>0.000</td>\n",
       "      <td>0.000</td>\n",
       "      <td>0.000</td>\n",
       "      <td>0.000</td>\n",
       "      <td>0.000</td>\n",
       "    </tr>\n",
       "    <tr>\n",
       "      <th>73559</th>\n",
       "      <td>0.000</td>\n",
       "      <td>0.000</td>\n",
       "      <td>0.000</td>\n",
       "      <td>0.000</td>\n",
       "      <td>0.000</td>\n",
       "      <td>0.000</td>\n",
       "      <td>0.000</td>\n",
       "      <td>0.000</td>\n",
       "      <td>0.000</td>\n",
       "    </tr>\n",
       "    <tr>\n",
       "      <th>73561</th>\n",
       "      <td>2.000</td>\n",
       "      <td>1.000</td>\n",
       "      <td>0.000</td>\n",
       "      <td>3.000</td>\n",
       "      <td>3.000</td>\n",
       "      <td>0.000</td>\n",
       "      <td>0.000</td>\n",
       "      <td>0.000</td>\n",
       "      <td>0.000</td>\n",
       "    </tr>\n",
       "    <tr>\n",
       "      <th>73562</th>\n",
       "      <td>3.000</td>\n",
       "      <td>3.000</td>\n",
       "      <td>3.000</td>\n",
       "      <td>3.000</td>\n",
       "      <td>3.000</td>\n",
       "      <td>1.000</td>\n",
       "      <td>2.000</td>\n",
       "      <td>1.000</td>\n",
       "      <td>0.000</td>\n",
       "    </tr>\n",
       "  </tbody>\n",
       "</table>\n",
       "</div>"
      ],
      "text/plain": [
       "       DPQ010  DPQ020  DPQ030  DPQ040  DPQ050  DPQ060  DPQ070  DPQ080  DPQ090\n",
       "SEQN                                                                         \n",
       "73557   1.000   0.000   0.000   0.000   0.000   0.000   0.000   0.000   0.000\n",
       "73558   2.000   0.000   0.000   0.000   0.000   0.000   0.000   0.000   0.000\n",
       "73559   0.000   0.000   0.000   0.000   0.000   0.000   0.000   0.000   0.000\n",
       "73561   2.000   1.000   0.000   3.000   3.000   0.000   0.000   0.000   0.000\n",
       "73562   3.000   3.000   3.000   3.000   3.000   1.000   2.000   1.000   0.000"
      ]
     },
     "execution_count": 192,
     "metadata": {},
     "output_type": "execute_result"
    }
   ],
   "source": [
    "df_target.head()"
   ]
  },
  {
   "cell_type": "code",
   "execution_count": 193,
   "metadata": {
    "ExecuteTime": {
     "end_time": "2021-02-09T05:03:42.946805Z",
     "start_time": "2021-02-09T05:03:42.854720Z"
    }
   },
   "outputs": [
    {
     "data": {
      "text/markdown": [
       "```python\n",
       "def val_counts(df):\n",
       "    '''\n",
       "    Display value counts for all the columns in a DataFrame.\n",
       "\n",
       "    Args:\n",
       "        df (DataFrame): DataFrame to perform .value_counts() on each column. \n",
       "\n",
       "    Returns:\n",
       "        Value counts for each column with some visual cues between columns.\n",
       "    '''\n",
       "\n",
       "    for col in df.columns:\n",
       "        print(f'{col} value counts', '\\n')\n",
       "        display(df[col].value_counts(dropna=False))\n",
       "        print('--------------------------------------')\n",
       "\n",
       "```"
      ],
      "text/plain": [
       "<IPython.core.display.Markdown object>"
      ]
     },
     "metadata": {},
     "output_type": "display_data"
    }
   ],
   "source": [
    "# Looking at function that performs .value_counts()\n",
    "func = inspect.getsource(pf.val_counts)\n",
    "display(Markdown(\"```python\\n\"+func+\"\\n```\"))"
   ]
  },
  {
   "cell_type": "code",
   "execution_count": 194,
   "metadata": {
    "ExecuteTime": {
     "end_time": "2021-02-09T05:03:43.647723Z",
     "start_time": "2021-02-09T05:03:43.517720Z"
    },
    "scrolled": true
   },
   "outputs": [
    {
     "name": "stdout",
     "output_type": "stream",
     "text": [
      "DPQ010 value counts \n",
      "\n"
     ]
    },
    {
     "data": {
      "text/plain": [
       "0.000    7779\n",
       "1.000    1731\n",
       "2.000     547\n",
       "3.000     480\n",
       "9.000      10\n",
       "7.000       7\n",
       "Name: DPQ010, dtype: int64"
      ]
     },
     "metadata": {},
     "output_type": "display_data"
    },
    {
     "name": "stdout",
     "output_type": "stream",
     "text": [
      "--------------------------------------\n",
      "DPQ020 value counts \n",
      "\n"
     ]
    },
    {
     "data": {
      "text/plain": [
       "0.000    7988\n",
       "1.000    1775\n",
       "2.000     422\n",
       "3.000     361\n",
       "7.000       5\n",
       "9.000       3\n",
       "Name: DPQ020, dtype: int64"
      ]
     },
     "metadata": {},
     "output_type": "display_data"
    },
    {
     "name": "stdout",
     "output_type": "stream",
     "text": [
      "--------------------------------------\n",
      "DPQ030 value counts \n",
      "\n"
     ]
    },
    {
     "data": {
      "text/plain": [
       "0.000    6603\n",
       "1.000    2322\n",
       "3.000     920\n",
       "2.000     705\n",
       "7.000       2\n",
       "9.000       2\n",
       "Name: DPQ030, dtype: int64"
      ]
     },
     "metadata": {},
     "output_type": "display_data"
    },
    {
     "name": "stdout",
     "output_type": "stream",
     "text": [
      "--------------------------------------\n",
      "DPQ040 value counts \n",
      "\n"
     ]
    },
    {
     "data": {
      "text/plain": [
       "0.000    5113\n",
       "1.000    3622\n",
       "3.000     930\n",
       "2.000     887\n",
       "7.000       2\n",
       "Name: DPQ040, dtype: int64"
      ]
     },
     "metadata": {},
     "output_type": "display_data"
    },
    {
     "name": "stdout",
     "output_type": "stream",
     "text": [
      "--------------------------------------\n",
      "DPQ050 value counts \n",
      "\n"
     ]
    },
    {
     "data": {
      "text/plain": [
       "0.000    7845\n",
       "1.000    1699\n",
       "2.000     519\n",
       "3.000     485\n",
       "9.000       6\n",
       "Name: DPQ050, dtype: int64"
      ]
     },
     "metadata": {},
     "output_type": "display_data"
    },
    {
     "name": "stdout",
     "output_type": "stream",
     "text": [
      "--------------------------------------\n",
      "DPQ060 value counts \n",
      "\n"
     ]
    },
    {
     "data": {
      "text/plain": [
       "0.000    8768\n",
       "1.000    1176\n",
       "3.000     303\n",
       "2.000     301\n",
       "9.000       5\n",
       "7.000       1\n",
       "Name: DPQ060, dtype: int64"
      ]
     },
     "metadata": {},
     "output_type": "display_data"
    },
    {
     "name": "stdout",
     "output_type": "stream",
     "text": [
      "--------------------------------------\n",
      "DPQ070 value counts \n",
      "\n"
     ]
    },
    {
     "data": {
      "text/plain": [
       "0.000    8744\n",
       "1.000    1109\n",
       "3.000     356\n",
       "2.000     340\n",
       "9.000       4\n",
       "7.000       1\n",
       "Name: DPQ070, dtype: int64"
      ]
     },
     "metadata": {},
     "output_type": "display_data"
    },
    {
     "name": "stdout",
     "output_type": "stream",
     "text": [
      "--------------------------------------\n",
      "DPQ080 value counts \n",
      "\n"
     ]
    },
    {
     "data": {
      "text/plain": [
       "0.000    9397\n",
       "1.000     715\n",
       "2.000     234\n",
       "3.000     202\n",
       "9.000       5\n",
       "7.000       1\n",
       "Name: DPQ080, dtype: int64"
      ]
     },
     "metadata": {},
     "output_type": "display_data"
    },
    {
     "name": "stdout",
     "output_type": "stream",
     "text": [
      "--------------------------------------\n",
      "DPQ090 value counts \n",
      "\n"
     ]
    },
    {
     "data": {
      "text/plain": [
       "0.000    10169\n",
       "1.000      248\n",
       "2.000       68\n",
       "3.000       62\n",
       "9.000        5\n",
       "7.000        2\n",
       "Name: DPQ090, dtype: int64"
      ]
     },
     "metadata": {},
     "output_type": "display_data"
    },
    {
     "name": "stdout",
     "output_type": "stream",
     "text": [
      "--------------------------------------\n"
     ]
    }
   ],
   "source": [
    "# Looking at the values for the columns\n",
    "pf.val_counts(df_target)"
   ]
  },
  {
   "cell_type": "code",
   "execution_count": 195,
   "metadata": {
    "ExecuteTime": {
     "end_time": "2021-02-09T05:03:44.176819Z",
     "start_time": "2021-02-09T05:03:44.082720Z"
    }
   },
   "outputs": [],
   "source": [
    "# Removing the entries that contain ambiguous answers(7 and 9)\n",
    "df_target = df_target[(df_target != 7) & (df_target != 9)]"
   ]
  },
  {
   "cell_type": "code",
   "execution_count": 196,
   "metadata": {
    "ExecuteTime": {
     "end_time": "2021-02-09T05:03:44.731811Z",
     "start_time": "2021-02-09T05:03:44.631717Z"
    }
   },
   "outputs": [
    {
     "data": {
      "text/html": [
       "<div>\n",
       "<style scoped>\n",
       "    .dataframe tbody tr th:only-of-type {\n",
       "        vertical-align: middle;\n",
       "    }\n",
       "\n",
       "    .dataframe tbody tr th {\n",
       "        vertical-align: top;\n",
       "    }\n",
       "\n",
       "    .dataframe thead th {\n",
       "        text-align: right;\n",
       "    }\n",
       "</style>\n",
       "<table border=\"1\" class=\"dataframe\">\n",
       "  <thead>\n",
       "    <tr style=\"text-align: right;\">\n",
       "      <th></th>\n",
       "      <th>DPQ010</th>\n",
       "      <th>DPQ020</th>\n",
       "      <th>DPQ030</th>\n",
       "      <th>DPQ040</th>\n",
       "      <th>DPQ050</th>\n",
       "      <th>DPQ060</th>\n",
       "      <th>DPQ070</th>\n",
       "      <th>DPQ080</th>\n",
       "      <th>DPQ090</th>\n",
       "    </tr>\n",
       "    <tr>\n",
       "      <th>SEQN</th>\n",
       "      <th></th>\n",
       "      <th></th>\n",
       "      <th></th>\n",
       "      <th></th>\n",
       "      <th></th>\n",
       "      <th></th>\n",
       "      <th></th>\n",
       "      <th></th>\n",
       "      <th></th>\n",
       "    </tr>\n",
       "  </thead>\n",
       "  <tbody>\n",
       "    <tr>\n",
       "      <th>73557</th>\n",
       "      <td>1.000</td>\n",
       "      <td>0.000</td>\n",
       "      <td>0.000</td>\n",
       "      <td>0.000</td>\n",
       "      <td>0.000</td>\n",
       "      <td>0.000</td>\n",
       "      <td>0.000</td>\n",
       "      <td>0.000</td>\n",
       "      <td>0.000</td>\n",
       "    </tr>\n",
       "    <tr>\n",
       "      <th>73558</th>\n",
       "      <td>2.000</td>\n",
       "      <td>0.000</td>\n",
       "      <td>0.000</td>\n",
       "      <td>0.000</td>\n",
       "      <td>0.000</td>\n",
       "      <td>0.000</td>\n",
       "      <td>0.000</td>\n",
       "      <td>0.000</td>\n",
       "      <td>0.000</td>\n",
       "    </tr>\n",
       "    <tr>\n",
       "      <th>73559</th>\n",
       "      <td>0.000</td>\n",
       "      <td>0.000</td>\n",
       "      <td>0.000</td>\n",
       "      <td>0.000</td>\n",
       "      <td>0.000</td>\n",
       "      <td>0.000</td>\n",
       "      <td>0.000</td>\n",
       "      <td>0.000</td>\n",
       "      <td>0.000</td>\n",
       "    </tr>\n",
       "    <tr>\n",
       "      <th>73561</th>\n",
       "      <td>2.000</td>\n",
       "      <td>1.000</td>\n",
       "      <td>0.000</td>\n",
       "      <td>3.000</td>\n",
       "      <td>3.000</td>\n",
       "      <td>0.000</td>\n",
       "      <td>0.000</td>\n",
       "      <td>0.000</td>\n",
       "      <td>0.000</td>\n",
       "    </tr>\n",
       "    <tr>\n",
       "      <th>73562</th>\n",
       "      <td>3.000</td>\n",
       "      <td>3.000</td>\n",
       "      <td>3.000</td>\n",
       "      <td>3.000</td>\n",
       "      <td>3.000</td>\n",
       "      <td>1.000</td>\n",
       "      <td>2.000</td>\n",
       "      <td>1.000</td>\n",
       "      <td>0.000</td>\n",
       "    </tr>\n",
       "  </tbody>\n",
       "</table>\n",
       "</div>"
      ],
      "text/plain": [
       "       DPQ010  DPQ020  DPQ030  DPQ040  DPQ050  DPQ060  DPQ070  DPQ080  DPQ090\n",
       "SEQN                                                                         \n",
       "73557   1.000   0.000   0.000   0.000   0.000   0.000   0.000   0.000   0.000\n",
       "73558   2.000   0.000   0.000   0.000   0.000   0.000   0.000   0.000   0.000\n",
       "73559   0.000   0.000   0.000   0.000   0.000   0.000   0.000   0.000   0.000\n",
       "73561   2.000   1.000   0.000   3.000   3.000   0.000   0.000   0.000   0.000\n",
       "73562   3.000   3.000   3.000   3.000   3.000   1.000   2.000   1.000   0.000"
      ]
     },
     "execution_count": 196,
     "metadata": {},
     "output_type": "execute_result"
    }
   ],
   "source": [
    "df_target.head()"
   ]
  },
  {
   "cell_type": "code",
   "execution_count": 197,
   "metadata": {
    "ExecuteTime": {
     "end_time": "2021-02-09T05:03:45.376798Z",
     "start_time": "2021-02-09T05:03:45.246732Z"
    },
    "scrolled": true
   },
   "outputs": [
    {
     "name": "stdout",
     "output_type": "stream",
     "text": [
      "DPQ010 value counts \n",
      "\n"
     ]
    },
    {
     "data": {
      "text/plain": [
       "0.000    7779\n",
       "1.000    1731\n",
       "2.000     547\n",
       "3.000     480\n",
       "NaN        17\n",
       "Name: DPQ010, dtype: int64"
      ]
     },
     "metadata": {},
     "output_type": "display_data"
    },
    {
     "name": "stdout",
     "output_type": "stream",
     "text": [
      "--------------------------------------\n",
      "DPQ020 value counts \n",
      "\n"
     ]
    },
    {
     "data": {
      "text/plain": [
       "0.000    7988\n",
       "1.000    1775\n",
       "2.000     422\n",
       "3.000     361\n",
       "NaN         8\n",
       "Name: DPQ020, dtype: int64"
      ]
     },
     "metadata": {},
     "output_type": "display_data"
    },
    {
     "name": "stdout",
     "output_type": "stream",
     "text": [
      "--------------------------------------\n",
      "DPQ030 value counts \n",
      "\n"
     ]
    },
    {
     "data": {
      "text/plain": [
       "0.000    6603\n",
       "1.000    2322\n",
       "3.000     920\n",
       "2.000     705\n",
       "NaN         4\n",
       "Name: DPQ030, dtype: int64"
      ]
     },
     "metadata": {},
     "output_type": "display_data"
    },
    {
     "name": "stdout",
     "output_type": "stream",
     "text": [
      "--------------------------------------\n",
      "DPQ040 value counts \n",
      "\n"
     ]
    },
    {
     "data": {
      "text/plain": [
       "0.000    5113\n",
       "1.000    3622\n",
       "3.000     930\n",
       "2.000     887\n",
       "NaN         2\n",
       "Name: DPQ040, dtype: int64"
      ]
     },
     "metadata": {},
     "output_type": "display_data"
    },
    {
     "name": "stdout",
     "output_type": "stream",
     "text": [
      "--------------------------------------\n",
      "DPQ050 value counts \n",
      "\n"
     ]
    },
    {
     "data": {
      "text/plain": [
       "0.000    7845\n",
       "1.000    1699\n",
       "2.000     519\n",
       "3.000     485\n",
       "NaN         6\n",
       "Name: DPQ050, dtype: int64"
      ]
     },
     "metadata": {},
     "output_type": "display_data"
    },
    {
     "name": "stdout",
     "output_type": "stream",
     "text": [
      "--------------------------------------\n",
      "DPQ060 value counts \n",
      "\n"
     ]
    },
    {
     "data": {
      "text/plain": [
       "0.000    8768\n",
       "1.000    1176\n",
       "3.000     303\n",
       "2.000     301\n",
       "NaN         6\n",
       "Name: DPQ060, dtype: int64"
      ]
     },
     "metadata": {},
     "output_type": "display_data"
    },
    {
     "name": "stdout",
     "output_type": "stream",
     "text": [
      "--------------------------------------\n",
      "DPQ070 value counts \n",
      "\n"
     ]
    },
    {
     "data": {
      "text/plain": [
       "0.000    8744\n",
       "1.000    1109\n",
       "3.000     356\n",
       "2.000     340\n",
       "NaN         5\n",
       "Name: DPQ070, dtype: int64"
      ]
     },
     "metadata": {},
     "output_type": "display_data"
    },
    {
     "name": "stdout",
     "output_type": "stream",
     "text": [
      "--------------------------------------\n",
      "DPQ080 value counts \n",
      "\n"
     ]
    },
    {
     "data": {
      "text/plain": [
       "0.000    9397\n",
       "1.000     715\n",
       "2.000     234\n",
       "3.000     202\n",
       "NaN         6\n",
       "Name: DPQ080, dtype: int64"
      ]
     },
     "metadata": {},
     "output_type": "display_data"
    },
    {
     "name": "stdout",
     "output_type": "stream",
     "text": [
      "--------------------------------------\n",
      "DPQ090 value counts \n",
      "\n"
     ]
    },
    {
     "data": {
      "text/plain": [
       "0.000    10169\n",
       "1.000      248\n",
       "2.000       68\n",
       "3.000       62\n",
       "NaN          7\n",
       "Name: DPQ090, dtype: int64"
      ]
     },
     "metadata": {},
     "output_type": "display_data"
    },
    {
     "name": "stdout",
     "output_type": "stream",
     "text": [
      "--------------------------------------\n"
     ]
    }
   ],
   "source": [
    "# Checking that the 7s and 9s are removed\n",
    "pf.val_counts(df_target)"
   ]
  },
  {
   "cell_type": "code",
   "execution_count": 198,
   "metadata": {
    "ExecuteTime": {
     "end_time": "2021-02-09T05:03:45.892717Z",
     "start_time": "2021-02-09T05:03:45.799803Z"
    }
   },
   "outputs": [
    {
     "name": "stdout",
     "output_type": "stream",
     "text": [
      "<class 'pandas.core.frame.DataFrame'>\n",
      "Int64Index: 10554 entries, 73557 to 93702\n",
      "Data columns (total 9 columns):\n",
      " #   Column  Non-Null Count  Dtype  \n",
      "---  ------  --------------  -----  \n",
      " 0   DPQ010  10537 non-null  float64\n",
      " 1   DPQ020  10546 non-null  float64\n",
      " 2   DPQ030  10550 non-null  float64\n",
      " 3   DPQ040  10552 non-null  float64\n",
      " 4   DPQ050  10548 non-null  float64\n",
      " 5   DPQ060  10548 non-null  float64\n",
      " 6   DPQ070  10549 non-null  float64\n",
      " 7   DPQ080  10548 non-null  float64\n",
      " 8   DPQ090  10547 non-null  float64\n",
      "dtypes: float64(9)\n",
      "memory usage: 824.5 KB\n"
     ]
    }
   ],
   "source": [
    "# Checking the entries\n",
    "df_target.info()"
   ]
  },
  {
   "cell_type": "code",
   "execution_count": 199,
   "metadata": {
    "ExecuteTime": {
     "end_time": "2021-02-09T05:03:46.405726Z",
     "start_time": "2021-02-09T05:03:46.318805Z"
    }
   },
   "outputs": [
    {
     "data": {
      "text/plain": [
       "DPQ010    17\n",
       "DPQ020     8\n",
       "DPQ030     4\n",
       "DPQ040     2\n",
       "DPQ050     6\n",
       "DPQ060     6\n",
       "DPQ070     5\n",
       "DPQ080     6\n",
       "DPQ090     7\n",
       "dtype: int64"
      ]
     },
     "execution_count": 199,
     "metadata": {},
     "output_type": "execute_result"
    }
   ],
   "source": [
    "# Looking at null values\n",
    "df_target.isna().sum()"
   ]
  },
  {
   "cell_type": "code",
   "execution_count": 200,
   "metadata": {
    "ExecuteTime": {
     "end_time": "2021-02-09T05:03:47.403724Z",
     "start_time": "2021-02-09T05:03:46.837826Z"
    }
   },
   "outputs": [
    {
     "data": {
      "image/png": "[encoded data removed]",
      "text/plain": [
       "<Figure size 1800x720 with 2 Axes>"
      ]
     },
     "metadata": {},
     "output_type": "display_data"
    }
   ],
   "source": [
    "# Visualizing null values\n",
    "ms.matrix(df_target);"
   ]
  },
  {
   "cell_type": "code",
   "execution_count": 201,
   "metadata": {
    "ExecuteTime": {
     "end_time": "2021-02-09T05:03:47.510721Z",
     "start_time": "2021-02-09T05:03:47.406718Z"
    }
   },
   "outputs": [],
   "source": [
    "# Dropping null values\n",
    "df_target.dropna(inplace=True)"
   ]
  },
  {
   "cell_type": "code",
   "execution_count": 202,
   "metadata": {
    "ExecuteTime": {
     "end_time": "2021-02-09T05:03:47.673725Z",
     "start_time": "2021-02-09T05:03:47.572813Z"
    }
   },
   "outputs": [
    {
     "name": "stdout",
     "output_type": "stream",
     "text": [
      "<class 'pandas.core.frame.DataFrame'>\n",
      "Int64Index: 10506 entries, 73557 to 93702\n",
      "Data columns (total 9 columns):\n",
      " #   Column  Non-Null Count  Dtype  \n",
      "---  ------  --------------  -----  \n",
      " 0   DPQ010  10506 non-null  float64\n",
      " 1   DPQ020  10506 non-null  float64\n",
      " 2   DPQ030  10506 non-null  float64\n",
      " 3   DPQ040  10506 non-null  float64\n",
      " 4   DPQ050  10506 non-null  float64\n",
      " 5   DPQ060  10506 non-null  float64\n",
      " 6   DPQ070  10506 non-null  float64\n",
      " 7   DPQ080  10506 non-null  float64\n",
      " 8   DPQ090  10506 non-null  float64\n",
      "dtypes: float64(9)\n",
      "memory usage: 820.8 KB\n"
     ]
    }
   ],
   "source": [
    "# Checking entries and columns\n",
    "df_target.info()"
   ]
  },
  {
   "cell_type": "code",
   "execution_count": 203,
   "metadata": {
    "ExecuteTime": {
     "end_time": "2021-02-09T05:03:48.288723Z",
     "start_time": "2021-02-09T05:03:48.157722Z"
    }
   },
   "outputs": [],
   "source": [
    "# Castin all the columns to be int type\n",
    "df_target = df_target.astype('int64')"
   ]
  },
  {
   "cell_type": "code",
   "execution_count": 204,
   "metadata": {
    "ExecuteTime": {
     "end_time": "2021-02-09T05:03:48.690763Z",
     "start_time": "2021-02-09T05:03:48.571763Z"
    }
   },
   "outputs": [
    {
     "data": {
      "text/html": [
       "<div>\n",
       "<style scoped>\n",
       "    .dataframe tbody tr th:only-of-type {\n",
       "        vertical-align: middle;\n",
       "    }\n",
       "\n",
       "    .dataframe tbody tr th {\n",
       "        vertical-align: top;\n",
       "    }\n",
       "\n",
       "    .dataframe thead th {\n",
       "        text-align: right;\n",
       "    }\n",
       "</style>\n",
       "<table border=\"1\" class=\"dataframe\">\n",
       "  <thead>\n",
       "    <tr style=\"text-align: right;\">\n",
       "      <th></th>\n",
       "      <th>DPQ010</th>\n",
       "      <th>DPQ020</th>\n",
       "      <th>DPQ030</th>\n",
       "      <th>DPQ040</th>\n",
       "      <th>DPQ050</th>\n",
       "      <th>DPQ060</th>\n",
       "      <th>DPQ070</th>\n",
       "      <th>DPQ080</th>\n",
       "      <th>DPQ090</th>\n",
       "    </tr>\n",
       "    <tr>\n",
       "      <th>SEQN</th>\n",
       "      <th></th>\n",
       "      <th></th>\n",
       "      <th></th>\n",
       "      <th></th>\n",
       "      <th></th>\n",
       "      <th></th>\n",
       "      <th></th>\n",
       "      <th></th>\n",
       "      <th></th>\n",
       "    </tr>\n",
       "  </thead>\n",
       "  <tbody>\n",
       "    <tr>\n",
       "      <th>73557</th>\n",
       "      <td>1</td>\n",
       "      <td>0</td>\n",
       "      <td>0</td>\n",
       "      <td>0</td>\n",
       "      <td>0</td>\n",
       "      <td>0</td>\n",
       "      <td>0</td>\n",
       "      <td>0</td>\n",
       "      <td>0</td>\n",
       "    </tr>\n",
       "    <tr>\n",
       "      <th>73558</th>\n",
       "      <td>2</td>\n",
       "      <td>0</td>\n",
       "      <td>0</td>\n",
       "      <td>0</td>\n",
       "      <td>0</td>\n",
       "      <td>0</td>\n",
       "      <td>0</td>\n",
       "      <td>0</td>\n",
       "      <td>0</td>\n",
       "    </tr>\n",
       "    <tr>\n",
       "      <th>73559</th>\n",
       "      <td>0</td>\n",
       "      <td>0</td>\n",
       "      <td>0</td>\n",
       "      <td>0</td>\n",
       "      <td>0</td>\n",
       "      <td>0</td>\n",
       "      <td>0</td>\n",
       "      <td>0</td>\n",
       "      <td>0</td>\n",
       "    </tr>\n",
       "    <tr>\n",
       "      <th>73561</th>\n",
       "      <td>2</td>\n",
       "      <td>1</td>\n",
       "      <td>0</td>\n",
       "      <td>3</td>\n",
       "      <td>3</td>\n",
       "      <td>0</td>\n",
       "      <td>0</td>\n",
       "      <td>0</td>\n",
       "      <td>0</td>\n",
       "    </tr>\n",
       "    <tr>\n",
       "      <th>73562</th>\n",
       "      <td>3</td>\n",
       "      <td>3</td>\n",
       "      <td>3</td>\n",
       "      <td>3</td>\n",
       "      <td>3</td>\n",
       "      <td>1</td>\n",
       "      <td>2</td>\n",
       "      <td>1</td>\n",
       "      <td>0</td>\n",
       "    </tr>\n",
       "  </tbody>\n",
       "</table>\n",
       "</div>"
      ],
      "text/plain": [
       "       DPQ010  DPQ020  DPQ030  DPQ040  DPQ050  DPQ060  DPQ070  DPQ080  DPQ090\n",
       "SEQN                                                                         \n",
       "73557       1       0       0       0       0       0       0       0       0\n",
       "73558       2       0       0       0       0       0       0       0       0\n",
       "73559       0       0       0       0       0       0       0       0       0\n",
       "73561       2       1       0       3       3       0       0       0       0\n",
       "73562       3       3       3       3       3       1       2       1       0"
      ]
     },
     "execution_count": 204,
     "metadata": {},
     "output_type": "execute_result"
    }
   ],
   "source": [
    "df_target.head()"
   ]
  },
  {
   "cell_type": "code",
   "execution_count": 205,
   "metadata": {
    "ExecuteTime": {
     "end_time": "2021-02-09T05:03:49.135716Z",
     "start_time": "2021-02-09T05:03:49.043806Z"
    }
   },
   "outputs": [],
   "source": [
    "# Summing all the entries across each row\n",
    "df_target['Total'] = df_target.sum(axis=1)"
   ]
  },
  {
   "cell_type": "code",
   "execution_count": 206,
   "metadata": {
    "ExecuteTime": {
     "end_time": "2021-02-09T05:03:49.494724Z",
     "start_time": "2021-02-09T05:03:49.385740Z"
    }
   },
   "outputs": [
    {
     "data": {
      "text/html": [
       "<div>\n",
       "<style scoped>\n",
       "    .dataframe tbody tr th:only-of-type {\n",
       "        vertical-align: middle;\n",
       "    }\n",
       "\n",
       "    .dataframe tbody tr th {\n",
       "        vertical-align: top;\n",
       "    }\n",
       "\n",
       "    .dataframe thead th {\n",
       "        text-align: right;\n",
       "    }\n",
       "</style>\n",
       "<table border=\"1\" class=\"dataframe\">\n",
       "  <thead>\n",
       "    <tr style=\"text-align: right;\">\n",
       "      <th></th>\n",
       "      <th>DPQ010</th>\n",
       "      <th>DPQ020</th>\n",
       "      <th>DPQ030</th>\n",
       "      <th>DPQ040</th>\n",
       "      <th>DPQ050</th>\n",
       "      <th>DPQ060</th>\n",
       "      <th>DPQ070</th>\n",
       "      <th>DPQ080</th>\n",
       "      <th>DPQ090</th>\n",
       "      <th>Total</th>\n",
       "    </tr>\n",
       "    <tr>\n",
       "      <th>SEQN</th>\n",
       "      <th></th>\n",
       "      <th></th>\n",
       "      <th></th>\n",
       "      <th></th>\n",
       "      <th></th>\n",
       "      <th></th>\n",
       "      <th></th>\n",
       "      <th></th>\n",
       "      <th></th>\n",
       "      <th></th>\n",
       "    </tr>\n",
       "  </thead>\n",
       "  <tbody>\n",
       "    <tr>\n",
       "      <th>73557</th>\n",
       "      <td>1</td>\n",
       "      <td>0</td>\n",
       "      <td>0</td>\n",
       "      <td>0</td>\n",
       "      <td>0</td>\n",
       "      <td>0</td>\n",
       "      <td>0</td>\n",
       "      <td>0</td>\n",
       "      <td>0</td>\n",
       "      <td>1</td>\n",
       "    </tr>\n",
       "    <tr>\n",
       "      <th>73558</th>\n",
       "      <td>2</td>\n",
       "      <td>0</td>\n",
       "      <td>0</td>\n",
       "      <td>0</td>\n",
       "      <td>0</td>\n",
       "      <td>0</td>\n",
       "      <td>0</td>\n",
       "      <td>0</td>\n",
       "      <td>0</td>\n",
       "      <td>2</td>\n",
       "    </tr>\n",
       "    <tr>\n",
       "      <th>73559</th>\n",
       "      <td>0</td>\n",
       "      <td>0</td>\n",
       "      <td>0</td>\n",
       "      <td>0</td>\n",
       "      <td>0</td>\n",
       "      <td>0</td>\n",
       "      <td>0</td>\n",
       "      <td>0</td>\n",
       "      <td>0</td>\n",
       "      <td>0</td>\n",
       "    </tr>\n",
       "    <tr>\n",
       "      <th>73561</th>\n",
       "      <td>2</td>\n",
       "      <td>1</td>\n",
       "      <td>0</td>\n",
       "      <td>3</td>\n",
       "      <td>3</td>\n",
       "      <td>0</td>\n",
       "      <td>0</td>\n",
       "      <td>0</td>\n",
       "      <td>0</td>\n",
       "      <td>9</td>\n",
       "    </tr>\n",
       "    <tr>\n",
       "      <th>73562</th>\n",
       "      <td>3</td>\n",
       "      <td>3</td>\n",
       "      <td>3</td>\n",
       "      <td>3</td>\n",
       "      <td>3</td>\n",
       "      <td>1</td>\n",
       "      <td>2</td>\n",
       "      <td>1</td>\n",
       "      <td>0</td>\n",
       "      <td>19</td>\n",
       "    </tr>\n",
       "  </tbody>\n",
       "</table>\n",
       "</div>"
      ],
      "text/plain": [
       "       DPQ010  DPQ020  DPQ030  DPQ040  ...  DPQ070  DPQ080  DPQ090  Total\n",
       "SEQN                                   ...                               \n",
       "73557       1       0       0       0  ...       0       0       0      1\n",
       "73558       2       0       0       0  ...       0       0       0      2\n",
       "73559       0       0       0       0  ...       0       0       0      0\n",
       "73561       2       1       0       3  ...       0       0       0      9\n",
       "73562       3       3       3       3  ...       2       1       0     19\n",
       "\n",
       "[5 rows x 10 columns]"
      ]
     },
     "execution_count": 206,
     "metadata": {},
     "output_type": "execute_result"
    }
   ],
   "source": [
    "df_target.head()"
   ]
  },
  {
   "cell_type": "code",
   "execution_count": 207,
   "metadata": {
    "ExecuteTime": {
     "end_time": "2021-02-09T05:03:49.915720Z",
     "start_time": "2021-02-09T05:03:49.831801Z"
    }
   },
   "outputs": [
    {
     "data": {
      "text/plain": [
       "0    0.313\n",
       "1    0.155\n",
       "2    0.124\n",
       "3    0.087\n",
       "4    0.067\n",
       "5    0.049\n",
       "6    0.041\n",
       "7    0.031\n",
       "8    0.023\n",
       "9    0.021\n",
       "10   0.016\n",
       "12   0.011\n",
       "11   0.010\n",
       "13   0.009\n",
       "14   0.008\n",
       "16   0.006\n",
       "15   0.005\n",
       "18   0.004\n",
       "17   0.004\n",
       "19   0.004\n",
       "20   0.002\n",
       "21   0.002\n",
       "22   0.002\n",
       "24   0.002\n",
       "23   0.001\n",
       "25   0.001\n",
       "27   0.000\n",
       "26   0.000\n",
       "Name: Total, dtype: float64"
      ]
     },
     "execution_count": 207,
     "metadata": {},
     "output_type": "execute_result"
    }
   ],
   "source": [
    "# Looking at the totals\n",
    "df_target.Total.value_counts(1)"
   ]
  },
  {
   "cell_type": "code",
   "execution_count": 208,
   "metadata": {
    "ExecuteTime": {
     "end_time": "2021-02-09T05:03:51.103605Z",
     "start_time": "2021-02-09T05:03:51.012521Z"
    }
   },
   "outputs": [],
   "source": [
    "# Creating the target column based on the value in the total column\n",
    "df_target['depression'] = df_target.Total.apply(\n",
    "    lambda x: 'Not Depressed' if x<10 else 'Depressed')"
   ]
  },
  {
   "cell_type": "code",
   "execution_count": 209,
   "metadata": {
    "ExecuteTime": {
     "end_time": "2021-02-09T05:03:51.923520Z",
     "start_time": "2021-02-09T05:03:51.832608Z"
    }
   },
   "outputs": [
    {
     "data": {
      "text/plain": [
       "Not Depressed   0.912\n",
       "Depressed       0.088\n",
       "Name: depression, dtype: float64"
      ]
     },
     "execution_count": 209,
     "metadata": {},
     "output_type": "execute_result"
    }
   ],
   "source": [
    "# Looking at the target value counts\n",
    "df_target.depression.value_counts(1)"
   ]
  },
  {
   "cell_type": "code",
   "execution_count": 210,
   "metadata": {
    "ExecuteTime": {
     "end_time": "2021-02-09T05:03:52.471525Z",
     "start_time": "2021-02-09T05:03:52.373520Z"
    }
   },
   "outputs": [
    {
     "data": {
      "text/html": [
       "<div>\n",
       "<style scoped>\n",
       "    .dataframe tbody tr th:only-of-type {\n",
       "        vertical-align: middle;\n",
       "    }\n",
       "\n",
       "    .dataframe tbody tr th {\n",
       "        vertical-align: top;\n",
       "    }\n",
       "\n",
       "    .dataframe thead th {\n",
       "        text-align: right;\n",
       "    }\n",
       "</style>\n",
       "<table border=\"1\" class=\"dataframe\">\n",
       "  <thead>\n",
       "    <tr style=\"text-align: right;\">\n",
       "      <th></th>\n",
       "      <th>depression</th>\n",
       "    </tr>\n",
       "    <tr>\n",
       "      <th>SEQN</th>\n",
       "      <th></th>\n",
       "    </tr>\n",
       "  </thead>\n",
       "  <tbody>\n",
       "    <tr>\n",
       "      <th>73557</th>\n",
       "      <td>Not Depressed</td>\n",
       "    </tr>\n",
       "    <tr>\n",
       "      <th>73558</th>\n",
       "      <td>Not Depressed</td>\n",
       "    </tr>\n",
       "    <tr>\n",
       "      <th>73559</th>\n",
       "      <td>Not Depressed</td>\n",
       "    </tr>\n",
       "    <tr>\n",
       "      <th>73561</th>\n",
       "      <td>Not Depressed</td>\n",
       "    </tr>\n",
       "    <tr>\n",
       "      <th>73562</th>\n",
       "      <td>Depressed</td>\n",
       "    </tr>\n",
       "  </tbody>\n",
       "</table>\n",
       "</div>"
      ],
      "text/plain": [
       "          depression\n",
       "SEQN                \n",
       "73557  Not Depressed\n",
       "73558  Not Depressed\n",
       "73559  Not Depressed\n",
       "73561  Not Depressed\n",
       "73562      Depressed"
      ]
     },
     "execution_count": 210,
     "metadata": {},
     "output_type": "execute_result"
    }
   ],
   "source": [
    "# Slicing out only the target column into its own DataFrame\n",
    "target_clean = pd.DataFrame(df_target['depression'])\n",
    "target_clean.head()"
   ]
  },
  {
   "cell_type": "code",
   "execution_count": 211,
   "metadata": {
    "ExecuteTime": {
     "end_time": "2021-02-09T05:03:52.925522Z",
     "start_time": "2021-02-09T05:03:52.830540Z"
    }
   },
   "outputs": [
    {
     "name": "stdout",
     "output_type": "stream",
     "text": [
      "<class 'pandas.core.frame.DataFrame'>\n",
      "Int64Index: 10506 entries, 73557 to 93702\n",
      "Data columns (total 1 columns):\n",
      " #   Column      Non-Null Count  Dtype \n",
      "---  ------      --------------  ----- \n",
      " 0   depression  10506 non-null  object\n",
      "dtypes: object(1)\n",
      "memory usage: 164.2+ KB\n"
     ]
    }
   ],
   "source": [
    "# Checking that the DataFrame has the expected number of entries\n",
    "target_clean.info()"
   ]
  },
  {
   "cell_type": "code",
   "execution_count": 212,
   "metadata": {
    "ExecuteTime": {
     "end_time": "2021-02-09T05:03:53.265518Z",
     "start_time": "2021-02-09T05:03:53.170602Z"
    }
   },
   "outputs": [
    {
     "data": {
      "text/plain": [
       "Not Depressed   0.912\n",
       "Depressed       0.088\n",
       "Name: depression, dtype: float64"
      ]
     },
     "execution_count": 212,
     "metadata": {},
     "output_type": "execute_result"
    }
   ],
   "source": [
    "# Checking the values\n",
    "target_clean.depression.value_counts(1)"
   ]
  },
  {
   "cell_type": "markdown",
   "metadata": {},
   "source": [
    "# Demographic Data"
   ]
  },
  {
   "cell_type": "code",
   "execution_count": 213,
   "metadata": {
    "ExecuteTime": {
     "end_time": "2021-02-09T05:04:04.371063Z",
     "start_time": "2021-02-09T05:04:03.642140Z"
    }
   },
   "outputs": [
    {
     "data": {
      "text/plain": [
       "['C:/Users\\\\LaptopCheckout/Documents/CSCE_5210/dataDemogrophic\\\\DEMO_H.XPT',\n",
       " 'C:/Users\\\\LaptopCheckout/Documents/CSCE_5210/dataDemogrophic\\\\DEMO_I.XPT']"
      ]
     },
     "metadata": {},
     "output_type": "display_data"
    }
   ],
   "source": [
    "# Combining all the files for the demographic information\n",
    "path = r'C:/Users\\LaptopCheckout/Documents/CSCE_5210/dataDemogrophic'\n",
    "df_demo = pf.glob_concat(path, '*.XPT')"
   ]
  },
  {
   "cell_type": "code",
   "execution_count": 214,
   "metadata": {
    "ExecuteTime": {
     "end_time": "2021-02-09T05:04:04.544049Z",
     "start_time": "2021-02-09T05:04:04.392047Z"
    }
   },
   "outputs": [
    {
     "data": {
      "text/html": [
       "<div>\n",
       "<style scoped>\n",
       "    .dataframe tbody tr th:only-of-type {\n",
       "        vertical-align: middle;\n",
       "    }\n",
       "\n",
       "    .dataframe tbody tr th {\n",
       "        vertical-align: top;\n",
       "    }\n",
       "\n",
       "    .dataframe thead th {\n",
       "        text-align: right;\n",
       "    }\n",
       "</style>\n",
       "<table border=\"1\" class=\"dataframe\">\n",
       "  <thead>\n",
       "    <tr style=\"text-align: right;\">\n",
       "      <th></th>\n",
       "      <th>SDDSRVYR</th>\n",
       "      <th>RIDSTATR</th>\n",
       "      <th>RIAGENDR</th>\n",
       "      <th>RIDAGEYR</th>\n",
       "      <th>RIDAGEMN</th>\n",
       "      <th>RIDRETH1</th>\n",
       "      <th>RIDRETH3</th>\n",
       "      <th>RIDEXMON</th>\n",
       "      <th>RIDEXAGM</th>\n",
       "      <th>DMQMILIZ</th>\n",
       "      <th>DMQADFC</th>\n",
       "      <th>DMDBORN4</th>\n",
       "      <th>DMDCITZN</th>\n",
       "      <th>DMDYRSUS</th>\n",
       "      <th>DMDEDUC3</th>\n",
       "      <th>DMDEDUC2</th>\n",
       "      <th>DMDMARTL</th>\n",
       "      <th>RIDEXPRG</th>\n",
       "      <th>SIALANG</th>\n",
       "      <th>SIAPROXY</th>\n",
       "      <th>SIAINTRP</th>\n",
       "      <th>FIALANG</th>\n",
       "      <th>FIAPROXY</th>\n",
       "      <th>FIAINTRP</th>\n",
       "      <th>MIALANG</th>\n",
       "      <th>MIAPROXY</th>\n",
       "      <th>MIAINTRP</th>\n",
       "      <th>AIALANGA</th>\n",
       "      <th>DMDHHSIZ</th>\n",
       "      <th>DMDFMSIZ</th>\n",
       "      <th>DMDHHSZA</th>\n",
       "      <th>DMDHHSZB</th>\n",
       "      <th>DMDHHSZE</th>\n",
       "      <th>DMDHRGND</th>\n",
       "      <th>DMDHRAGE</th>\n",
       "      <th>DMDHRBR4</th>\n",
       "      <th>DMDHREDU</th>\n",
       "      <th>DMDHRMAR</th>\n",
       "      <th>DMDHSEDU</th>\n",
       "      <th>WTINT2YR</th>\n",
       "      <th>WTMEC2YR</th>\n",
       "      <th>SDMVPSU</th>\n",
       "      <th>SDMVSTRA</th>\n",
       "      <th>INDHHIN2</th>\n",
       "      <th>INDFMIN2</th>\n",
       "      <th>INDFMPIR</th>\n",
       "    </tr>\n",
       "    <tr>\n",
       "      <th>SEQN</th>\n",
       "      <th></th>\n",
       "      <th></th>\n",
       "      <th></th>\n",
       "      <th></th>\n",
       "      <th></th>\n",
       "      <th></th>\n",
       "      <th></th>\n",
       "      <th></th>\n",
       "      <th></th>\n",
       "      <th></th>\n",
       "      <th></th>\n",
       "      <th></th>\n",
       "      <th></th>\n",
       "      <th></th>\n",
       "      <th></th>\n",
       "      <th></th>\n",
       "      <th></th>\n",
       "      <th></th>\n",
       "      <th></th>\n",
       "      <th></th>\n",
       "      <th></th>\n",
       "      <th></th>\n",
       "      <th></th>\n",
       "      <th></th>\n",
       "      <th></th>\n",
       "      <th></th>\n",
       "      <th></th>\n",
       "      <th></th>\n",
       "      <th></th>\n",
       "      <th></th>\n",
       "      <th></th>\n",
       "      <th></th>\n",
       "      <th></th>\n",
       "      <th></th>\n",
       "      <th></th>\n",
       "      <th></th>\n",
       "      <th></th>\n",
       "      <th></th>\n",
       "      <th></th>\n",
       "      <th></th>\n",
       "      <th></th>\n",
       "      <th></th>\n",
       "      <th></th>\n",
       "      <th></th>\n",
       "      <th></th>\n",
       "      <th></th>\n",
       "    </tr>\n",
       "  </thead>\n",
       "  <tbody>\n",
       "    <tr>\n",
       "      <th>73557</th>\n",
       "      <td>8.000</td>\n",
       "      <td>2.000</td>\n",
       "      <td>1.000</td>\n",
       "      <td>69.000</td>\n",
       "      <td>NaN</td>\n",
       "      <td>4.000</td>\n",
       "      <td>4.000</td>\n",
       "      <td>1.000</td>\n",
       "      <td>NaN</td>\n",
       "      <td>1.000</td>\n",
       "      <td>1.000</td>\n",
       "      <td>1.000</td>\n",
       "      <td>1.000</td>\n",
       "      <td>NaN</td>\n",
       "      <td>NaN</td>\n",
       "      <td>3.000</td>\n",
       "      <td>4.000</td>\n",
       "      <td>NaN</td>\n",
       "      <td>1.000</td>\n",
       "      <td>2.000</td>\n",
       "      <td>2.000</td>\n",
       "      <td>1.000</td>\n",
       "      <td>2.000</td>\n",
       "      <td>2.000</td>\n",
       "      <td>1.000</td>\n",
       "      <td>2.000</td>\n",
       "      <td>2.000</td>\n",
       "      <td>1.000</td>\n",
       "      <td>3.000</td>\n",
       "      <td>3.000</td>\n",
       "      <td>0.000</td>\n",
       "      <td>0.000</td>\n",
       "      <td>2.000</td>\n",
       "      <td>1.000</td>\n",
       "      <td>69.000</td>\n",
       "      <td>1.000</td>\n",
       "      <td>3.000</td>\n",
       "      <td>4.000</td>\n",
       "      <td>NaN</td>\n",
       "      <td>13281.237</td>\n",
       "      <td>13481.042</td>\n",
       "      <td>1.000</td>\n",
       "      <td>112.000</td>\n",
       "      <td>4.000</td>\n",
       "      <td>4.000</td>\n",
       "      <td>0.840</td>\n",
       "    </tr>\n",
       "    <tr>\n",
       "      <th>73558</th>\n",
       "      <td>8.000</td>\n",
       "      <td>2.000</td>\n",
       "      <td>1.000</td>\n",
       "      <td>54.000</td>\n",
       "      <td>NaN</td>\n",
       "      <td>3.000</td>\n",
       "      <td>3.000</td>\n",
       "      <td>1.000</td>\n",
       "      <td>NaN</td>\n",
       "      <td>2.000</td>\n",
       "      <td>NaN</td>\n",
       "      <td>1.000</td>\n",
       "      <td>1.000</td>\n",
       "      <td>NaN</td>\n",
       "      <td>NaN</td>\n",
       "      <td>3.000</td>\n",
       "      <td>1.000</td>\n",
       "      <td>NaN</td>\n",
       "      <td>1.000</td>\n",
       "      <td>2.000</td>\n",
       "      <td>2.000</td>\n",
       "      <td>1.000</td>\n",
       "      <td>2.000</td>\n",
       "      <td>2.000</td>\n",
       "      <td>1.000</td>\n",
       "      <td>2.000</td>\n",
       "      <td>2.000</td>\n",
       "      <td>1.000</td>\n",
       "      <td>4.000</td>\n",
       "      <td>4.000</td>\n",
       "      <td>0.000</td>\n",
       "      <td>2.000</td>\n",
       "      <td>0.000</td>\n",
       "      <td>1.000</td>\n",
       "      <td>54.000</td>\n",
       "      <td>1.000</td>\n",
       "      <td>3.000</td>\n",
       "      <td>1.000</td>\n",
       "      <td>1.000</td>\n",
       "      <td>23682.057</td>\n",
       "      <td>24471.770</td>\n",
       "      <td>1.000</td>\n",
       "      <td>108.000</td>\n",
       "      <td>7.000</td>\n",
       "      <td>7.000</td>\n",
       "      <td>1.780</td>\n",
       "    </tr>\n",
       "    <tr>\n",
       "      <th>73559</th>\n",
       "      <td>8.000</td>\n",
       "      <td>2.000</td>\n",
       "      <td>1.000</td>\n",
       "      <td>72.000</td>\n",
       "      <td>NaN</td>\n",
       "      <td>3.000</td>\n",
       "      <td>3.000</td>\n",
       "      <td>2.000</td>\n",
       "      <td>NaN</td>\n",
       "      <td>1.000</td>\n",
       "      <td>1.000</td>\n",
       "      <td>1.000</td>\n",
       "      <td>1.000</td>\n",
       "      <td>NaN</td>\n",
       "      <td>NaN</td>\n",
       "      <td>4.000</td>\n",
       "      <td>1.000</td>\n",
       "      <td>NaN</td>\n",
       "      <td>1.000</td>\n",
       "      <td>2.000</td>\n",
       "      <td>2.000</td>\n",
       "      <td>1.000</td>\n",
       "      <td>2.000</td>\n",
       "      <td>2.000</td>\n",
       "      <td>1.000</td>\n",
       "      <td>2.000</td>\n",
       "      <td>2.000</td>\n",
       "      <td>NaN</td>\n",
       "      <td>2.000</td>\n",
       "      <td>2.000</td>\n",
       "      <td>0.000</td>\n",
       "      <td>0.000</td>\n",
       "      <td>2.000</td>\n",
       "      <td>1.000</td>\n",
       "      <td>72.000</td>\n",
       "      <td>1.000</td>\n",
       "      <td>4.000</td>\n",
       "      <td>1.000</td>\n",
       "      <td>3.000</td>\n",
       "      <td>57214.803</td>\n",
       "      <td>57193.285</td>\n",
       "      <td>1.000</td>\n",
       "      <td>109.000</td>\n",
       "      <td>10.000</td>\n",
       "      <td>10.000</td>\n",
       "      <td>4.510</td>\n",
       "    </tr>\n",
       "    <tr>\n",
       "      <th>73560</th>\n",
       "      <td>8.000</td>\n",
       "      <td>2.000</td>\n",
       "      <td>1.000</td>\n",
       "      <td>9.000</td>\n",
       "      <td>NaN</td>\n",
       "      <td>3.000</td>\n",
       "      <td>3.000</td>\n",
       "      <td>1.000</td>\n",
       "      <td>119.000</td>\n",
       "      <td>NaN</td>\n",
       "      <td>NaN</td>\n",
       "      <td>1.000</td>\n",
       "      <td>1.000</td>\n",
       "      <td>NaN</td>\n",
       "      <td>3.000</td>\n",
       "      <td>NaN</td>\n",
       "      <td>NaN</td>\n",
       "      <td>NaN</td>\n",
       "      <td>1.000</td>\n",
       "      <td>1.000</td>\n",
       "      <td>2.000</td>\n",
       "      <td>1.000</td>\n",
       "      <td>2.000</td>\n",
       "      <td>2.000</td>\n",
       "      <td>1.000</td>\n",
       "      <td>2.000</td>\n",
       "      <td>2.000</td>\n",
       "      <td>1.000</td>\n",
       "      <td>4.000</td>\n",
       "      <td>4.000</td>\n",
       "      <td>0.000</td>\n",
       "      <td>2.000</td>\n",
       "      <td>0.000</td>\n",
       "      <td>1.000</td>\n",
       "      <td>33.000</td>\n",
       "      <td>1.000</td>\n",
       "      <td>3.000</td>\n",
       "      <td>1.000</td>\n",
       "      <td>4.000</td>\n",
       "      <td>55201.179</td>\n",
       "      <td>55766.512</td>\n",
       "      <td>2.000</td>\n",
       "      <td>109.000</td>\n",
       "      <td>9.000</td>\n",
       "      <td>9.000</td>\n",
       "      <td>2.520</td>\n",
       "    </tr>\n",
       "    <tr>\n",
       "      <th>73561</th>\n",
       "      <td>8.000</td>\n",
       "      <td>2.000</td>\n",
       "      <td>2.000</td>\n",
       "      <td>73.000</td>\n",
       "      <td>NaN</td>\n",
       "      <td>3.000</td>\n",
       "      <td>3.000</td>\n",
       "      <td>1.000</td>\n",
       "      <td>NaN</td>\n",
       "      <td>2.000</td>\n",
       "      <td>NaN</td>\n",
       "      <td>1.000</td>\n",
       "      <td>1.000</td>\n",
       "      <td>NaN</td>\n",
       "      <td>NaN</td>\n",
       "      <td>5.000</td>\n",
       "      <td>1.000</td>\n",
       "      <td>NaN</td>\n",
       "      <td>1.000</td>\n",
       "      <td>2.000</td>\n",
       "      <td>2.000</td>\n",
       "      <td>1.000</td>\n",
       "      <td>2.000</td>\n",
       "      <td>2.000</td>\n",
       "      <td>1.000</td>\n",
       "      <td>2.000</td>\n",
       "      <td>2.000</td>\n",
       "      <td>NaN</td>\n",
       "      <td>2.000</td>\n",
       "      <td>2.000</td>\n",
       "      <td>0.000</td>\n",
       "      <td>0.000</td>\n",
       "      <td>2.000</td>\n",
       "      <td>1.000</td>\n",
       "      <td>78.000</td>\n",
       "      <td>1.000</td>\n",
       "      <td>5.000</td>\n",
       "      <td>1.000</td>\n",
       "      <td>5.000</td>\n",
       "      <td>63709.667</td>\n",
       "      <td>65541.871</td>\n",
       "      <td>2.000</td>\n",
       "      <td>116.000</td>\n",
       "      <td>15.000</td>\n",
       "      <td>15.000</td>\n",
       "      <td>5.000</td>\n",
       "    </tr>\n",
       "  </tbody>\n",
       "</table>\n",
       "</div>"
      ],
      "text/plain": [
       "       SDDSRVYR  RIDSTATR  RIAGENDR  ...  INDHHIN2  INDFMIN2  INDFMPIR\n",
       "SEQN                                 ...                              \n",
       "73557     8.000     2.000     1.000  ...     4.000     4.000     0.840\n",
       "73558     8.000     2.000     1.000  ...     7.000     7.000     1.780\n",
       "73559     8.000     2.000     1.000  ...    10.000    10.000     4.510\n",
       "73560     8.000     2.000     1.000  ...     9.000     9.000     2.520\n",
       "73561     8.000     2.000     2.000  ...    15.000    15.000     5.000\n",
       "\n",
       "[5 rows x 46 columns]"
      ]
     },
     "execution_count": 214,
     "metadata": {},
     "output_type": "execute_result"
    }
   ],
   "source": [
    "# Checking the DataFrame\n",
    "df_demo.head()"
   ]
  },
  {
   "cell_type": "code",
   "execution_count": 215,
   "metadata": {
    "ExecuteTime": {
     "end_time": "2021-02-09T05:04:05.317043Z",
     "start_time": "2021-02-09T05:04:05.170042Z"
    },
    "scrolled": true
   },
   "outputs": [
    {
     "name": "stdout",
     "output_type": "stream",
     "text": [
      "<class 'pandas.core.frame.DataFrame'>\n",
      "Int64Index: 20146 entries, 73557 to 93702\n",
      "Data columns (total 46 columns):\n",
      " #   Column    Non-Null Count  Dtype  \n",
      "---  ------    --------------  -----  \n",
      " 0   SDDSRVYR  20146 non-null  float64\n",
      " 1   RIDSTATR  20146 non-null  float64\n",
      " 2   RIAGENDR  20146 non-null  float64\n",
      " 3   RIDAGEYR  20146 non-null  float64\n",
      " 4   RIDAGEMN  1368 non-null   float64\n",
      " 5   RIDRETH1  20146 non-null  float64\n",
      " 6   RIDRETH3  20146 non-null  float64\n",
      " 7   RIDEXMON  19357 non-null  float64\n",
      " 8   RIDEXAGM  8273 non-null   float64\n",
      " 9   DMQMILIZ  12410 non-null  float64\n",
      " 10  DMQADFC   1070 non-null   float64\n",
      " 11  DMDBORN4  20146 non-null  float64\n",
      " 12  DMDCITZN  20140 non-null  float64\n",
      " 13  DMDYRSUS  4144 non-null   float64\n",
      " 14  DMDEDUC3  5450 non-null   float64\n",
      " 15  DMDEDUC2  11488 non-null  float64\n",
      " 16  DMDMARTL  11488 non-null  float64\n",
      " 17  RIDEXPRG  2597 non-null   float64\n",
      " 18  SIALANG   20146 non-null  float64\n",
      " 19  SIAPROXY  20144 non-null  float64\n",
      " 20  SIAINTRP  20146 non-null  float64\n",
      " 21  FIALANG   19696 non-null  float64\n",
      " 22  FIAPROXY  19696 non-null  float64\n",
      " 23  FIAINTRP  19696 non-null  float64\n",
      " 24  MIALANG   14288 non-null  float64\n",
      " 25  MIAPROXY  14290 non-null  float64\n",
      " 26  MIAINTRP  14291 non-null  float64\n",
      " 27  AIALANGA  12279 non-null  float64\n",
      " 28  DMDHHSIZ  20146 non-null  float64\n",
      " 29  DMDFMSIZ  20146 non-null  float64\n",
      " 30  DMDHHSZA  20146 non-null  float64\n",
      " 31  DMDHHSZB  20146 non-null  float64\n",
      " 32  DMDHHSZE  20146 non-null  float64\n",
      " 33  DMDHRGND  20146 non-null  float64\n",
      " 34  DMDHRAGE  20146 non-null  float64\n",
      " 35  DMDHRBR4  19453 non-null  float64\n",
      " 36  DMDHREDU  19456 non-null  float64\n",
      " 37  DMDHRMAR  19961 non-null  float64\n",
      " 38  DMDHSEDU  10568 non-null  float64\n",
      " 39  WTINT2YR  20146 non-null  float64\n",
      " 40  WTMEC2YR  20146 non-null  float64\n",
      " 41  SDMVPSU   20146 non-null  float64\n",
      " 42  SDMVSTRA  20146 non-null  float64\n",
      " 43  INDHHIN2  19668 non-null  float64\n",
      " 44  INDFMIN2  19694 non-null  float64\n",
      " 45  INDFMPIR  18309 non-null  float64\n",
      "dtypes: float64(46)\n",
      "memory usage: 7.2 MB\n"
     ]
    }
   ],
   "source": [
    "# Checking the columns and entries\n",
    "df_demo.info()"
   ]
  },
  {
   "cell_type": "code",
   "execution_count": 216,
   "metadata": {
    "ExecuteTime": {
     "end_time": "2021-02-09T05:04:05.812150Z",
     "start_time": "2021-02-09T05:04:05.730047Z"
    }
   },
   "outputs": [
    {
     "data": {
      "text/plain": [
       "Index(['AIALANGA', 'DMDBORN4', 'DMDCITZN', 'DMDEDUC2', 'DMDEDUC3', 'DMDFMSIZ',\n",
       "       'DMDHHSIZ', 'DMDHHSZA', 'DMDHHSZB', 'DMDHHSZE', 'DMDHRAGE', 'DMDHRBR4',\n",
       "       'DMDHREDU', 'DMDHRGND', 'DMDHRMAR', 'DMDHSEDU', 'DMDMARTL', 'DMDYRSUS',\n",
       "       'DMQADFC', 'DMQMILIZ', 'FIAINTRP', 'FIALANG', 'FIAPROXY', 'INDFMIN2',\n",
       "       'INDFMPIR', 'INDHHIN2', 'MIAINTRP', 'MIALANG', 'MIAPROXY', 'RIAGENDR',\n",
       "       'RIDAGEMN', 'RIDAGEYR', 'RIDEXAGM', 'RIDEXMON', 'RIDEXPRG', 'RIDRETH1',\n",
       "       'RIDRETH3', 'RIDSTATR', 'SDDSRVYR', 'SDMVPSU', 'SDMVSTRA', 'SIAINTRP',\n",
       "       'SIALANG', 'SIAPROXY', 'WTINT2YR', 'WTMEC2YR'],\n",
       "      dtype='object')"
      ]
     },
     "execution_count": 216,
     "metadata": {},
     "output_type": "execute_result"
    }
   ],
   "source": [
    "# Creating a list of columns to check each one\n",
    "df_demo.columns.sort_values()"
   ]
  },
  {
   "cell_type": "code",
   "execution_count": 217,
   "metadata": {
    "ExecuteTime": {
     "end_time": "2021-02-09T05:04:06.517045Z",
     "start_time": "2021-02-09T05:04:06.436043Z"
    }
   },
   "outputs": [],
   "source": [
    "# Listing the columns to keep\n",
    "demo_tokeep = ['DMDBORN', 'DMDBORN2', 'DMDBORN4', 'DMDCITZN', 'DMDEDUC2', \n",
    "               'DMDHHSIZ', 'DMDMARTL', 'DMQMILIT', 'DMQMILIZ', 'INDHHIN2', \n",
    "               'INDHHINC', 'RIAGENDR', 'RIDAGEYR', 'RIDEXPRG', 'RIDRETH1']"
   ]
  },
  {
   "cell_type": "code",
   "execution_count": 218,
   "metadata": {
    "ExecuteTime": {
     "end_time": "2021-02-09T05:04:07.058046Z",
     "start_time": "2021-02-09T05:04:06.975146Z"
    }
   },
   "outputs": [
    {
     "data": {
      "text/markdown": [
       "```python\n",
       "def cols_tokeep(df, col_list):\n",
       "    '''\n",
       "    Makes a copy of the passed in DataFrame and drops all columns except those\n",
       "    specified in a list.\n",
       "    \n",
       "    Args:\n",
       "        df(DataFrame): DataFrame to take specific columns from.\n",
       "        col_list(list): List of columns in the DataFrame to be kept.\n",
       "    \n",
       "    Returns:\n",
       "        New DataFrame that has only the columns specified from the col_list.\n",
       "    \n",
       "    Example:\n",
       "        new_df = cols_tokeep(old_df, columns_list)\n",
       "    '''\n",
       "    df_copy = df.copy()\n",
       "    for col in df_copy.columns:\n",
       "        if col not in col_list:\n",
       "            df_copy.drop(columns=[col], inplace=True)\n",
       "        else:\n",
       "            pass\n",
       "    return df_copy\n",
       "\n",
       "```"
      ],
      "text/plain": [
       "<IPython.core.display.Markdown object>"
      ]
     },
     "metadata": {},
     "output_type": "display_data"
    }
   ],
   "source": [
    "# Looking at the function that creates a new DataFrame with the wanted columns\n",
    "func = inspect.getsource(pf.cols_tokeep)\n",
    "display(Markdown(\"```python\\n\"+func+\"\\n```\"))"
   ]
  },
  {
   "cell_type": "code",
   "execution_count": 219,
   "metadata": {
    "ExecuteTime": {
     "end_time": "2021-02-09T05:04:08.567116Z",
     "start_time": "2021-02-09T05:04:07.744055Z"
    }
   },
   "outputs": [],
   "source": [
    "# Creating the new DataFrame with only the wanted columns\n",
    "demo_clean = pf.cols_tokeep(df_demo, demo_tokeep)"
   ]
  },
  {
   "cell_type": "code",
   "execution_count": 220,
   "metadata": {
    "ExecuteTime": {
     "end_time": "2021-02-09T05:04:08.708129Z",
     "start_time": "2021-02-09T05:04:08.570051Z"
    }
   },
   "outputs": [
    {
     "data": {
      "text/html": [
       "<div>\n",
       "<style scoped>\n",
       "    .dataframe tbody tr th:only-of-type {\n",
       "        vertical-align: middle;\n",
       "    }\n",
       "\n",
       "    .dataframe tbody tr th {\n",
       "        vertical-align: top;\n",
       "    }\n",
       "\n",
       "    .dataframe thead th {\n",
       "        text-align: right;\n",
       "    }\n",
       "</style>\n",
       "<table border=\"1\" class=\"dataframe\">\n",
       "  <thead>\n",
       "    <tr style=\"text-align: right;\">\n",
       "      <th></th>\n",
       "      <th>RIAGENDR</th>\n",
       "      <th>RIDAGEYR</th>\n",
       "      <th>RIDRETH1</th>\n",
       "      <th>DMQMILIZ</th>\n",
       "      <th>DMDBORN4</th>\n",
       "      <th>DMDCITZN</th>\n",
       "      <th>DMDEDUC2</th>\n",
       "      <th>DMDMARTL</th>\n",
       "      <th>RIDEXPRG</th>\n",
       "      <th>DMDHHSIZ</th>\n",
       "      <th>INDHHIN2</th>\n",
       "    </tr>\n",
       "    <tr>\n",
       "      <th>SEQN</th>\n",
       "      <th></th>\n",
       "      <th></th>\n",
       "      <th></th>\n",
       "      <th></th>\n",
       "      <th></th>\n",
       "      <th></th>\n",
       "      <th></th>\n",
       "      <th></th>\n",
       "      <th></th>\n",
       "      <th></th>\n",
       "      <th></th>\n",
       "    </tr>\n",
       "  </thead>\n",
       "  <tbody>\n",
       "    <tr>\n",
       "      <th>73557</th>\n",
       "      <td>1.000</td>\n",
       "      <td>69.000</td>\n",
       "      <td>4.000</td>\n",
       "      <td>1.000</td>\n",
       "      <td>1.000</td>\n",
       "      <td>1.000</td>\n",
       "      <td>3.000</td>\n",
       "      <td>4.000</td>\n",
       "      <td>NaN</td>\n",
       "      <td>3.000</td>\n",
       "      <td>4.000</td>\n",
       "    </tr>\n",
       "    <tr>\n",
       "      <th>73558</th>\n",
       "      <td>1.000</td>\n",
       "      <td>54.000</td>\n",
       "      <td>3.000</td>\n",
       "      <td>2.000</td>\n",
       "      <td>1.000</td>\n",
       "      <td>1.000</td>\n",
       "      <td>3.000</td>\n",
       "      <td>1.000</td>\n",
       "      <td>NaN</td>\n",
       "      <td>4.000</td>\n",
       "      <td>7.000</td>\n",
       "    </tr>\n",
       "    <tr>\n",
       "      <th>73559</th>\n",
       "      <td>1.000</td>\n",
       "      <td>72.000</td>\n",
       "      <td>3.000</td>\n",
       "      <td>1.000</td>\n",
       "      <td>1.000</td>\n",
       "      <td>1.000</td>\n",
       "      <td>4.000</td>\n",
       "      <td>1.000</td>\n",
       "      <td>NaN</td>\n",
       "      <td>2.000</td>\n",
       "      <td>10.000</td>\n",
       "    </tr>\n",
       "    <tr>\n",
       "      <th>73560</th>\n",
       "      <td>1.000</td>\n",
       "      <td>9.000</td>\n",
       "      <td>3.000</td>\n",
       "      <td>NaN</td>\n",
       "      <td>1.000</td>\n",
       "      <td>1.000</td>\n",
       "      <td>NaN</td>\n",
       "      <td>NaN</td>\n",
       "      <td>NaN</td>\n",
       "      <td>4.000</td>\n",
       "      <td>9.000</td>\n",
       "    </tr>\n",
       "    <tr>\n",
       "      <th>73561</th>\n",
       "      <td>2.000</td>\n",
       "      <td>73.000</td>\n",
       "      <td>3.000</td>\n",
       "      <td>2.000</td>\n",
       "      <td>1.000</td>\n",
       "      <td>1.000</td>\n",
       "      <td>5.000</td>\n",
       "      <td>1.000</td>\n",
       "      <td>NaN</td>\n",
       "      <td>2.000</td>\n",
       "      <td>15.000</td>\n",
       "    </tr>\n",
       "  </tbody>\n",
       "</table>\n",
       "</div>"
      ],
      "text/plain": [
       "       RIAGENDR  RIDAGEYR  RIDRETH1  ...  RIDEXPRG  DMDHHSIZ  INDHHIN2\n",
       "SEQN                                 ...                              \n",
       "73557     1.000    69.000     4.000  ...       NaN     3.000     4.000\n",
       "73558     1.000    54.000     3.000  ...       NaN     4.000     7.000\n",
       "73559     1.000    72.000     3.000  ...       NaN     2.000    10.000\n",
       "73560     1.000     9.000     3.000  ...       NaN     4.000     9.000\n",
       "73561     2.000    73.000     3.000  ...       NaN     2.000    15.000\n",
       "\n",
       "[5 rows x 11 columns]"
      ]
     },
     "execution_count": 220,
     "metadata": {},
     "output_type": "execute_result"
    }
   ],
   "source": [
    "# Checking the new DataFrame\n",
    "demo_clean.head()"
   ]
  },
  {
   "cell_type": "code",
   "execution_count": 221,
   "metadata": {
    "ExecuteTime": {
     "end_time": "2021-02-09T05:04:09.268051Z",
     "start_time": "2021-02-09T05:04:09.162052Z"
    }
   },
   "outputs": [
    {
     "name": "stdout",
     "output_type": "stream",
     "text": [
      "<class 'pandas.core.frame.DataFrame'>\n",
      "Int64Index: 20146 entries, 73557 to 93702\n",
      "Data columns (total 11 columns):\n",
      " #   Column    Non-Null Count  Dtype  \n",
      "---  ------    --------------  -----  \n",
      " 0   RIAGENDR  20146 non-null  float64\n",
      " 1   RIDAGEYR  20146 non-null  float64\n",
      " 2   RIDRETH1  20146 non-null  float64\n",
      " 3   DMQMILIZ  12410 non-null  float64\n",
      " 4   DMDBORN4  20146 non-null  float64\n",
      " 5   DMDCITZN  20140 non-null  float64\n",
      " 6   DMDEDUC2  11488 non-null  float64\n",
      " 7   DMDMARTL  11488 non-null  float64\n",
      " 8   RIDEXPRG  2597 non-null   float64\n",
      " 9   DMDHHSIZ  20146 non-null  float64\n",
      " 10  INDHHIN2  19668 non-null  float64\n",
      "dtypes: float64(11)\n",
      "memory usage: 1.8 MB\n"
     ]
    }
   ],
   "source": [
    "# Checking the entries and columns\n",
    "demo_clean.info()"
   ]
  },
  {
   "cell_type": "code",
   "execution_count": 222,
   "metadata": {
    "ExecuteTime": {
     "end_time": "2021-02-09T05:04:10.152740Z",
     "start_time": "2021-02-09T05:04:10.065844Z"
    }
   },
   "outputs": [
    {
     "data": {
      "text/plain": [
       "Index(['DMDBORN4', 'DMDCITZN', 'DMDEDUC2', 'DMDHHSIZ', 'DMDMARTL', 'DMQMILIZ',\n",
       "       'INDHHIN2', 'RIAGENDR', 'RIDAGEYR', 'RIDEXPRG', 'RIDRETH1'],\n",
       "      dtype='object')"
      ]
     },
     "execution_count": 222,
     "metadata": {},
     "output_type": "execute_result"
    }
   ],
   "source": [
    "# Listing the columns to reference for cleaning\n",
    "demo_clean.columns.sort_values()"
   ]
  },
  {
   "cell_type": "markdown",
   "metadata": {},
   "source": [
    "## Birth Place"
   ]
  },
  {
   "cell_type": "markdown",
   "metadata": {},
   "source": [
    "The birth place question changed slightly over time but was still very similar. For these columns, the null values are filled with zeros then everything is added across the rows to a single column to combine all the values into one."
   ]
  },
  {
   "cell_type": "code",
   "execution_count": 223,
   "metadata": {
    "ExecuteTime": {
     "end_time": "2021-02-09T05:04:11.928964Z",
     "start_time": "2021-02-09T05:04:11.853001Z"
    }
   },
   "outputs": [
    {
     "data": {
      "text/plain": [
       "1.000     15995\n",
       "2.000      4144\n",
       "77.000        4\n",
       "99.000        3\n",
       "Name: DMDBORN4, dtype: int64"
      ]
     },
     "execution_count": 223,
     "metadata": {},
     "output_type": "execute_result"
    }
   ],
   "source": [
    "# Checking column values\n",
    "demo_clean.DMDBORN4.value_counts(dropna=False)"
   ]
  },
  {
   "cell_type": "code",
   "execution_count": 224,
   "metadata": {
    "ExecuteTime": {
     "end_time": "2021-02-09T05:04:12.629964Z",
     "start_time": "2021-02-09T05:04:12.551045Z"
    }
   },
   "outputs": [
    {
     "data": {
      "text/plain": [
       "1.000     15995\n",
       "2.000      4144\n",
       "77.000        4\n",
       "99.000        3\n",
       "Name: DMDBORN4, dtype: int64"
      ]
     },
     "execution_count": 224,
     "metadata": {},
     "output_type": "execute_result"
    }
   ],
   "source": [
    "# Checking column values\n",
    "demo_clean.DMDBORN4.value_counts(dropna=False)"
   ]
  },
  {
   "cell_type": "code",
   "execution_count": 225,
   "metadata": {
    "ExecuteTime": {
     "end_time": "2021-02-09T05:04:13.129968Z",
     "start_time": "2021-02-09T05:04:13.034962Z"
    }
   },
   "outputs": [
    {
     "data": {
      "text/plain": [
       "1.000     15995\n",
       "2.000      4144\n",
       "77.000        4\n",
       "99.000        3\n",
       "Name: DMDBORN4, dtype: int64"
      ]
     },
     "execution_count": 225,
     "metadata": {},
     "output_type": "execute_result"
    }
   ],
   "source": [
    "# Checking column values\n",
    "demo_clean.DMDBORN4.value_counts(dropna=False)"
   ]
  },
  {
   "cell_type": "code",
   "execution_count": 226,
   "metadata": {
    "ExecuteTime": {
     "end_time": "2021-02-09T05:04:13.669069Z",
     "start_time": "2021-02-09T05:04:13.587072Z"
    }
   },
   "outputs": [],
   "source": [
    "# Fill all null values with zero\n",
    "\n",
    "demo_clean.DMDBORN4.fillna(0, inplace=True)"
   ]
  },
  {
   "cell_type": "code",
   "execution_count": 227,
   "metadata": {
    "ExecuteTime": {
     "end_time": "2021-02-09T05:04:14.163963Z",
     "start_time": "2021-02-09T05:04:14.079964Z"
    }
   },
   "outputs": [],
   "source": [
    "# Add all the columns together to get the values in one column\n",
    "demo_clean['birth_place'] =  demo_clean['DMDBORN4']"
   ]
  },
  {
   "cell_type": "code",
   "execution_count": 228,
   "metadata": {
    "ExecuteTime": {
     "end_time": "2021-02-09T05:04:14.707043Z",
     "start_time": "2021-02-09T05:04:14.600962Z"
    }
   },
   "outputs": [
    {
     "data": {
      "text/html": [
       "<div>\n",
       "<style scoped>\n",
       "    .dataframe tbody tr th:only-of-type {\n",
       "        vertical-align: middle;\n",
       "    }\n",
       "\n",
       "    .dataframe tbody tr th {\n",
       "        vertical-align: top;\n",
       "    }\n",
       "\n",
       "    .dataframe thead th {\n",
       "        text-align: right;\n",
       "    }\n",
       "</style>\n",
       "<table border=\"1\" class=\"dataframe\">\n",
       "  <thead>\n",
       "    <tr style=\"text-align: right;\">\n",
       "      <th></th>\n",
       "      <th>RIAGENDR</th>\n",
       "      <th>RIDAGEYR</th>\n",
       "      <th>RIDRETH1</th>\n",
       "      <th>DMQMILIZ</th>\n",
       "      <th>DMDBORN4</th>\n",
       "      <th>DMDCITZN</th>\n",
       "      <th>DMDEDUC2</th>\n",
       "      <th>DMDMARTL</th>\n",
       "      <th>RIDEXPRG</th>\n",
       "      <th>DMDHHSIZ</th>\n",
       "      <th>INDHHIN2</th>\n",
       "      <th>birth_place</th>\n",
       "    </tr>\n",
       "    <tr>\n",
       "      <th>SEQN</th>\n",
       "      <th></th>\n",
       "      <th></th>\n",
       "      <th></th>\n",
       "      <th></th>\n",
       "      <th></th>\n",
       "      <th></th>\n",
       "      <th></th>\n",
       "      <th></th>\n",
       "      <th></th>\n",
       "      <th></th>\n",
       "      <th></th>\n",
       "      <th></th>\n",
       "    </tr>\n",
       "  </thead>\n",
       "  <tbody>\n",
       "    <tr>\n",
       "      <th>73557</th>\n",
       "      <td>1.000</td>\n",
       "      <td>69.000</td>\n",
       "      <td>4.000</td>\n",
       "      <td>1.000</td>\n",
       "      <td>1.000</td>\n",
       "      <td>1.000</td>\n",
       "      <td>3.000</td>\n",
       "      <td>4.000</td>\n",
       "      <td>NaN</td>\n",
       "      <td>3.000</td>\n",
       "      <td>4.000</td>\n",
       "      <td>1.000</td>\n",
       "    </tr>\n",
       "    <tr>\n",
       "      <th>73558</th>\n",
       "      <td>1.000</td>\n",
       "      <td>54.000</td>\n",
       "      <td>3.000</td>\n",
       "      <td>2.000</td>\n",
       "      <td>1.000</td>\n",
       "      <td>1.000</td>\n",
       "      <td>3.000</td>\n",
       "      <td>1.000</td>\n",
       "      <td>NaN</td>\n",
       "      <td>4.000</td>\n",
       "      <td>7.000</td>\n",
       "      <td>1.000</td>\n",
       "    </tr>\n",
       "    <tr>\n",
       "      <th>73559</th>\n",
       "      <td>1.000</td>\n",
       "      <td>72.000</td>\n",
       "      <td>3.000</td>\n",
       "      <td>1.000</td>\n",
       "      <td>1.000</td>\n",
       "      <td>1.000</td>\n",
       "      <td>4.000</td>\n",
       "      <td>1.000</td>\n",
       "      <td>NaN</td>\n",
       "      <td>2.000</td>\n",
       "      <td>10.000</td>\n",
       "      <td>1.000</td>\n",
       "    </tr>\n",
       "    <tr>\n",
       "      <th>73560</th>\n",
       "      <td>1.000</td>\n",
       "      <td>9.000</td>\n",
       "      <td>3.000</td>\n",
       "      <td>NaN</td>\n",
       "      <td>1.000</td>\n",
       "      <td>1.000</td>\n",
       "      <td>NaN</td>\n",
       "      <td>NaN</td>\n",
       "      <td>NaN</td>\n",
       "      <td>4.000</td>\n",
       "      <td>9.000</td>\n",
       "      <td>1.000</td>\n",
       "    </tr>\n",
       "    <tr>\n",
       "      <th>73561</th>\n",
       "      <td>2.000</td>\n",
       "      <td>73.000</td>\n",
       "      <td>3.000</td>\n",
       "      <td>2.000</td>\n",
       "      <td>1.000</td>\n",
       "      <td>1.000</td>\n",
       "      <td>5.000</td>\n",
       "      <td>1.000</td>\n",
       "      <td>NaN</td>\n",
       "      <td>2.000</td>\n",
       "      <td>15.000</td>\n",
       "      <td>1.000</td>\n",
       "    </tr>\n",
       "  </tbody>\n",
       "</table>\n",
       "</div>"
      ],
      "text/plain": [
       "       RIAGENDR  RIDAGEYR  RIDRETH1  ...  DMDHHSIZ  INDHHIN2  birth_place\n",
       "SEQN                                 ...                                 \n",
       "73557     1.000    69.000     4.000  ...     3.000     4.000        1.000\n",
       "73558     1.000    54.000     3.000  ...     4.000     7.000        1.000\n",
       "73559     1.000    72.000     3.000  ...     2.000    10.000        1.000\n",
       "73560     1.000     9.000     3.000  ...     4.000     9.000        1.000\n",
       "73561     2.000    73.000     3.000  ...     2.000    15.000        1.000\n",
       "\n",
       "[5 rows x 12 columns]"
      ]
     },
     "execution_count": 228,
     "metadata": {},
     "output_type": "execute_result"
    }
   ],
   "source": [
    "# Verify new column exists\n",
    "demo_clean.head()"
   ]
  },
  {
   "cell_type": "code",
   "execution_count": 229,
   "metadata": {
    "ExecuteTime": {
     "end_time": "2021-02-09T05:04:15.110969Z",
     "start_time": "2021-02-09T05:04:15.022968Z"
    }
   },
   "outputs": [
    {
     "data": {
      "text/plain": [
       "1.000     15995\n",
       "2.000      4144\n",
       "77.000        4\n",
       "99.000        3\n",
       "Name: birth_place, dtype: int64"
      ]
     },
     "execution_count": 229,
     "metadata": {},
     "output_type": "execute_result"
    }
   ],
   "source": [
    "# Check values of new column to make sure everything is as expected\n",
    "demo_clean.birth_place.value_counts(dropna=False)"
   ]
  },
  {
   "cell_type": "code",
   "execution_count": 230,
   "metadata": {
    "ExecuteTime": {
     "end_time": "2021-02-09T05:04:15.663046Z",
     "start_time": "2021-02-09T05:04:15.558045Z"
    }
   },
   "outputs": [],
   "source": [
    "# Drop the old columns that are no longer needed\n",
    "demo_clean.drop(columns=['DMDBORN4'], inplace=True)"
   ]
  },
  {
   "cell_type": "code",
   "execution_count": 231,
   "metadata": {
    "ExecuteTime": {
     "end_time": "2021-02-09T05:04:16.275962Z",
     "start_time": "2021-02-09T05:04:16.187964Z"
    }
   },
   "outputs": [
    {
     "name": "stdout",
     "output_type": "stream",
     "text": [
      "<class 'pandas.core.frame.DataFrame'>\n",
      "Int64Index: 20146 entries, 73557 to 93702\n",
      "Data columns (total 11 columns):\n",
      " #   Column       Non-Null Count  Dtype  \n",
      "---  ------       --------------  -----  \n",
      " 0   RIAGENDR     20146 non-null  float64\n",
      " 1   RIDAGEYR     20146 non-null  float64\n",
      " 2   RIDRETH1     20146 non-null  float64\n",
      " 3   DMQMILIZ     12410 non-null  float64\n",
      " 4   DMDCITZN     20140 non-null  float64\n",
      " 5   DMDEDUC2     11488 non-null  float64\n",
      " 6   DMDMARTL     11488 non-null  float64\n",
      " 7   RIDEXPRG     2597 non-null   float64\n",
      " 8   DMDHHSIZ     20146 non-null  float64\n",
      " 9   INDHHIN2     19668 non-null  float64\n",
      " 10  birth_place  20146 non-null  float64\n",
      "dtypes: float64(11)\n",
      "memory usage: 1.8 MB\n"
     ]
    }
   ],
   "source": [
    "# Verifying the columns were dropped\n",
    "demo_clean.info()"
   ]
  },
  {
   "cell_type": "markdown",
   "metadata": {},
   "source": [
    "## Veteran"
   ]
  },
  {
   "cell_type": "code",
   "execution_count": 232,
   "metadata": {
    "ExecuteTime": {
     "end_time": "2021-02-09T05:04:18.374963Z",
     "start_time": "2021-02-09T05:04:18.291964Z"
    }
   },
   "outputs": [
    {
     "data": {
      "text/plain": [
       "2.000    11339\n",
       "NaN       7736\n",
       "1.000     1070\n",
       "7.000        1\n",
       "Name: DMQMILIZ, dtype: int64"
      ]
     },
     "execution_count": 232,
     "metadata": {},
     "output_type": "execute_result"
    }
   ],
   "source": [
    "# Check column values\n",
    "demo_clean.DMQMILIZ.value_counts(dropna=False)"
   ]
  },
  {
   "cell_type": "code",
   "execution_count": 233,
   "metadata": {
    "ExecuteTime": {
     "end_time": "2021-02-09T05:04:18.890066Z",
     "start_time": "2021-02-09T05:04:18.807997Z"
    }
   },
   "outputs": [],
   "source": [
    "# Fill null values with zero\n",
    "\n",
    "demo_clean.DMQMILIZ.fillna(0, inplace=True)"
   ]
  },
  {
   "cell_type": "code",
   "execution_count": 234,
   "metadata": {
    "ExecuteTime": {
     "end_time": "2021-02-09T05:04:19.391051Z",
     "start_time": "2021-02-09T05:04:19.311042Z"
    }
   },
   "outputs": [],
   "source": [
    "# Add columns straight across into a new column\n",
    "demo_clean['veteran'] =  demo_clean['DMQMILIZ']"
   ]
  },
  {
   "cell_type": "code",
   "execution_count": 235,
   "metadata": {
    "ExecuteTime": {
     "end_time": "2021-02-09T05:04:19.895051Z",
     "start_time": "2021-02-09T05:04:19.809962Z"
    }
   },
   "outputs": [
    {
     "data": {
      "text/plain": [
       "2.000    11339\n",
       "0.000     7736\n",
       "1.000     1070\n",
       "7.000        1\n",
       "Name: veteran, dtype: int64"
      ]
     },
     "execution_count": 235,
     "metadata": {},
     "output_type": "execute_result"
    }
   ],
   "source": [
    "# Checking the values are as expected of the new column\n",
    "demo_clean.veteran.value_counts(dropna=False)"
   ]
  },
  {
   "cell_type": "code",
   "execution_count": 236,
   "metadata": {
    "ExecuteTime": {
     "end_time": "2021-02-09T05:04:20.397049Z",
     "start_time": "2021-02-09T05:04:20.299978Z"
    }
   },
   "outputs": [],
   "source": [
    "# Drop the old columns that are no longer needed\n",
    "demo_clean.drop(columns=['DMQMILIZ'], inplace=True)"
   ]
  },
  {
   "cell_type": "code",
   "execution_count": 237,
   "metadata": {
    "ExecuteTime": {
     "end_time": "2021-02-09T05:04:20.709968Z",
     "start_time": "2021-02-09T05:04:20.620962Z"
    }
   },
   "outputs": [
    {
     "name": "stdout",
     "output_type": "stream",
     "text": [
      "<class 'pandas.core.frame.DataFrame'>\n",
      "Int64Index: 20146 entries, 73557 to 93702\n",
      "Data columns (total 11 columns):\n",
      " #   Column       Non-Null Count  Dtype  \n",
      "---  ------       --------------  -----  \n",
      " 0   RIAGENDR     20146 non-null  float64\n",
      " 1   RIDAGEYR     20146 non-null  float64\n",
      " 2   RIDRETH1     20146 non-null  float64\n",
      " 3   DMDCITZN     20140 non-null  float64\n",
      " 4   DMDEDUC2     11488 non-null  float64\n",
      " 5   DMDMARTL     11488 non-null  float64\n",
      " 6   RIDEXPRG     2597 non-null   float64\n",
      " 7   DMDHHSIZ     20146 non-null  float64\n",
      " 8   INDHHIN2     19668 non-null  float64\n",
      " 9   birth_place  20146 non-null  float64\n",
      " 10  veteran      20146 non-null  float64\n",
      "dtypes: float64(11)\n",
      "memory usage: 1.8 MB\n"
     ]
    }
   ],
   "source": [
    "# Checking the columns\n",
    "demo_clean.info()"
   ]
  },
  {
   "cell_type": "markdown",
   "metadata": {},
   "source": [
    "## Household Income"
   ]
  },
  {
   "cell_type": "code",
   "execution_count": 238,
   "metadata": {
    "ExecuteTime": {
     "end_time": "2021-02-09T05:04:22.586964Z",
     "start_time": "2021-02-09T05:04:22.503045Z"
    }
   },
   "outputs": [
    {
     "data": {
      "text/plain": [
       "15.000    3415\n",
       "6.000     2202\n",
       "7.000     1873\n",
       "14.000    1780\n",
       "8.000     1553\n",
       "5.000     1507\n",
       "4.000     1258\n",
       "3.000     1176\n",
       "9.000     1150\n",
       "10.000     876\n",
       "2.000      780\n",
       "12.000     615\n",
       "1.000      523\n",
       "NaN        478\n",
       "77.000     472\n",
       "13.000     279\n",
       "99.000     209\n",
       "Name: INDHHIN2, dtype: int64"
      ]
     },
     "execution_count": 238,
     "metadata": {},
     "output_type": "execute_result"
    }
   ],
   "source": [
    "# Checking column values\n",
    "demo_clean.INDHHIN2.value_counts(dropna=False)"
   ]
  },
  {
   "cell_type": "code",
   "execution_count": 239,
   "metadata": {
    "ExecuteTime": {
     "end_time": "2021-02-09T05:04:23.066046Z",
     "start_time": "2021-02-09T05:04:22.986964Z"
    }
   },
   "outputs": [],
   "source": [
    "# Fill all null values with zero\n",
    "\n",
    "demo_clean.INDHHIN2.fillna(0, inplace=True)"
   ]
  },
  {
   "cell_type": "code",
   "execution_count": 240,
   "metadata": {
    "ExecuteTime": {
     "end_time": "2021-02-09T05:04:23.576067Z",
     "start_time": "2021-02-09T05:04:23.484962Z"
    }
   },
   "outputs": [],
   "source": [
    "# Add columns straight across into a new column\n",
    "demo_clean['household_income'] =  demo_clean['INDHHIN2']"
   ]
  },
  {
   "cell_type": "code",
   "execution_count": 241,
   "metadata": {
    "ExecuteTime": {
     "end_time": "2021-02-09T05:04:23.892968Z",
     "start_time": "2021-02-09T05:04:23.810046Z"
    }
   },
   "outputs": [
    {
     "data": {
      "text/plain": [
       "15.000    3415\n",
       "6.000     2202\n",
       "7.000     1873\n",
       "14.000    1780\n",
       "8.000     1553\n",
       "5.000     1507\n",
       "4.000     1258\n",
       "3.000     1176\n",
       "9.000     1150\n",
       "10.000     876\n",
       "2.000      780\n",
       "12.000     615\n",
       "1.000      523\n",
       "0.000      478\n",
       "77.000     472\n",
       "13.000     279\n",
       "99.000     209\n",
       "Name: household_income, dtype: int64"
      ]
     },
     "execution_count": 241,
     "metadata": {},
     "output_type": "execute_result"
    }
   ],
   "source": [
    "# Checking that the values of the new column are as expected\n",
    "demo_clean.household_income.value_counts(dropna=False)"
   ]
  },
  {
   "cell_type": "code",
   "execution_count": 242,
   "metadata": {
    "ExecuteTime": {
     "end_time": "2021-02-09T05:04:24.382069Z",
     "start_time": "2021-02-09T05:04:24.289962Z"
    }
   },
   "outputs": [],
   "source": [
    "# Dropping the old columns that are no longer needed\n",
    "demo_clean.drop(columns=[ 'INDHHIN2'], inplace=True)"
   ]
  },
  {
   "cell_type": "code",
   "execution_count": 243,
   "metadata": {
    "ExecuteTime": {
     "end_time": "2021-02-09T05:04:24.893965Z",
     "start_time": "2021-02-09T05:04:24.807059Z"
    }
   },
   "outputs": [
    {
     "name": "stdout",
     "output_type": "stream",
     "text": [
      "<class 'pandas.core.frame.DataFrame'>\n",
      "Int64Index: 20146 entries, 73557 to 93702\n",
      "Data columns (total 11 columns):\n",
      " #   Column            Non-Null Count  Dtype  \n",
      "---  ------            --------------  -----  \n",
      " 0   RIAGENDR          20146 non-null  float64\n",
      " 1   RIDAGEYR          20146 non-null  float64\n",
      " 2   RIDRETH1          20146 non-null  float64\n",
      " 3   DMDCITZN          20140 non-null  float64\n",
      " 4   DMDEDUC2          11488 non-null  float64\n",
      " 5   DMDMARTL          11488 non-null  float64\n",
      " 6   RIDEXPRG          2597 non-null   float64\n",
      " 7   DMDHHSIZ          20146 non-null  float64\n",
      " 8   birth_place       20146 non-null  float64\n",
      " 9   veteran           20146 non-null  float64\n",
      " 10  household_income  20146 non-null  float64\n",
      "dtypes: float64(11)\n",
      "memory usage: 1.8 MB\n"
     ]
    }
   ],
   "source": [
    "# Verifying the columns\n",
    "demo_clean.info()"
   ]
  },
  {
   "cell_type": "markdown",
   "metadata": {},
   "source": [
    "## Renaming Columns"
   ]
  },
  {
   "cell_type": "code",
   "execution_count": 244,
   "metadata": {
    "ExecuteTime": {
     "end_time": "2021-02-09T05:04:26.643335Z",
     "start_time": "2021-02-09T05:04:26.565999Z"
    }
   },
   "outputs": [],
   "source": [
    "# Renaming columns\n",
    "demo_clean.rename(columns={'DMDCITZN': 'citizenship', \n",
    "                           'DMDEDUC2': 'education_level', \n",
    "                           'DMDHHSIZ': 'household_size', \n",
    "                           'DMDMARTL': 'marital_status', \n",
    "                           'RIAGENDR': 'gender', \n",
    "                           'RIDAGEYR': 'age', \n",
    "                           'RIDEXPRG': 'pregnant',\n",
    "                           'RIDRETH1': 'race'}, inplace=True)"
   ]
  },
  {
   "cell_type": "code",
   "execution_count": 245,
   "metadata": {
    "ExecuteTime": {
     "end_time": "2021-02-09T05:04:27.222990Z",
     "start_time": "2021-02-09T05:04:27.138043Z"
    }
   },
   "outputs": [
    {
     "name": "stdout",
     "output_type": "stream",
     "text": [
      "<class 'pandas.core.frame.DataFrame'>\n",
      "Int64Index: 20146 entries, 73557 to 93702\n",
      "Data columns (total 11 columns):\n",
      " #   Column            Non-Null Count  Dtype  \n",
      "---  ------            --------------  -----  \n",
      " 0   gender            20146 non-null  float64\n",
      " 1   age               20146 non-null  float64\n",
      " 2   race              20146 non-null  float64\n",
      " 3   citizenship       20140 non-null  float64\n",
      " 4   education_level   11488 non-null  float64\n",
      " 5   marital_status    11488 non-null  float64\n",
      " 6   pregnant          2597 non-null   float64\n",
      " 7   household_size    20146 non-null  float64\n",
      " 8   birth_place       20146 non-null  float64\n",
      " 9   veteran           20146 non-null  float64\n",
      " 10  household_income  20146 non-null  float64\n",
      "dtypes: float64(11)\n",
      "memory usage: 1.8 MB\n"
     ]
    }
   ],
   "source": [
    "# Checking new column names\n",
    "demo_clean.info()"
   ]
  },
  {
   "cell_type": "markdown",
   "metadata": {},
   "source": [
    "## Clean Column Values"
   ]
  },
  {
   "cell_type": "code",
   "execution_count": 246,
   "metadata": {
    "ExecuteTime": {
     "end_time": "2021-02-09T05:04:29.602255Z",
     "start_time": "2021-02-09T05:04:28.988319Z"
    }
   },
   "outputs": [
    {
     "data": {
      "image/png": "[encoded data removed]",
      "text/plain": [
       "<Figure size 1800x720 with 2 Axes>"
      ]
     },
     "metadata": {},
     "output_type": "display_data"
    }
   ],
   "source": [
    "# Visualizing null values\n",
    "ms.matrix(demo_clean);"
   ]
  },
  {
   "cell_type": "code",
   "execution_count": 247,
   "metadata": {
    "ExecuteTime": {
     "end_time": "2021-02-09T05:04:29.972322Z",
     "start_time": "2021-02-09T05:04:29.824316Z"
    }
   },
   "outputs": [
    {
     "name": "stdout",
     "output_type": "stream",
     "text": [
      "gender value counts \n",
      "\n"
     ]
    },
    {
     "data": {
      "text/plain": [
       "2.000    10251\n",
       "1.000     9895\n",
       "Name: gender, dtype: int64"
      ]
     },
     "metadata": {},
     "output_type": "display_data"
    },
    {
     "name": "stdout",
     "output_type": "stream",
     "text": [
      "--------------------------------------\n",
      "age value counts \n",
      "\n"
     ]
    },
    {
     "data": {
      "text/plain": [
       "0.000     801\n",
       "80.000    728\n",
       "2.000     569\n",
       "1.000     555\n",
       "6.000     477\n",
       "7.000     471\n",
       "4.000     452\n",
       "8.000     450\n",
       "11.000    438\n",
       "9.000     434\n",
       "10.000    433\n",
       "3.000     416\n",
       "5.000     414\n",
       "14.000    388\n",
       "16.000    381\n",
       "12.000    366\n",
       "13.000    348\n",
       "15.000    343\n",
       "18.000    329\n",
       "17.000    305\n",
       "19.000    288\n",
       "60.000    236\n",
       "36.000    221\n",
       "63.000    218\n",
       "30.000    216\n",
       "23.000    215\n",
       "61.000    214\n",
       "31.000    211\n",
       "41.000    211\n",
       "51.000    209\n",
       "44.000    209\n",
       "34.000    207\n",
       "48.000    207\n",
       "62.000    207\n",
       "25.000    206\n",
       "43.000    205\n",
       "55.000    205\n",
       "26.000    205\n",
       "33.000    204\n",
       "40.000    203\n",
       "22.000    203\n",
       "52.000    202\n",
       "38.000    200\n",
       "45.000    200\n",
       "54.000    195\n",
       "42.000    195\n",
       "20.000    194\n",
       "47.000    193\n",
       "66.000    193\n",
       "46.000    192\n",
       "50.000    192\n",
       "29.000    192\n",
       "32.000    190\n",
       "27.000    188\n",
       "28.000    187\n",
       "59.000    185\n",
       "24.000    183\n",
       "64.000    183\n",
       "35.000    183\n",
       "57.000    182\n",
       "65.000    175\n",
       "39.000    174\n",
       "56.000    172\n",
       "37.000    171\n",
       "53.000    169\n",
       "49.000    161\n",
       "67.000    158\n",
       "68.000    157\n",
       "21.000    157\n",
       "70.000    156\n",
       "58.000    152\n",
       "69.000    148\n",
       "72.000    141\n",
       "71.000    136\n",
       "73.000    126\n",
       "74.000    116\n",
       "75.000    115\n",
       "76.000     97\n",
       "77.000     86\n",
       "78.000     85\n",
       "79.000     67\n",
       "Name: age, dtype: int64"
      ]
     },
     "metadata": {},
     "output_type": "display_data"
    },
    {
     "name": "stdout",
     "output_type": "stream",
     "text": [
      "--------------------------------------\n",
      "race value counts \n",
      "\n"
     ]
    },
    {
     "data": {
      "text/plain": [
       "3.000    6740\n",
       "4.000    4396\n",
       "1.000    3651\n",
       "5.000    3091\n",
       "2.000    2268\n",
       "Name: race, dtype: int64"
      ]
     },
     "metadata": {},
     "output_type": "display_data"
    },
    {
     "name": "stdout",
     "output_type": "stream",
     "text": [
      "--------------------------------------\n",
      "citizenship value counts \n",
      "\n"
     ]
    },
    {
     "data": {
      "text/plain": [
       "1.000    18005\n",
       "2.000     2112\n",
       "7.000       13\n",
       "9.000       10\n",
       "NaN          6\n",
       "Name: citizenship, dtype: int64"
      ]
     },
     "metadata": {},
     "output_type": "display_data"
    },
    {
     "name": "stdout",
     "output_type": "stream",
     "text": [
      "--------------------------------------\n",
      "education_level value counts \n",
      "\n"
     ]
    },
    {
     "data": {
      "text/plain": [
       "NaN      8658\n",
       "4.000    3462\n",
       "5.000    2865\n",
       "3.000    2539\n",
       "2.000    1467\n",
       "1.000    1143\n",
       "9.000      10\n",
       "7.000       2\n",
       "Name: education_level, dtype: int64"
      ]
     },
     "metadata": {},
     "output_type": "display_data"
    },
    {
     "name": "stdout",
     "output_type": "stream",
     "text": [
      "--------------------------------------\n",
      "marital_status value counts \n",
      "\n"
     ]
    },
    {
     "data": {
      "text/plain": [
       "NaN       8658\n",
       "1.000     5851\n",
       "5.000     2160\n",
       "3.000     1273\n",
       "6.000      972\n",
       "2.000      857\n",
       "4.000      369\n",
       "77.000       4\n",
       "99.000       2\n",
       "Name: marital_status, dtype: int64"
      ]
     },
     "metadata": {},
     "output_type": "display_data"
    },
    {
     "name": "stdout",
     "output_type": "stream",
     "text": [
      "--------------------------------------\n",
      "pregnant value counts \n",
      "\n"
     ]
    },
    {
     "data": {
      "text/plain": [
       "NaN      17549\n",
       "2.000     2275\n",
       "3.000      187\n",
       "1.000      135\n",
       "Name: pregnant, dtype: int64"
      ]
     },
     "metadata": {},
     "output_type": "display_data"
    },
    {
     "name": "stdout",
     "output_type": "stream",
     "text": [
      "--------------------------------------\n",
      "household_size value counts \n",
      "\n"
     ]
    },
    {
     "data": {
      "text/plain": [
       "4.000    4161\n",
       "2.000    3510\n",
       "3.000    3498\n",
       "5.000    3453\n",
       "6.000    1979\n",
       "7.000    1900\n",
       "1.000    1645\n",
       "Name: household_size, dtype: int64"
      ]
     },
     "metadata": {},
     "output_type": "display_data"
    },
    {
     "name": "stdout",
     "output_type": "stream",
     "text": [
      "--------------------------------------\n",
      "birth_place value counts \n",
      "\n"
     ]
    },
    {
     "data": {
      "text/plain": [
       "1.000     15995\n",
       "2.000      4144\n",
       "77.000        4\n",
       "99.000        3\n",
       "Name: birth_place, dtype: int64"
      ]
     },
     "metadata": {},
     "output_type": "display_data"
    },
    {
     "name": "stdout",
     "output_type": "stream",
     "text": [
      "--------------------------------------\n",
      "veteran value counts \n",
      "\n"
     ]
    },
    {
     "data": {
      "text/plain": [
       "2.000    11339\n",
       "0.000     7736\n",
       "1.000     1070\n",
       "7.000        1\n",
       "Name: veteran, dtype: int64"
      ]
     },
     "metadata": {},
     "output_type": "display_data"
    },
    {
     "name": "stdout",
     "output_type": "stream",
     "text": [
      "--------------------------------------\n",
      "household_income value counts \n",
      "\n"
     ]
    },
    {
     "data": {
      "text/plain": [
       "15.000    3415\n",
       "6.000     2202\n",
       "7.000     1873\n",
       "14.000    1780\n",
       "8.000     1553\n",
       "5.000     1507\n",
       "4.000     1258\n",
       "3.000     1176\n",
       "9.000     1150\n",
       "10.000     876\n",
       "2.000      780\n",
       "12.000     615\n",
       "1.000      523\n",
       "0.000      478\n",
       "77.000     472\n",
       "13.000     279\n",
       "99.000     209\n",
       "Name: household_income, dtype: int64"
      ]
     },
     "metadata": {},
     "output_type": "display_data"
    },
    {
     "name": "stdout",
     "output_type": "stream",
     "text": [
      "--------------------------------------\n"
     ]
    }
   ],
   "source": [
    "# Checking all the value counts to see what needs to be fixed\n",
    "pf.val_counts(demo_clean)"
   ]
  },
  {
   "cell_type": "code",
   "execution_count": 248,
   "metadata": {
    "ExecuteTime": {
     "end_time": "2021-02-09T05:04:30.259336Z",
     "start_time": "2021-02-09T05:04:30.167327Z"
    }
   },
   "outputs": [],
   "source": [
    "# Changing the values of the gender column and casting as int type\n",
    "demo_clean['gender'].replace({2.000:1, 1.000:0}, inplace=True)\n",
    "demo_clean['gender'] = demo_clean['gender'].astype('int64')"
   ]
  },
  {
   "cell_type": "code",
   "execution_count": 249,
   "metadata": {
    "ExecuteTime": {
     "end_time": "2021-02-09T05:04:30.751317Z",
     "start_time": "2021-02-09T05:04:30.664317Z"
    }
   },
   "outputs": [
    {
     "data": {
      "text/plain": [
       "1    10251\n",
       "0     9895\n",
       "Name: gender, dtype: int64"
      ]
     },
     "execution_count": 249,
     "metadata": {},
     "output_type": "execute_result"
    }
   ],
   "source": [
    "# Checking column values\n",
    "demo_clean.gender.value_counts()"
   ]
  },
  {
   "cell_type": "code",
   "execution_count": 250,
   "metadata": {
    "ExecuteTime": {
     "end_time": "2021-02-09T05:04:31.282236Z",
     "start_time": "2021-02-09T05:04:31.199324Z"
    }
   },
   "outputs": [],
   "source": [
    "# Casting age column as int type\n",
    "demo_clean['age'] = demo_clean['age'].astype('int64')"
   ]
  },
  {
   "cell_type": "code",
   "execution_count": 251,
   "metadata": {
    "ExecuteTime": {
     "end_time": "2021-02-09T05:04:31.777240Z",
     "start_time": "2021-02-09T05:04:31.688318Z"
    }
   },
   "outputs": [],
   "source": [
    "# Filling in the names of the values for the race column\n",
    "demo_clean['race'].replace({1.000:'Mexican', \n",
    "                            2.000:'Other Hispanic', \n",
    "                            3.000:'White', \n",
    "                            4.000:'Black', \n",
    "                            5.000:'Other and Multiracial'}, \n",
    "                           inplace=True)"
   ]
  },
  {
   "cell_type": "code",
   "execution_count": 252,
   "metadata": {
    "ExecuteTime": {
     "end_time": "2021-02-09T05:04:32.282240Z",
     "start_time": "2021-02-09T05:04:32.188236Z"
    }
   },
   "outputs": [
    {
     "data": {
      "text/plain": [
       "White                    6740\n",
       "Black                    4396\n",
       "Mexican                  3651\n",
       "Other and Multiracial    3091\n",
       "Other Hispanic           2268\n",
       "Name: race, dtype: int64"
      ]
     },
     "execution_count": 252,
     "metadata": {},
     "output_type": "execute_result"
    }
   ],
   "source": [
    "# Checking column values\n",
    "demo_clean.race.value_counts()"
   ]
  },
  {
   "cell_type": "code",
   "execution_count": 253,
   "metadata": {
    "ExecuteTime": {
     "end_time": "2021-02-09T05:04:32.615239Z",
     "start_time": "2021-02-09T05:04:32.521238Z"
    }
   },
   "outputs": [],
   "source": [
    "# Filling in the names of the values for the citizenship column\n",
    "demo_clean['citizenship'].replace({1.000:'Citizen', \n",
    "                                   2.000:'Not Citizen', \n",
    "                                   7.000:'Missing', \n",
    "                                   9.000:'Missing'}, \n",
    "                                  inplace=True)\n",
    "# Filling null values as missing\n",
    "demo_clean['citizenship'].fillna('Missing', inplace=True)"
   ]
  },
  {
   "cell_type": "code",
   "execution_count": 254,
   "metadata": {
    "ExecuteTime": {
     "end_time": "2021-02-09T05:04:33.123238Z",
     "start_time": "2021-02-09T05:04:33.026323Z"
    }
   },
   "outputs": [
    {
     "data": {
      "text/plain": [
       "Citizen        18005\n",
       "Not Citizen     2112\n",
       "Missing           29\n",
       "Name: citizenship, dtype: int64"
      ]
     },
     "execution_count": 254,
     "metadata": {},
     "output_type": "execute_result"
    }
   ],
   "source": [
    "# Checking column values\n",
    "demo_clean.citizenship.value_counts(dropna=False)"
   ]
  },
  {
   "cell_type": "code",
   "execution_count": 255,
   "metadata": {
    "ExecuteTime": {
     "end_time": "2021-02-09T05:04:33.615317Z",
     "start_time": "2021-02-09T05:04:33.528295Z"
    }
   },
   "outputs": [],
   "source": [
    "# Filling in the names of the values for the education level column\n",
    "demo_clean['education_level'].replace({7.000: 0, \n",
    "                                       9.000: 0}, \n",
    "                                      inplace=True)\n",
    "\n",
    "# Filling null values and casting to int type\n",
    "demo_clean['education_level'].fillna(0, inplace=True)\n",
    "demo_clean['education_level'] = demo_clean['education_level'].astype('int64')"
   ]
  },
  {
   "cell_type": "code",
   "execution_count": 256,
   "metadata": {
    "ExecuteTime": {
     "end_time": "2021-02-09T05:04:33.929237Z",
     "start_time": "2021-02-09T05:04:33.843357Z"
    }
   },
   "outputs": [
    {
     "data": {
      "text/plain": [
       "0    8670\n",
       "4    3462\n",
       "5    2865\n",
       "3    2539\n",
       "2    1467\n",
       "1    1143\n",
       "Name: education_level, dtype: int64"
      ]
     },
     "execution_count": 256,
     "metadata": {},
     "output_type": "execute_result"
    }
   ],
   "source": [
    "# Checking column values\n",
    "demo_clean.education_level.value_counts(dropna=False)"
   ]
  },
  {
   "cell_type": "code",
   "execution_count": 257,
   "metadata": {
    "ExecuteTime": {
     "end_time": "2021-02-09T05:04:34.449347Z",
     "start_time": "2021-02-09T05:04:34.347271Z"
    }
   },
   "outputs": [],
   "source": [
    "# Filling in the names of the values for the marital status column\n",
    "demo_clean['marital_status'].replace({1.000:'Married', \n",
    "                                      2.000:'Widowed', \n",
    "                                      3.000:'Divorced', \n",
    "                                      4.000:'Separated', \n",
    "                                      5.000:'Never Married',\n",
    "                                      6.000:'Partner',\n",
    "                                      77.000:'Missing', \n",
    "                                      99.000:'Missing'}, \n",
    "                                      inplace=True)\n",
    "# Filling null values as missing\n",
    "demo_clean['marital_status'].fillna('Missing', inplace=True)"
   ]
  },
  {
   "cell_type": "code",
   "execution_count": 258,
   "metadata": {
    "ExecuteTime": {
     "end_time": "2021-02-09T05:04:34.935237Z",
     "start_time": "2021-02-09T05:04:34.844236Z"
    }
   },
   "outputs": [
    {
     "data": {
      "text/plain": [
       "Missing          8664\n",
       "Married          5851\n",
       "Never Married    2160\n",
       "Divorced         1273\n",
       "Partner           972\n",
       "Widowed           857\n",
       "Separated         369\n",
       "Name: marital_status, dtype: int64"
      ]
     },
     "execution_count": 258,
     "metadata": {},
     "output_type": "execute_result"
    }
   ],
   "source": [
    "# Checking column values\n",
    "demo_clean.marital_status.value_counts(dropna=False)"
   ]
  },
  {
   "cell_type": "code",
   "execution_count": 259,
   "metadata": {
    "ExecuteTime": {
     "end_time": "2021-02-09T05:04:35.434322Z",
     "start_time": "2021-02-09T05:04:35.351242Z"
    }
   },
   "outputs": [],
   "source": [
    "# Casting household size column as int type\n",
    "demo_clean['household_size'] = demo_clean['household_size'].astype('int64')"
   ]
  },
  {
   "cell_type": "code",
   "execution_count": 260,
   "metadata": {
    "ExecuteTime": {
     "end_time": "2021-02-09T05:04:35.956235Z",
     "start_time": "2021-02-09T05:04:35.864238Z"
    }
   },
   "outputs": [],
   "source": [
    "# Filling in the names of the values for the pregnant column\n",
    "demo_clean['pregnant'].replace({1.000:'Yes', \n",
    "                                2.000:'No', \n",
    "                                3.000:'Missing'}, \n",
    "                                  inplace=True)\n",
    "# Filling null values as missing\n",
    "demo_clean['pregnant'].fillna('Missing', inplace=True)"
   ]
  },
  {
   "cell_type": "code",
   "execution_count": 261,
   "metadata": {
    "ExecuteTime": {
     "end_time": "2021-02-09T05:04:36.459237Z",
     "start_time": "2021-02-09T05:04:36.368238Z"
    }
   },
   "outputs": [
    {
     "data": {
      "text/plain": [
       "Missing    17736\n",
       "No          2275\n",
       "Yes          135\n",
       "Name: pregnant, dtype: int64"
      ]
     },
     "execution_count": 261,
     "metadata": {},
     "output_type": "execute_result"
    }
   ],
   "source": [
    "# Checking column values\n",
    "demo_clean.pregnant.value_counts(dropna=False)"
   ]
  },
  {
   "cell_type": "code",
   "execution_count": 262,
   "metadata": {
    "ExecuteTime": {
     "end_time": "2021-02-09T05:04:36.955237Z",
     "start_time": "2021-02-09T05:04:36.861236Z"
    }
   },
   "outputs": [],
   "source": [
    "# Filling in the names of the values for the birth place column\n",
    "demo_clean['birth_place'].replace({1.000:'USA', \n",
    "                                   2.000:'Mexico', \n",
    "                                   3.000:'Elsewhere', \n",
    "                                   4.000:'Other Spanish Country', \n",
    "                                   5.000:'Other Non Spanish Country',\n",
    "                                   7.000:'Missing', \n",
    "                                   9.000:'Missing',\n",
    "                                   77.000:'Missing', \n",
    "                                   99.000:'Missing'}, \n",
    "                                    inplace=True)\n",
    "# Filling null values as missing\n",
    "demo_clean['birth_place'].fillna('Missing', inplace=True)"
   ]
  },
  {
   "cell_type": "code",
   "execution_count": 263,
   "metadata": {
    "ExecuteTime": {
     "end_time": "2021-02-09T05:04:37.442324Z",
     "start_time": "2021-02-09T05:04:37.348322Z"
    }
   },
   "outputs": [
    {
     "data": {
      "text/plain": [
       "USA        15995\n",
       "Mexico      4144\n",
       "Missing        7\n",
       "Name: birth_place, dtype: int64"
      ]
     },
     "execution_count": 263,
     "metadata": {},
     "output_type": "execute_result"
    }
   ],
   "source": [
    "# Checking column values\n",
    "demo_clean.birth_place.value_counts(dropna=False)"
   ]
  },
  {
   "cell_type": "code",
   "execution_count": 264,
   "metadata": {
    "ExecuteTime": {
     "end_time": "2021-02-09T05:04:37.930236Z",
     "start_time": "2021-02-09T05:04:37.840238Z"
    }
   },
   "outputs": [],
   "source": [
    "# Filling in the names of the values for the veteran column\n",
    "demo_clean['veteran'].replace({1.000:'Yes', \n",
    "                               2.000:'No', \n",
    "                               7.000:'Missing', \n",
    "                               9.000:'Missing',\n",
    "                               0.000:'Missing'}, \n",
    "                                inplace=True)"
   ]
  },
  {
   "cell_type": "code",
   "execution_count": 265,
   "metadata": {
    "ExecuteTime": {
     "end_time": "2021-02-09T05:04:38.419305Z",
     "start_time": "2021-02-09T05:04:38.332321Z"
    }
   },
   "outputs": [
    {
     "data": {
      "text/plain": [
       "No         11339\n",
       "Missing     7737\n",
       "Yes         1070\n",
       "Name: veteran, dtype: int64"
      ]
     },
     "execution_count": 265,
     "metadata": {},
     "output_type": "execute_result"
    }
   ],
   "source": [
    "# Checking column values\n",
    "demo_clean.veteran.value_counts(dropna=False)"
   ]
  },
  {
   "cell_type": "code",
   "execution_count": 266,
   "metadata": {
    "ExecuteTime": {
     "end_time": "2021-02-09T05:04:38.897236Z",
     "start_time": "2021-02-09T05:04:38.813320Z"
    }
   },
   "outputs": [],
   "source": [
    "# Fixing the values of the household income column\n",
    "demo_clean['household_income'].replace({12.000: 5, \n",
    "                                        13.000: 4,\n",
    "                                        14.000: 11,\n",
    "                                        15.000: 12,\n",
    "                                        77.000: 0, \n",
    "                                        99.000: 0}, \n",
    "                                        inplace=True)\n",
    "# Casting the household income column as int type\n",
    "demo_clean['household_income'] = demo_clean['household_income'].astype('int64')"
   ]
  },
  {
   "cell_type": "code",
   "execution_count": 267,
   "metadata": {
    "ExecuteTime": {
     "end_time": "2021-02-09T05:04:39.391281Z",
     "start_time": "2021-02-09T05:04:39.310239Z"
    }
   },
   "outputs": [
    {
     "data": {
      "text/plain": [
       "12    3415\n",
       "6     2202\n",
       "5     2122\n",
       "7     1873\n",
       "11    1780\n",
       "8     1553\n",
       "4     1537\n",
       "3     1176\n",
       "0     1159\n",
       "9     1150\n",
       "10     876\n",
       "2      780\n",
       "1      523\n",
       "Name: household_income, dtype: int64"
      ]
     },
     "execution_count": 267,
     "metadata": {},
     "output_type": "execute_result"
    }
   ],
   "source": [
    "# Checking column values\n",
    "demo_clean.household_income.value_counts(dropna=False)"
   ]
  },
  {
   "cell_type": "code",
   "execution_count": 268,
   "metadata": {
    "ExecuteTime": {
     "end_time": "2021-02-09T05:04:39.900239Z",
     "start_time": "2021-02-09T05:04:39.790318Z"
    }
   },
   "outputs": [
    {
     "data": {
      "text/plain": [
       "gender              0\n",
       "age                 0\n",
       "race                0\n",
       "citizenship         0\n",
       "education_level     0\n",
       "marital_status      0\n",
       "pregnant            0\n",
       "household_size      0\n",
       "birth_place         0\n",
       "veteran             0\n",
       "household_income    0\n",
       "dtype: int64"
      ]
     },
     "execution_count": 268,
     "metadata": {},
     "output_type": "execute_result"
    }
   ],
   "source": [
    "# Checking that all null values were filled\n",
    "demo_clean.isna().sum()"
   ]
  },
  {
   "cell_type": "code",
   "execution_count": 269,
   "metadata": {
    "ExecuteTime": {
     "end_time": "2021-02-09T05:04:40.415236Z",
     "start_time": "2021-02-09T05:04:40.288237Z"
    }
   },
   "outputs": [
    {
     "name": "stdout",
     "output_type": "stream",
     "text": [
      "<class 'pandas.core.frame.DataFrame'>\n",
      "Int64Index: 20146 entries, 73557 to 93702\n",
      "Data columns (total 11 columns):\n",
      " #   Column            Non-Null Count  Dtype \n",
      "---  ------            --------------  ----- \n",
      " 0   gender            20146 non-null  int64 \n",
      " 1   age               20146 non-null  int64 \n",
      " 2   race              20146 non-null  object\n",
      " 3   citizenship       20146 non-null  object\n",
      " 4   education_level   20146 non-null  int64 \n",
      " 5   marital_status    20146 non-null  object\n",
      " 6   pregnant          20146 non-null  object\n",
      " 7   household_size    20146 non-null  int64 \n",
      " 8   birth_place       20146 non-null  object\n",
      " 9   veteran           20146 non-null  object\n",
      " 10  household_income  20146 non-null  int64 \n",
      "dtypes: int64(5), object(6)\n",
      "memory usage: 1.8+ MB\n"
     ]
    }
   ],
   "source": [
    "# Checking columns\n",
    "demo_clean.info()"
   ]
  },
  {
   "cell_type": "markdown",
   "metadata": {},
   "source": [
    "# Occupation"
   ]
  },
  {
   "cell_type": "code",
   "execution_count": 271,
   "metadata": {
    "ExecuteTime": {
     "end_time": "2021-02-09T05:06:22.329365Z",
     "start_time": "2021-02-09T05:06:21.946342Z"
    }
   },
   "outputs": [
    {
     "data": {
      "text/plain": [
       "['C:\\\\Users\\\\LaptopCheckout\\\\Documents\\\\CSCE_5210\\\\dataOccupation\\\\OCQ_H.XPT',\n",
       " 'C:\\\\Users\\\\LaptopCheckout\\\\Documents\\\\CSCE_5210\\\\dataOccupation\\\\OCQ_I.XPT']"
      ]
     },
     "metadata": {},
     "output_type": "display_data"
    }
   ],
   "source": [
    "# Combining all the files for the occupation information\n",
    "path = r'C:\\Users\\LaptopCheckout\\Documents\\CSCE_5210\\dataOccupation'\n",
    "df_occupation = pf.glob_concat(path, '*.XPT')"
   ]
  },
  {
   "cell_type": "code",
   "execution_count": 272,
   "metadata": {
    "ExecuteTime": {
     "end_time": "2021-02-09T05:06:22.629262Z",
     "start_time": "2021-02-09T05:06:22.494298Z"
    }
   },
   "outputs": [
    {
     "data": {
      "text/html": [
       "<div>\n",
       "<style scoped>\n",
       "    .dataframe tbody tr th:only-of-type {\n",
       "        vertical-align: middle;\n",
       "    }\n",
       "\n",
       "    .dataframe tbody tr th {\n",
       "        vertical-align: top;\n",
       "    }\n",
       "\n",
       "    .dataframe thead th {\n",
       "        text-align: right;\n",
       "    }\n",
       "</style>\n",
       "<table border=\"1\" class=\"dataframe\">\n",
       "  <thead>\n",
       "    <tr style=\"text-align: right;\">\n",
       "      <th></th>\n",
       "      <th>OCD150</th>\n",
       "      <th>OCQ180</th>\n",
       "      <th>OCQ210</th>\n",
       "      <th>OCD231</th>\n",
       "      <th>OCD241</th>\n",
       "      <th>OCQ260</th>\n",
       "      <th>OCD270</th>\n",
       "      <th>OCQ380</th>\n",
       "      <th>OCD390G</th>\n",
       "      <th>OCD391</th>\n",
       "      <th>OCD392</th>\n",
       "      <th>OCD395</th>\n",
       "      <th>OCQ600</th>\n",
       "      <th>OCQ610</th>\n",
       "      <th>OCQ630</th>\n",
       "      <th>OCQ640</th>\n",
       "      <th>OCQ660</th>\n",
       "    </tr>\n",
       "    <tr>\n",
       "      <th>SEQN</th>\n",
       "      <th></th>\n",
       "      <th></th>\n",
       "      <th></th>\n",
       "      <th></th>\n",
       "      <th></th>\n",
       "      <th></th>\n",
       "      <th></th>\n",
       "      <th></th>\n",
       "      <th></th>\n",
       "      <th></th>\n",
       "      <th></th>\n",
       "      <th></th>\n",
       "      <th></th>\n",
       "      <th></th>\n",
       "      <th></th>\n",
       "      <th></th>\n",
       "      <th></th>\n",
       "    </tr>\n",
       "  </thead>\n",
       "  <tbody>\n",
       "    <tr>\n",
       "      <th>73557</th>\n",
       "      <td>4.000</td>\n",
       "      <td>NaN</td>\n",
       "      <td>NaN</td>\n",
       "      <td>NaN</td>\n",
       "      <td>NaN</td>\n",
       "      <td>NaN</td>\n",
       "      <td>NaN</td>\n",
       "      <td>3.000</td>\n",
       "      <td>1.000</td>\n",
       "      <td>10.000</td>\n",
       "      <td>16.000</td>\n",
       "      <td>204.000</td>\n",
       "      <td>NaN</td>\n",
       "      <td>NaN</td>\n",
       "      <td>NaN</td>\n",
       "      <td>NaN</td>\n",
       "      <td>NaN</td>\n",
       "    </tr>\n",
       "    <tr>\n",
       "      <th>73558</th>\n",
       "      <td>1.000</td>\n",
       "      <td>50.000</td>\n",
       "      <td>NaN</td>\n",
       "      <td>8.000</td>\n",
       "      <td>16.000</td>\n",
       "      <td>1.000</td>\n",
       "      <td>420.000</td>\n",
       "      <td>NaN</td>\n",
       "      <td>2.000</td>\n",
       "      <td>NaN</td>\n",
       "      <td>NaN</td>\n",
       "      <td>NaN</td>\n",
       "      <td>NaN</td>\n",
       "      <td>NaN</td>\n",
       "      <td>NaN</td>\n",
       "      <td>NaN</td>\n",
       "      <td>NaN</td>\n",
       "    </tr>\n",
       "    <tr>\n",
       "      <th>73559</th>\n",
       "      <td>4.000</td>\n",
       "      <td>NaN</td>\n",
       "      <td>NaN</td>\n",
       "      <td>NaN</td>\n",
       "      <td>NaN</td>\n",
       "      <td>NaN</td>\n",
       "      <td>NaN</td>\n",
       "      <td>3.000</td>\n",
       "      <td>1.000</td>\n",
       "      <td>21.000</td>\n",
       "      <td>2.000</td>\n",
       "      <td>216.000</td>\n",
       "      <td>NaN</td>\n",
       "      <td>NaN</td>\n",
       "      <td>NaN</td>\n",
       "      <td>NaN</td>\n",
       "      <td>NaN</td>\n",
       "    </tr>\n",
       "    <tr>\n",
       "      <th>73561</th>\n",
       "      <td>4.000</td>\n",
       "      <td>NaN</td>\n",
       "      <td>NaN</td>\n",
       "      <td>NaN</td>\n",
       "      <td>NaN</td>\n",
       "      <td>NaN</td>\n",
       "      <td>NaN</td>\n",
       "      <td>4.000</td>\n",
       "      <td>1.000</td>\n",
       "      <td>15.000</td>\n",
       "      <td>8.000</td>\n",
       "      <td>372.000</td>\n",
       "      <td>NaN</td>\n",
       "      <td>NaN</td>\n",
       "      <td>NaN</td>\n",
       "      <td>NaN</td>\n",
       "      <td>NaN</td>\n",
       "    </tr>\n",
       "    <tr>\n",
       "      <th>73562</th>\n",
       "      <td>1.000</td>\n",
       "      <td>56.000</td>\n",
       "      <td>NaN</td>\n",
       "      <td>9.000</td>\n",
       "      <td>17.000</td>\n",
       "      <td>2.000</td>\n",
       "      <td>372.000</td>\n",
       "      <td>NaN</td>\n",
       "      <td>2.000</td>\n",
       "      <td>NaN</td>\n",
       "      <td>NaN</td>\n",
       "      <td>NaN</td>\n",
       "      <td>NaN</td>\n",
       "      <td>NaN</td>\n",
       "      <td>NaN</td>\n",
       "      <td>NaN</td>\n",
       "      <td>NaN</td>\n",
       "    </tr>\n",
       "  </tbody>\n",
       "</table>\n",
       "</div>"
      ],
      "text/plain": [
       "       OCD150  OCQ180  OCQ210  OCD231  ...  OCQ610  OCQ630  OCQ640  OCQ660\n",
       "SEQN                                   ...                                \n",
       "73557   4.000     NaN     NaN     NaN  ...     NaN     NaN     NaN     NaN\n",
       "73558   1.000  50.000     NaN   8.000  ...     NaN     NaN     NaN     NaN\n",
       "73559   4.000     NaN     NaN     NaN  ...     NaN     NaN     NaN     NaN\n",
       "73561   4.000     NaN     NaN     NaN  ...     NaN     NaN     NaN     NaN\n",
       "73562   1.000  56.000     NaN   9.000  ...     NaN     NaN     NaN     NaN\n",
       "\n",
       "[5 rows x 17 columns]"
      ]
     },
     "execution_count": 272,
     "metadata": {},
     "output_type": "execute_result"
    }
   ],
   "source": [
    "# Checking the dataframe\n",
    "df_occupation.head()"
   ]
  },
  {
   "cell_type": "code",
   "execution_count": 273,
   "metadata": {
    "ExecuteTime": {
     "end_time": "2021-02-09T05:06:23.054346Z",
     "start_time": "2021-02-09T05:06:22.946343Z"
    }
   },
   "outputs": [
    {
     "name": "stdout",
     "output_type": "stream",
     "text": [
      "<class 'pandas.core.frame.DataFrame'>\n",
      "Int64Index: 12791 entries, 73557 to 93702\n",
      "Data columns (total 17 columns):\n",
      " #   Column   Non-Null Count  Dtype  \n",
      "---  ------   --------------  -----  \n",
      " 0   OCD150   12784 non-null  float64\n",
      " 1   OCQ180   6731 non-null   float64\n",
      " 2   OCQ210   2126 non-null   float64\n",
      " 3   OCD231   3418 non-null   float64\n",
      " 4   OCD241   3421 non-null   float64\n",
      " 5   OCQ260   6962 non-null   float64\n",
      " 6   OCD270   6962 non-null   float64\n",
      " 7   OCQ380   5355 non-null   float64\n",
      " 8   OCD390G  12784 non-null  float64\n",
      " 9   OCD391   3434 non-null   float64\n",
      " 10  OCD392   3437 non-null   float64\n",
      " 11  OCD395   7091 non-null   float64\n",
      " 12  OCQ600   3519 non-null   float64\n",
      " 13  OCQ610   3514 non-null   float64\n",
      " 14  OCQ630   1019 non-null   float64\n",
      " 15  OCQ640   3512 non-null   float64\n",
      " 16  OCQ660   594 non-null    float64\n",
      "dtypes: float64(17)\n",
      "memory usage: 1.8 MB\n"
     ]
    }
   ],
   "source": [
    "df_occupation.info()"
   ]
  },
  {
   "cell_type": "code",
   "execution_count": 274,
   "metadata": {
    "ExecuteTime": {
     "end_time": "2021-02-09T05:06:23.363265Z",
     "start_time": "2021-02-09T05:06:23.278264Z"
    }
   },
   "outputs": [
    {
     "data": {
      "text/plain": [
       "Index(['OCD150', 'OCQ180', 'OCQ210', 'OCD231', 'OCD241', 'OCQ260', 'OCD270',\n",
       "       'OCQ380', 'OCD390G', 'OCD391', 'OCD392', 'OCD395', 'OCQ600', 'OCQ610',\n",
       "       'OCQ630', 'OCQ640', 'OCQ660'],\n",
       "      dtype='object')"
      ]
     },
     "execution_count": 274,
     "metadata": {},
     "output_type": "execute_result"
    }
   ],
   "source": [
    "# Listing the columns to look each one up\n",
    "df_occupation.columns"
   ]
  },
  {
   "cell_type": "code",
   "execution_count": 275,
   "metadata": {
    "ExecuteTime": {
     "end_time": "2021-02-09T05:06:24.030348Z",
     "start_time": "2021-02-09T05:06:23.811341Z"
    }
   },
   "outputs": [],
   "source": [
    "# Listing the columns to keep and creating a new dataframe\n",
    "occupation_tokeep = ['OCQ210', 'OCQ260', 'OCD270', 'OCQ380',]\n",
    "occupation_clean = pf.cols_tokeep(df_occupation, occupation_tokeep)"
   ]
  },
  {
   "cell_type": "code",
   "execution_count": 276,
   "metadata": {
    "ExecuteTime": {
     "end_time": "2021-02-09T05:06:24.264359Z",
     "start_time": "2021-02-09T05:06:24.162364Z"
    }
   },
   "outputs": [
    {
     "data": {
      "text/html": [
       "<div>\n",
       "<style scoped>\n",
       "    .dataframe tbody tr th:only-of-type {\n",
       "        vertical-align: middle;\n",
       "    }\n",
       "\n",
       "    .dataframe tbody tr th {\n",
       "        vertical-align: top;\n",
       "    }\n",
       "\n",
       "    .dataframe thead th {\n",
       "        text-align: right;\n",
       "    }\n",
       "</style>\n",
       "<table border=\"1\" class=\"dataframe\">\n",
       "  <thead>\n",
       "    <tr style=\"text-align: right;\">\n",
       "      <th></th>\n",
       "      <th>OCQ210</th>\n",
       "      <th>OCQ260</th>\n",
       "      <th>OCD270</th>\n",
       "      <th>OCQ380</th>\n",
       "    </tr>\n",
       "    <tr>\n",
       "      <th>SEQN</th>\n",
       "      <th></th>\n",
       "      <th></th>\n",
       "      <th></th>\n",
       "      <th></th>\n",
       "    </tr>\n",
       "  </thead>\n",
       "  <tbody>\n",
       "    <tr>\n",
       "      <th>73557</th>\n",
       "      <td>NaN</td>\n",
       "      <td>NaN</td>\n",
       "      <td>NaN</td>\n",
       "      <td>3.000</td>\n",
       "    </tr>\n",
       "    <tr>\n",
       "      <th>73558</th>\n",
       "      <td>NaN</td>\n",
       "      <td>1.000</td>\n",
       "      <td>420.000</td>\n",
       "      <td>NaN</td>\n",
       "    </tr>\n",
       "    <tr>\n",
       "      <th>73559</th>\n",
       "      <td>NaN</td>\n",
       "      <td>NaN</td>\n",
       "      <td>NaN</td>\n",
       "      <td>3.000</td>\n",
       "    </tr>\n",
       "    <tr>\n",
       "      <th>73561</th>\n",
       "      <td>NaN</td>\n",
       "      <td>NaN</td>\n",
       "      <td>NaN</td>\n",
       "      <td>4.000</td>\n",
       "    </tr>\n",
       "    <tr>\n",
       "      <th>73562</th>\n",
       "      <td>NaN</td>\n",
       "      <td>2.000</td>\n",
       "      <td>372.000</td>\n",
       "      <td>NaN</td>\n",
       "    </tr>\n",
       "  </tbody>\n",
       "</table>\n",
       "</div>"
      ],
      "text/plain": [
       "       OCQ210  OCQ260  OCD270  OCQ380\n",
       "SEQN                                 \n",
       "73557     NaN     NaN     NaN   3.000\n",
       "73558     NaN   1.000 420.000     NaN\n",
       "73559     NaN     NaN     NaN   3.000\n",
       "73561     NaN     NaN     NaN   4.000\n",
       "73562     NaN   2.000 372.000     NaN"
      ]
     },
     "execution_count": 276,
     "metadata": {},
     "output_type": "execute_result"
    }
   ],
   "source": [
    "# Checking the new dataframe\n",
    "occupation_clean.head()"
   ]
  },
  {
   "cell_type": "markdown",
   "metadata": {},
   "source": [
    "## Renaming Columns"
   ]
  },
  {
   "cell_type": "code",
   "execution_count": 277,
   "metadata": {
    "ExecuteTime": {
     "end_time": "2021-02-09T05:06:25.524081Z",
     "start_time": "2021-02-09T05:06:25.446309Z"
    }
   },
   "outputs": [
    {
     "data": {
      "text/plain": [
       "Index(['OCQ210', 'OCQ260', 'OCD270', 'OCQ380'], dtype='object')"
      ]
     },
     "execution_count": 277,
     "metadata": {},
     "output_type": "execute_result"
    }
   ],
   "source": [
    "# Listing the columns to look each one up\n",
    "occupation_clean.columns"
   ]
  },
  {
   "cell_type": "code",
   "execution_count": 278,
   "metadata": {
    "ExecuteTime": {
     "end_time": "2021-02-09T05:06:26.016344Z",
     "start_time": "2021-02-09T05:06:25.937270Z"
    }
   },
   "outputs": [],
   "source": [
    "# Renaming the columns\n",
    "occupation_clean.rename(columns={'OCQ210': 'full_time_work', \n",
    "                            'OCQ260': 'work_type', \n",
    "                            'OCD270': 'time_in_current_job',\n",
    "                            'OCQ380': 'out_of_work'\n",
    "                            }, inplace=True)"
   ]
  },
  {
   "cell_type": "code",
   "execution_count": 279,
   "metadata": {
    "ExecuteTime": {
     "end_time": "2021-02-09T05:06:26.492365Z",
     "start_time": "2021-02-09T05:06:26.412261Z"
    }
   },
   "outputs": [
    {
     "name": "stdout",
     "output_type": "stream",
     "text": [
      "<class 'pandas.core.frame.DataFrame'>\n",
      "Int64Index: 12791 entries, 73557 to 93702\n",
      "Data columns (total 4 columns):\n",
      " #   Column               Non-Null Count  Dtype  \n",
      "---  ------               --------------  -----  \n",
      " 0   full_time_work       2126 non-null   float64\n",
      " 1   work_type            6962 non-null   float64\n",
      " 2   time_in_current_job  6962 non-null   float64\n",
      " 3   out_of_work          5355 non-null   float64\n",
      "dtypes: float64(4)\n",
      "memory usage: 499.6 KB\n"
     ]
    }
   ],
   "source": [
    "# Checking the columns\n",
    "occupation_clean.info()"
   ]
  },
  {
   "cell_type": "markdown",
   "metadata": {},
   "source": [
    "## Clean Column Values"
   ]
  },
  {
   "cell_type": "code",
   "execution_count": 280,
   "metadata": {
    "ExecuteTime": {
     "end_time": "2021-02-09T05:06:27.800342Z",
     "start_time": "2021-02-09T05:06:27.701261Z"
    }
   },
   "outputs": [
    {
     "name": "stdout",
     "output_type": "stream",
     "text": [
      "full_time_work value counts \n",
      "\n"
     ]
    },
    {
     "data": {
      "text/plain": [
       "NaN      10665\n",
       "2.000     1421\n",
       "1.000      697\n",
       "9.000        5\n",
       "7.000        3\n",
       "Name: full_time_work, dtype: int64"
      ]
     },
     "metadata": {},
     "output_type": "display_data"
    },
    {
     "name": "stdout",
     "output_type": "stream",
     "text": [
      "--------------------------------------\n",
      "work_type value counts \n",
      "\n"
     ]
    },
    {
     "data": {
      "text/plain": [
       "NaN       5829\n",
       "1.000     5417\n",
       "5.000      571\n",
       "4.000      395\n",
       "3.000      361\n",
       "2.000      144\n",
       "99.000      38\n",
       "6.000       30\n",
       "77.000       6\n",
       "Name: work_type, dtype: int64"
      ]
     },
     "metadata": {},
     "output_type": "display_data"
    },
    {
     "name": "stdout",
     "output_type": "stream",
     "text": [
      "--------------------------------------\n",
      "time_in_current_job value counts \n",
      "\n"
     ]
    },
    {
     "data": {
      "text/plain": [
       "NaN          5829\n",
       "24.000        554\n",
       "12.000        511\n",
       "36.000        469\n",
       "60.000        364\n",
       "48.000        353\n",
       "120.000       296\n",
       "72.000        250\n",
       "84.000        243\n",
       "6.000         218\n",
       "3.000         214\n",
       "96.000        212\n",
       "18.000        195\n",
       "0.000         184\n",
       "2.000         176\n",
       "1.000         154\n",
       "180.000       146\n",
       "144.000       146\n",
       "4.000         142\n",
       "240.000       140\n",
       "108.000       135\n",
       "132.000       122\n",
       "7.000         120\n",
       "8.000         105\n",
       "5.000         104\n",
       "156.000        98\n",
       "168.000        94\n",
       "192.000        80\n",
       "300.000        75\n",
       "216.000        75\n",
       "9.000          66\n",
       "204.000        66\n",
       "360.000        58\n",
       "264.000        55\n",
       "10.000         47\n",
       "276.000        46\n",
       "420.000        43\n",
       "30.000         39\n",
       "252.000        38\n",
       "16.000         36\n",
       "288.000        35\n",
       "480.000        31\n",
       "228.000        31\n",
       "312.000        31\n",
       "336.000        30\n",
       "324.000        29\n",
       "15.000         27\n",
       "11.000         26\n",
       "14.000         26\n",
       "396.000        20\n",
       "372.000        17\n",
       "17.000         16\n",
       "13.000         15\n",
       "408.000        14\n",
       "19.000         13\n",
       "42.000         13\n",
       "20.000         11\n",
       "77777.000       9\n",
       "348.000         8\n",
       "456.000         7\n",
       "540.000         7\n",
       "600.000         5\n",
       "384.000         5\n",
       "444.000         5\n",
       "660.000         5\n",
       "468.000         5\n",
       "516.000         4\n",
       "528.000         3\n",
       "22.000          3\n",
       "33.000          3\n",
       "504.000         3\n",
       "25.000          3\n",
       "432.000         3\n",
       "27.000          3\n",
       "32.000          2\n",
       "29.000          2\n",
       "39.000          2\n",
       "26.000          2\n",
       "46.000          2\n",
       "492.000         2\n",
       "612.000         2\n",
       "576.000         2\n",
       "28.000          2\n",
       "40.000          1\n",
       "23.000          1\n",
       "44.000          1\n",
       "31.000          1\n",
       "720.000         1\n",
       "43.000          1\n",
       "624.000         1\n",
       "564.000         1\n",
       "21.000          1\n",
       "Name: time_in_current_job, dtype: int64"
      ]
     },
     "metadata": {},
     "output_type": "display_data"
    },
    {
     "name": "stdout",
     "output_type": "stream",
     "text": [
      "--------------------------------------\n",
      "out_of_work value counts \n",
      "\n"
     ]
    },
    {
     "data": {
      "text/plain": [
       "NaN       7436\n",
       "3.000     2114\n",
       "1.000      893\n",
       "2.000      764\n",
       "6.000      712\n",
       "4.000      407\n",
       "7.000      357\n",
       "5.000      105\n",
       "77.000       2\n",
       "99.000       1\n",
       "Name: out_of_work, dtype: int64"
      ]
     },
     "metadata": {},
     "output_type": "display_data"
    },
    {
     "name": "stdout",
     "output_type": "stream",
     "text": [
      "--------------------------------------\n"
     ]
    }
   ],
   "source": [
    "# Checking all values in the dataframe\n",
    "pf.val_counts(occupation_clean)"
   ]
  },
  {
   "cell_type": "code",
   "execution_count": 281,
   "metadata": {
    "ExecuteTime": {
     "end_time": "2021-02-09T05:06:28.300265Z",
     "start_time": "2021-02-09T05:06:28.214321Z"
    }
   },
   "outputs": [],
   "source": [
    "# Replacing values\n",
    "occupation_clean['full_time_work'].replace({1.000:'Yes', \n",
    "                            2.000:'No', \n",
    "                            7.000:'Missing', \n",
    "                            9.000:'Missing'}, \n",
    "                           inplace=True)"
   ]
  },
  {
   "cell_type": "code",
   "execution_count": 282,
   "metadata": {
    "ExecuteTime": {
     "end_time": "2021-02-09T05:06:28.802261Z",
     "start_time": "2021-02-09T05:06:28.713262Z"
    }
   },
   "outputs": [],
   "source": [
    "# Replacing values\n",
    "occupation_clean['work_type'].replace({1.000:'Private Wage Worker', \n",
    "                            2.000:'Government', \n",
    "                            3.000:'Government', \n",
    "                            4.000:'Government', \n",
    "                            5.000:'Self Employed',\n",
    "                            6.000:'Family Business',\n",
    "                            77.000:'Missing',\n",
    "                            99.000:'Missing'}, \n",
    "                           inplace=True)"
   ]
  },
  {
   "cell_type": "code",
   "execution_count": 283,
   "metadata": {
    "ExecuteTime": {
     "end_time": "2021-02-09T05:06:29.324695Z",
     "start_time": "2021-02-09T05:06:29.223285Z"
    }
   },
   "outputs": [],
   "source": [
    "# Replacing values\n",
    "occupation_clean['time_in_current_job'].replace({77777.000: 0, \n",
    "                            99999.000: 0}, \n",
    "                           inplace=True)"
   ]
  },
  {
   "cell_type": "code",
   "execution_count": 284,
   "metadata": {
    "ExecuteTime": {
     "end_time": "2021-02-09T05:06:29.681266Z",
     "start_time": "2021-02-09T05:06:29.587266Z"
    }
   },
   "outputs": [],
   "source": [
    "# Replacing values\n",
    "occupation_clean['out_of_work'].replace({1.000:'Home Caretaker', \n",
    "                            2.000:'School', \n",
    "                            3.000:'Retired', \n",
    "                            4.000:'Health', \n",
    "                            5.000:'Layoff',\n",
    "                            6.000:'Disabled',\n",
    "                            7.000:'Other',\n",
    "                            77.000:'Missing',\n",
    "                            99.000:'Missing'}, \n",
    "                           inplace=True)"
   ]
  },
  {
   "cell_type": "code",
   "execution_count": 285,
   "metadata": {
    "ExecuteTime": {
     "end_time": "2021-02-09T05:06:30.155264Z",
     "start_time": "2021-02-09T05:06:30.075265Z"
    }
   },
   "outputs": [],
   "source": [
    "# Filling null values\n",
    "occupation_clean['time_in_current_job'].fillna(0, inplace=True)"
   ]
  },
  {
   "cell_type": "code",
   "execution_count": 286,
   "metadata": {
    "ExecuteTime": {
     "end_time": "2021-02-09T05:06:30.654746Z",
     "start_time": "2021-02-09T05:06:30.575315Z"
    }
   },
   "outputs": [],
   "source": [
    "# Casting column as int type\n",
    "occupation_clean['time_in_current_job'] = occupation_clean['time_in_current_job'].astype('int64')"
   ]
  },
  {
   "cell_type": "code",
   "execution_count": 287,
   "metadata": {
    "ExecuteTime": {
     "end_time": "2021-02-09T05:06:31.241265Z",
     "start_time": "2021-02-09T05:06:31.152343Z"
    }
   },
   "outputs": [
    {
     "data": {
      "text/plain": [
       "full_time_work         10665\n",
       "work_type               5829\n",
       "time_in_current_job        0\n",
       "out_of_work             7436\n",
       "dtype: int64"
      ]
     },
     "execution_count": 287,
     "metadata": {},
     "output_type": "execute_result"
    }
   ],
   "source": [
    "# Checking null values\n",
    "occupation_clean.isna().sum()"
   ]
  },
  {
   "cell_type": "code",
   "execution_count": 288,
   "metadata": {
    "ExecuteTime": {
     "end_time": "2021-02-09T05:06:32.026705Z",
     "start_time": "2021-02-09T05:06:31.935266Z"
    }
   },
   "outputs": [],
   "source": [
    "# Filling null values\n",
    "occupation_clean.fillna('Missing', inplace=True)"
   ]
  },
  {
   "cell_type": "code",
   "execution_count": 289,
   "metadata": {
    "ExecuteTime": {
     "end_time": "2021-02-09T05:06:32.649263Z",
     "start_time": "2021-02-09T05:06:32.538364Z"
    }
   },
   "outputs": [
    {
     "name": "stdout",
     "output_type": "stream",
     "text": [
      "full_time_work value counts \n",
      "\n"
     ]
    },
    {
     "data": {
      "text/plain": [
       "Missing    10673\n",
       "No          1421\n",
       "Yes          697\n",
       "Name: full_time_work, dtype: int64"
      ]
     },
     "metadata": {},
     "output_type": "display_data"
    },
    {
     "name": "stdout",
     "output_type": "stream",
     "text": [
      "--------------------------------------\n",
      "work_type value counts \n",
      "\n"
     ]
    },
    {
     "data": {
      "text/plain": [
       "Missing                5873\n",
       "Private Wage Worker    5417\n",
       "Government              900\n",
       "Self Employed           571\n",
       "Family Business          30\n",
       "Name: work_type, dtype: int64"
      ]
     },
     "metadata": {},
     "output_type": "display_data"
    },
    {
     "name": "stdout",
     "output_type": "stream",
     "text": [
      "--------------------------------------\n",
      "time_in_current_job value counts \n",
      "\n"
     ]
    },
    {
     "data": {
      "text/plain": [
       "0      6022\n",
       "24      554\n",
       "12      511\n",
       "36      469\n",
       "60      364\n",
       "48      353\n",
       "120     296\n",
       "72      250\n",
       "84      243\n",
       "6       218\n",
       "3       214\n",
       "96      212\n",
       "18      195\n",
       "2       176\n",
       "1       154\n",
       "144     146\n",
       "180     146\n",
       "4       142\n",
       "240     140\n",
       "108     135\n",
       "132     122\n",
       "7       120\n",
       "8       105\n",
       "5       104\n",
       "156      98\n",
       "168      94\n",
       "192      80\n",
       "300      75\n",
       "216      75\n",
       "204      66\n",
       "9        66\n",
       "360      58\n",
       "264      55\n",
       "10       47\n",
       "276      46\n",
       "420      43\n",
       "30       39\n",
       "252      38\n",
       "16       36\n",
       "288      35\n",
       "480      31\n",
       "312      31\n",
       "228      31\n",
       "336      30\n",
       "324      29\n",
       "15       27\n",
       "11       26\n",
       "14       26\n",
       "396      20\n",
       "372      17\n",
       "17       16\n",
       "13       15\n",
       "408      14\n",
       "19       13\n",
       "42       13\n",
       "20       11\n",
       "348       8\n",
       "540       7\n",
       "456       7\n",
       "660       5\n",
       "600       5\n",
       "384       5\n",
       "468       5\n",
       "444       5\n",
       "516       4\n",
       "25        3\n",
       "27        3\n",
       "33        3\n",
       "528       3\n",
       "432       3\n",
       "504       3\n",
       "22        3\n",
       "492       2\n",
       "32        2\n",
       "29        2\n",
       "28        2\n",
       "26        2\n",
       "612       2\n",
       "39        2\n",
       "46        2\n",
       "576       2\n",
       "40        1\n",
       "44        1\n",
       "23        1\n",
       "564       1\n",
       "720       1\n",
       "43        1\n",
       "624       1\n",
       "31        1\n",
       "21        1\n",
       "Name: time_in_current_job, dtype: int64"
      ]
     },
     "metadata": {},
     "output_type": "display_data"
    },
    {
     "name": "stdout",
     "output_type": "stream",
     "text": [
      "--------------------------------------\n",
      "out_of_work value counts \n",
      "\n"
     ]
    },
    {
     "data": {
      "text/plain": [
       "Missing           7439\n",
       "Retired           2114\n",
       "Home Caretaker     893\n",
       "School             764\n",
       "Disabled           712\n",
       "Health             407\n",
       "Other              357\n",
       "Layoff             105\n",
       "Name: out_of_work, dtype: int64"
      ]
     },
     "metadata": {},
     "output_type": "display_data"
    },
    {
     "name": "stdout",
     "output_type": "stream",
     "text": [
      "--------------------------------------\n"
     ]
    }
   ],
   "source": [
    "# Checking all value counts again\n",
    "pf.val_counts(occupation_clean)"
   ]
  },
  {
   "cell_type": "code",
   "execution_count": 290,
   "metadata": {
    "ExecuteTime": {
     "end_time": "2021-02-09T05:06:33.247326Z",
     "start_time": "2021-02-09T05:06:33.155261Z"
    }
   },
   "outputs": [
    {
     "data": {
      "text/html": [
       "<div>\n",
       "<style scoped>\n",
       "    .dataframe tbody tr th:only-of-type {\n",
       "        vertical-align: middle;\n",
       "    }\n",
       "\n",
       "    .dataframe tbody tr th {\n",
       "        vertical-align: top;\n",
       "    }\n",
       "\n",
       "    .dataframe thead th {\n",
       "        text-align: right;\n",
       "    }\n",
       "</style>\n",
       "<table border=\"1\" class=\"dataframe\">\n",
       "  <thead>\n",
       "    <tr style=\"text-align: right;\">\n",
       "      <th></th>\n",
       "      <th>full_time_work</th>\n",
       "      <th>work_type</th>\n",
       "      <th>time_in_current_job</th>\n",
       "      <th>out_of_work</th>\n",
       "    </tr>\n",
       "    <tr>\n",
       "      <th>SEQN</th>\n",
       "      <th></th>\n",
       "      <th></th>\n",
       "      <th></th>\n",
       "      <th></th>\n",
       "    </tr>\n",
       "  </thead>\n",
       "  <tbody>\n",
       "    <tr>\n",
       "      <th>73557</th>\n",
       "      <td>Missing</td>\n",
       "      <td>Missing</td>\n",
       "      <td>0</td>\n",
       "      <td>Retired</td>\n",
       "    </tr>\n",
       "    <tr>\n",
       "      <th>73558</th>\n",
       "      <td>Missing</td>\n",
       "      <td>Private Wage Worker</td>\n",
       "      <td>420</td>\n",
       "      <td>Missing</td>\n",
       "    </tr>\n",
       "    <tr>\n",
       "      <th>73559</th>\n",
       "      <td>Missing</td>\n",
       "      <td>Missing</td>\n",
       "      <td>0</td>\n",
       "      <td>Retired</td>\n",
       "    </tr>\n",
       "    <tr>\n",
       "      <th>73561</th>\n",
       "      <td>Missing</td>\n",
       "      <td>Missing</td>\n",
       "      <td>0</td>\n",
       "      <td>Health</td>\n",
       "    </tr>\n",
       "    <tr>\n",
       "      <th>73562</th>\n",
       "      <td>Missing</td>\n",
       "      <td>Government</td>\n",
       "      <td>372</td>\n",
       "      <td>Missing</td>\n",
       "    </tr>\n",
       "  </tbody>\n",
       "</table>\n",
       "</div>"
      ],
      "text/plain": [
       "      full_time_work            work_type  time_in_current_job out_of_work\n",
       "SEQN                                                                      \n",
       "73557        Missing              Missing                    0     Retired\n",
       "73558        Missing  Private Wage Worker                  420     Missing\n",
       "73559        Missing              Missing                    0     Retired\n",
       "73561        Missing              Missing                    0      Health\n",
       "73562        Missing           Government                  372     Missing"
      ]
     },
     "execution_count": 290,
     "metadata": {},
     "output_type": "execute_result"
    }
   ],
   "source": [
    "# Checking the new dataframe\n",
    "occupation_clean.head()"
   ]
  },
  {
   "cell_type": "code",
   "execution_count": 291,
   "metadata": {
    "ExecuteTime": {
     "end_time": "2021-02-09T05:06:34.390342Z",
     "start_time": "2021-02-09T05:06:34.297263Z"
    }
   },
   "outputs": [
    {
     "name": "stdout",
     "output_type": "stream",
     "text": [
      "<class 'pandas.core.frame.DataFrame'>\n",
      "Int64Index: 12791 entries, 73557 to 93702\n",
      "Data columns (total 4 columns):\n",
      " #   Column               Non-Null Count  Dtype \n",
      "---  ------               --------------  ----- \n",
      " 0   full_time_work       12791 non-null  object\n",
      " 1   work_type            12791 non-null  object\n",
      " 2   time_in_current_job  12791 non-null  int64 \n",
      " 3   out_of_work          12791 non-null  object\n",
      "dtypes: int64(1), object(3)\n",
      "memory usage: 499.6+ KB\n"
     ]
    }
   ],
   "source": [
    "occupation_clean.info()"
   ]
  },
  {
   "cell_type": "markdown",
   "metadata": {},
   "source": [
    "### Smoking"
   ]
  },
  {
   "cell_type": "code",
   "execution_count": 295,
   "metadata": {
    "ExecuteTime": {
     "end_time": "2021-02-09T05:13:42.397928Z",
     "start_time": "2021-02-09T05:13:41.599973Z"
    }
   },
   "outputs": [
    {
     "data": {
      "text/plain": [
       "['C:\\\\Users\\\\LaptopCheckout\\\\Documents\\\\CSCE_5210\\\\dataSmoking\\\\SMQ_H.XPT',\n",
       " 'C:\\\\Users\\\\LaptopCheckout\\\\Documents\\\\CSCE_5210\\\\dataSmoking\\\\SMQ_I.XPT']"
      ]
     },
     "metadata": {},
     "output_type": "display_data"
    }
   ],
   "source": [
    "# Combining all the files for the smoking information\n",
    "path = r'C:\\Users\\LaptopCheckout\\Documents\\CSCE_5210\\dataSmoking'\n",
    "df_smoking = pf.glob_concat(path, '*.XPT')"
   ]
  },
  {
   "cell_type": "code",
   "execution_count": 296,
   "metadata": {
    "ExecuteTime": {
     "end_time": "2021-02-09T05:13:42.623930Z",
     "start_time": "2021-02-09T05:13:42.400928Z"
    }
   },
   "outputs": [
    {
     "data": {
      "text/html": [
       "<div>\n",
       "<style scoped>\n",
       "    .dataframe tbody tr th:only-of-type {\n",
       "        vertical-align: middle;\n",
       "    }\n",
       "\n",
       "    .dataframe tbody tr th {\n",
       "        vertical-align: top;\n",
       "    }\n",
       "\n",
       "    .dataframe thead th {\n",
       "        text-align: right;\n",
       "    }\n",
       "</style>\n",
       "<table border=\"1\" class=\"dataframe\">\n",
       "  <thead>\n",
       "    <tr style=\"text-align: right;\">\n",
       "      <th></th>\n",
       "      <th>SMQ020</th>\n",
       "      <th>SMD030</th>\n",
       "      <th>SMQ040</th>\n",
       "      <th>SMQ050Q</th>\n",
       "      <th>SMQ050U</th>\n",
       "      <th>SMD055</th>\n",
       "      <th>SMD057</th>\n",
       "      <th>SMQ078</th>\n",
       "      <th>SMD641</th>\n",
       "      <th>SMD650</th>\n",
       "      <th>SMD093</th>\n",
       "      <th>SMDUPCA</th>\n",
       "      <th>SMD100BR</th>\n",
       "      <th>SMD100FL</th>\n",
       "      <th>SMD100MN</th>\n",
       "      <th>SMD100LN</th>\n",
       "      <th>SMD100TR</th>\n",
       "      <th>SMD100NI</th>\n",
       "      <th>SMD100CO</th>\n",
       "      <th>SMQ621</th>\n",
       "      <th>SMD630</th>\n",
       "      <th>SMQ661</th>\n",
       "      <th>SMQ665A</th>\n",
       "      <th>SMQ665B</th>\n",
       "      <th>SMQ665C</th>\n",
       "      <th>SMQ665D</th>\n",
       "      <th>SMQ670</th>\n",
       "      <th>SMQ848</th>\n",
       "      <th>SMQ852Q</th>\n",
       "      <th>SMQ852U</th>\n",
       "      <th>SMAQUEX2</th>\n",
       "      <th>SMQ925</th>\n",
       "      <th>SMQ930</th>\n",
       "      <th>SMQ935</th>\n",
       "      <th>SMQ080</th>\n",
       "      <th>SMQ890</th>\n",
       "      <th>SMQ895</th>\n",
       "      <th>SMQ900</th>\n",
       "      <th>SMQ905</th>\n",
       "      <th>SMQ910</th>\n",
       "      <th>SMQ915</th>\n",
       "    </tr>\n",
       "    <tr>\n",
       "      <th>SEQN</th>\n",
       "      <th></th>\n",
       "      <th></th>\n",
       "      <th></th>\n",
       "      <th></th>\n",
       "      <th></th>\n",
       "      <th></th>\n",
       "      <th></th>\n",
       "      <th></th>\n",
       "      <th></th>\n",
       "      <th></th>\n",
       "      <th></th>\n",
       "      <th></th>\n",
       "      <th></th>\n",
       "      <th></th>\n",
       "      <th></th>\n",
       "      <th></th>\n",
       "      <th></th>\n",
       "      <th></th>\n",
       "      <th></th>\n",
       "      <th></th>\n",
       "      <th></th>\n",
       "      <th></th>\n",
       "      <th></th>\n",
       "      <th></th>\n",
       "      <th></th>\n",
       "      <th></th>\n",
       "      <th></th>\n",
       "      <th></th>\n",
       "      <th></th>\n",
       "      <th></th>\n",
       "      <th></th>\n",
       "      <th></th>\n",
       "      <th></th>\n",
       "      <th></th>\n",
       "      <th></th>\n",
       "      <th></th>\n",
       "      <th></th>\n",
       "      <th></th>\n",
       "      <th></th>\n",
       "      <th></th>\n",
       "      <th></th>\n",
       "    </tr>\n",
       "  </thead>\n",
       "  <tbody>\n",
       "    <tr>\n",
       "      <th>73557</th>\n",
       "      <td>1.000</td>\n",
       "      <td>17.000</td>\n",
       "      <td>3.000</td>\n",
       "      <td>3.000</td>\n",
       "      <td>4.000</td>\n",
       "      <td>66.000</td>\n",
       "      <td>2.000</td>\n",
       "      <td>NaN</td>\n",
       "      <td>NaN</td>\n",
       "      <td>NaN</td>\n",
       "      <td>NaN</td>\n",
       "      <td>b''</td>\n",
       "      <td>b''</td>\n",
       "      <td>NaN</td>\n",
       "      <td>NaN</td>\n",
       "      <td>NaN</td>\n",
       "      <td>NaN</td>\n",
       "      <td>NaN</td>\n",
       "      <td>NaN</td>\n",
       "      <td>NaN</td>\n",
       "      <td>NaN</td>\n",
       "      <td>NaN</td>\n",
       "      <td>NaN</td>\n",
       "      <td>NaN</td>\n",
       "      <td>NaN</td>\n",
       "      <td>NaN</td>\n",
       "      <td>NaN</td>\n",
       "      <td>NaN</td>\n",
       "      <td>NaN</td>\n",
       "      <td>NaN</td>\n",
       "      <td>1.000</td>\n",
       "      <td>NaN</td>\n",
       "      <td>NaN</td>\n",
       "      <td>NaN</td>\n",
       "      <td>NaN</td>\n",
       "      <td>NaN</td>\n",
       "      <td>NaN</td>\n",
       "      <td>NaN</td>\n",
       "      <td>NaN</td>\n",
       "      <td>NaN</td>\n",
       "      <td>NaN</td>\n",
       "    </tr>\n",
       "    <tr>\n",
       "      <th>73558</th>\n",
       "      <td>1.000</td>\n",
       "      <td>0.000</td>\n",
       "      <td>2.000</td>\n",
       "      <td>NaN</td>\n",
       "      <td>NaN</td>\n",
       "      <td>NaN</td>\n",
       "      <td>NaN</td>\n",
       "      <td>NaN</td>\n",
       "      <td>1.000</td>\n",
       "      <td>1.000</td>\n",
       "      <td>1.000</td>\n",
       "      <td>b''</td>\n",
       "      <td>b''</td>\n",
       "      <td>NaN</td>\n",
       "      <td>NaN</td>\n",
       "      <td>NaN</td>\n",
       "      <td>NaN</td>\n",
       "      <td>NaN</td>\n",
       "      <td>NaN</td>\n",
       "      <td>NaN</td>\n",
       "      <td>NaN</td>\n",
       "      <td>NaN</td>\n",
       "      <td>NaN</td>\n",
       "      <td>NaN</td>\n",
       "      <td>NaN</td>\n",
       "      <td>NaN</td>\n",
       "      <td>2.000</td>\n",
       "      <td>NaN</td>\n",
       "      <td>NaN</td>\n",
       "      <td>NaN</td>\n",
       "      <td>1.000</td>\n",
       "      <td>NaN</td>\n",
       "      <td>NaN</td>\n",
       "      <td>NaN</td>\n",
       "      <td>NaN</td>\n",
       "      <td>NaN</td>\n",
       "      <td>NaN</td>\n",
       "      <td>NaN</td>\n",
       "      <td>NaN</td>\n",
       "      <td>NaN</td>\n",
       "      <td>NaN</td>\n",
       "    </tr>\n",
       "    <tr>\n",
       "      <th>73559</th>\n",
       "      <td>1.000</td>\n",
       "      <td>20.000</td>\n",
       "      <td>3.000</td>\n",
       "      <td>40.000</td>\n",
       "      <td>4.000</td>\n",
       "      <td>26.000</td>\n",
       "      <td>3.000</td>\n",
       "      <td>NaN</td>\n",
       "      <td>NaN</td>\n",
       "      <td>NaN</td>\n",
       "      <td>NaN</td>\n",
       "      <td>b''</td>\n",
       "      <td>b''</td>\n",
       "      <td>NaN</td>\n",
       "      <td>NaN</td>\n",
       "      <td>NaN</td>\n",
       "      <td>NaN</td>\n",
       "      <td>NaN</td>\n",
       "      <td>NaN</td>\n",
       "      <td>NaN</td>\n",
       "      <td>NaN</td>\n",
       "      <td>NaN</td>\n",
       "      <td>NaN</td>\n",
       "      <td>NaN</td>\n",
       "      <td>NaN</td>\n",
       "      <td>NaN</td>\n",
       "      <td>NaN</td>\n",
       "      <td>NaN</td>\n",
       "      <td>NaN</td>\n",
       "      <td>NaN</td>\n",
       "      <td>1.000</td>\n",
       "      <td>NaN</td>\n",
       "      <td>NaN</td>\n",
       "      <td>NaN</td>\n",
       "      <td>NaN</td>\n",
       "      <td>NaN</td>\n",
       "      <td>NaN</td>\n",
       "      <td>NaN</td>\n",
       "      <td>NaN</td>\n",
       "      <td>NaN</td>\n",
       "      <td>NaN</td>\n",
       "    </tr>\n",
       "    <tr>\n",
       "      <th>73561</th>\n",
       "      <td>2.000</td>\n",
       "      <td>NaN</td>\n",
       "      <td>NaN</td>\n",
       "      <td>NaN</td>\n",
       "      <td>NaN</td>\n",
       "      <td>NaN</td>\n",
       "      <td>NaN</td>\n",
       "      <td>NaN</td>\n",
       "      <td>NaN</td>\n",
       "      <td>NaN</td>\n",
       "      <td>NaN</td>\n",
       "      <td>b''</td>\n",
       "      <td>b''</td>\n",
       "      <td>NaN</td>\n",
       "      <td>NaN</td>\n",
       "      <td>NaN</td>\n",
       "      <td>NaN</td>\n",
       "      <td>NaN</td>\n",
       "      <td>NaN</td>\n",
       "      <td>NaN</td>\n",
       "      <td>NaN</td>\n",
       "      <td>NaN</td>\n",
       "      <td>NaN</td>\n",
       "      <td>NaN</td>\n",
       "      <td>NaN</td>\n",
       "      <td>NaN</td>\n",
       "      <td>NaN</td>\n",
       "      <td>NaN</td>\n",
       "      <td>NaN</td>\n",
       "      <td>NaN</td>\n",
       "      <td>1.000</td>\n",
       "      <td>NaN</td>\n",
       "      <td>NaN</td>\n",
       "      <td>NaN</td>\n",
       "      <td>NaN</td>\n",
       "      <td>NaN</td>\n",
       "      <td>NaN</td>\n",
       "      <td>NaN</td>\n",
       "      <td>NaN</td>\n",
       "      <td>NaN</td>\n",
       "      <td>NaN</td>\n",
       "    </tr>\n",
       "    <tr>\n",
       "      <th>73562</th>\n",
       "      <td>1.000</td>\n",
       "      <td>18.000</td>\n",
       "      <td>3.000</td>\n",
       "      <td>16.000</td>\n",
       "      <td>4.000</td>\n",
       "      <td>40.000</td>\n",
       "      <td>5.000</td>\n",
       "      <td>NaN</td>\n",
       "      <td>NaN</td>\n",
       "      <td>NaN</td>\n",
       "      <td>NaN</td>\n",
       "      <td>b''</td>\n",
       "      <td>b''</td>\n",
       "      <td>NaN</td>\n",
       "      <td>NaN</td>\n",
       "      <td>NaN</td>\n",
       "      <td>NaN</td>\n",
       "      <td>NaN</td>\n",
       "      <td>NaN</td>\n",
       "      <td>NaN</td>\n",
       "      <td>NaN</td>\n",
       "      <td>NaN</td>\n",
       "      <td>NaN</td>\n",
       "      <td>NaN</td>\n",
       "      <td>NaN</td>\n",
       "      <td>NaN</td>\n",
       "      <td>NaN</td>\n",
       "      <td>NaN</td>\n",
       "      <td>NaN</td>\n",
       "      <td>NaN</td>\n",
       "      <td>1.000</td>\n",
       "      <td>NaN</td>\n",
       "      <td>NaN</td>\n",
       "      <td>NaN</td>\n",
       "      <td>NaN</td>\n",
       "      <td>NaN</td>\n",
       "      <td>NaN</td>\n",
       "      <td>NaN</td>\n",
       "      <td>NaN</td>\n",
       "      <td>NaN</td>\n",
       "      <td>NaN</td>\n",
       "    </tr>\n",
       "  </tbody>\n",
       "</table>\n",
       "</div>"
      ],
      "text/plain": [
       "       SMQ020  SMD030  SMQ040  SMQ050Q  ...  SMQ900  SMQ905  SMQ910  SMQ915\n",
       "SEQN                                    ...                                \n",
       "73557   1.000  17.000   3.000    3.000  ...     NaN     NaN     NaN     NaN\n",
       "73558   1.000   0.000   2.000      NaN  ...     NaN     NaN     NaN     NaN\n",
       "73559   1.000  20.000   3.000   40.000  ...     NaN     NaN     NaN     NaN\n",
       "73561   2.000     NaN     NaN      NaN  ...     NaN     NaN     NaN     NaN\n",
       "73562   1.000  18.000   3.000   16.000  ...     NaN     NaN     NaN     NaN\n",
       "\n",
       "[5 rows x 41 columns]"
      ]
     },
     "execution_count": 296,
     "metadata": {},
     "output_type": "execute_result"
    }
   ],
   "source": [
    "# Checking the dataframe\n",
    "df_smoking.head()"
   ]
  },
  {
   "cell_type": "code",
   "execution_count": 297,
   "metadata": {
    "ExecuteTime": {
     "end_time": "2021-02-09T05:13:42.892014Z",
     "start_time": "2021-02-09T05:13:42.712928Z"
    },
    "scrolled": true
   },
   "outputs": [
    {
     "name": "stdout",
     "output_type": "stream",
     "text": [
      "<class 'pandas.core.frame.DataFrame'>\n",
      "Int64Index: 14169 entries, 73557 to 93702\n",
      "Data columns (total 41 columns):\n",
      " #   Column    Non-Null Count  Dtype  \n",
      "---  ------    --------------  -----  \n",
      " 0   SMQ020    12105 non-null  float64\n",
      " 1   SMD030    5001 non-null   float64\n",
      " 2   SMQ040    5001 non-null   float64\n",
      " 3   SMQ050Q   2669 non-null   float64\n",
      " 4   SMQ050U   2552 non-null   float64\n",
      " 5   SMD055    2416 non-null   float64\n",
      " 6   SMD057    2669 non-null   float64\n",
      " 7   SMQ078    1827 non-null   float64\n",
      " 8   SMD641    2478 non-null   float64\n",
      " 9   SMD650    2357 non-null   float64\n",
      " 10  SMD093    2332 non-null   float64\n",
      " 11  SMDUPCA   14169 non-null  object \n",
      " 12  SMD100BR  14169 non-null  object \n",
      " 13  SMD100FL  2095 non-null   float64\n",
      " 14  SMD100MN  2096 non-null   float64\n",
      " 15  SMD100LN  2096 non-null   float64\n",
      " 16  SMD100TR  1580 non-null   float64\n",
      " 17  SMD100NI  1580 non-null   float64\n",
      " 18  SMD100CO  1580 non-null   float64\n",
      " 19  SMQ621    1957 non-null   float64\n",
      " 20  SMD630    145 non-null    float64\n",
      " 21  SMQ661    53 non-null     float64\n",
      " 22  SMQ665A   21 non-null     float64\n",
      " 23  SMQ665B   6 non-null      float64\n",
      " 24  SMQ665C   13 non-null     float64\n",
      " 25  SMQ665D   5 non-null      float64\n",
      " 26  SMQ670    2385 non-null   float64\n",
      " 27  SMQ848    1183 non-null   float64\n",
      " 28  SMQ852Q   1176 non-null   float64\n",
      " 29  SMQ852U   1171 non-null   float64\n",
      " 30  SMAQUEX2  14169 non-null  float64\n",
      " 31  SMQ925    3570 non-null   float64\n",
      " 32  SMQ930    1543 non-null   float64\n",
      " 33  SMQ935    1543 non-null   float64\n",
      " 34  SMQ080    62 non-null     float64\n",
      " 35  SMQ890    5992 non-null   float64\n",
      " 36  SMQ895    2066 non-null   float64\n",
      " 37  SMQ900    5992 non-null   float64\n",
      " 38  SMQ905    1064 non-null   float64\n",
      " 39  SMQ910    5992 non-null   float64\n",
      " 40  SMQ915    827 non-null    float64\n",
      "dtypes: float64(39), object(2)\n",
      "memory usage: 4.5+ MB\n"
     ]
    }
   ],
   "source": [
    "# Checking the columns\n",
    "df_smoking.info()"
   ]
  },
  {
   "cell_type": "code",
   "execution_count": 298,
   "metadata": {
    "ExecuteTime": {
     "end_time": "2021-02-09T05:13:43.409922Z",
     "start_time": "2021-02-09T05:13:43.129922Z"
    }
   },
   "outputs": [
    {
     "data": {
      "text/plain": [
       "['C:\\\\Users\\\\LaptopCheckout\\\\Documents\\\\CSCE_5210\\\\dataSmokingHouseHold\\\\SMQFAM_H.XPT',\n",
       " 'C:\\\\Users\\\\LaptopCheckout\\\\Documents\\\\CSCE_5210\\\\dataSmokingHouseHold\\\\SMQFAM_I.XPT']"
      ]
     },
     "metadata": {},
     "output_type": "display_data"
    }
   ],
   "source": [
    "# Combining all the files for the household smokers information\n",
    "path = r'C:\\Users\\LaptopCheckout\\Documents\\CSCE_5210\\dataSmokingHouseHold'\n",
    "df_hs = pf.glob_concat(path, '*.XPT')"
   ]
  },
  {
   "cell_type": "code",
   "execution_count": 299,
   "metadata": {
    "ExecuteTime": {
     "end_time": "2021-02-09T05:13:43.829019Z",
     "start_time": "2021-02-09T05:13:43.720930Z"
    }
   },
   "outputs": [
    {
     "name": "stdout",
     "output_type": "stream",
     "text": [
      "<class 'pandas.core.frame.DataFrame'>\n",
      "Int64Index: 20146 entries, 73557 to 93702\n",
      "Data columns (total 3 columns):\n",
      " #   Column  Non-Null Count  Dtype  \n",
      "---  ------  --------------  -----  \n",
      " 0   SMD460  19708 non-null  float64\n",
      " 1   SMD470  5165 non-null   float64\n",
      " 2   SMD480  2251 non-null   float64\n",
      "dtypes: float64(3)\n",
      "memory usage: 629.6 KB\n"
     ]
    }
   ],
   "source": [
    "# Checking the dataframe\n",
    "df_hs.info()"
   ]
  },
  {
   "cell_type": "code",
   "execution_count": 300,
   "metadata": {
    "ExecuteTime": {
     "end_time": "2021-02-09T05:13:44.463920Z",
     "start_time": "2021-02-09T05:13:44.264929Z"
    }
   },
   "outputs": [],
   "source": [
    "# Combining both of the dataframes\n",
    "df_smoking = pd.concat([df_smoking, df_hs], axis=1)"
   ]
  },
  {
   "cell_type": "code",
   "execution_count": 301,
   "metadata": {
    "ExecuteTime": {
     "end_time": "2021-02-09T05:13:45.001925Z",
     "start_time": "2021-02-09T05:13:44.809929Z"
    },
    "scrolled": true
   },
   "outputs": [
    {
     "name": "stdout",
     "output_type": "stream",
     "text": [
      "<class 'pandas.core.frame.DataFrame'>\n",
      "Int64Index: 20146 entries, 73557 to 93702\n",
      "Data columns (total 44 columns):\n",
      " #   Column    Non-Null Count  Dtype  \n",
      "---  ------    --------------  -----  \n",
      " 0   SMQ020    12105 non-null  float64\n",
      " 1   SMD030    5001 non-null   float64\n",
      " 2   SMQ040    5001 non-null   float64\n",
      " 3   SMQ050Q   2669 non-null   float64\n",
      " 4   SMQ050U   2552 non-null   float64\n",
      " 5   SMD055    2416 non-null   float64\n",
      " 6   SMD057    2669 non-null   float64\n",
      " 7   SMQ078    1827 non-null   float64\n",
      " 8   SMD641    2478 non-null   float64\n",
      " 9   SMD650    2357 non-null   float64\n",
      " 10  SMD093    2332 non-null   float64\n",
      " 11  SMDUPCA   14169 non-null  object \n",
      " 12  SMD100BR  14169 non-null  object \n",
      " 13  SMD100FL  2095 non-null   float64\n",
      " 14  SMD100MN  2096 non-null   float64\n",
      " 15  SMD100LN  2096 non-null   float64\n",
      " 16  SMD100TR  1580 non-null   float64\n",
      " 17  SMD100NI  1580 non-null   float64\n",
      " 18  SMD100CO  1580 non-null   float64\n",
      " 19  SMQ621    1957 non-null   float64\n",
      " 20  SMD630    145 non-null    float64\n",
      " 21  SMQ661    53 non-null     float64\n",
      " 22  SMQ665A   21 non-null     float64\n",
      " 23  SMQ665B   6 non-null      float64\n",
      " 24  SMQ665C   13 non-null     float64\n",
      " 25  SMQ665D   5 non-null      float64\n",
      " 26  SMQ670    2385 non-null   float64\n",
      " 27  SMQ848    1183 non-null   float64\n",
      " 28  SMQ852Q   1176 non-null   float64\n",
      " 29  SMQ852U   1171 non-null   float64\n",
      " 30  SMAQUEX2  14169 non-null  float64\n",
      " 31  SMQ925    3570 non-null   float64\n",
      " 32  SMQ930    1543 non-null   float64\n",
      " 33  SMQ935    1543 non-null   float64\n",
      " 34  SMQ080    62 non-null     float64\n",
      " 35  SMQ890    5992 non-null   float64\n",
      " 36  SMQ895    2066 non-null   float64\n",
      " 37  SMQ900    5992 non-null   float64\n",
      " 38  SMQ905    1064 non-null   float64\n",
      " 39  SMQ910    5992 non-null   float64\n",
      " 40  SMQ915    827 non-null    float64\n",
      " 41  SMD460    19708 non-null  float64\n",
      " 42  SMD470    5165 non-null   float64\n",
      " 43  SMD480    2251 non-null   float64\n",
      "dtypes: float64(42), object(2)\n",
      "memory usage: 6.9+ MB\n"
     ]
    }
   ],
   "source": [
    "# Checking the dataframe\n",
    "df_smoking.info()"
   ]
  },
  {
   "cell_type": "code",
   "execution_count": 302,
   "metadata": {
    "ExecuteTime": {
     "end_time": "2021-02-09T05:13:47.146925Z",
     "start_time": "2021-02-09T05:13:45.409931Z"
    }
   },
   "outputs": [],
   "source": [
    "# Listing the columns to keep and creating a new dataframe\n",
    "smoking_tokeep = ['SMD460', 'SMD415', 'SMQ040', 'SMD030', 'SMQ050Q','SMD650', \n",
    "                   'SMQ050U', 'SMD057']\n",
    "smoking_clean = pf.cols_tokeep(df_smoking, smoking_tokeep)"
   ]
  },
  {
   "cell_type": "code",
   "execution_count": 303,
   "metadata": {
    "ExecuteTime": {
     "end_time": "2021-02-09T05:13:47.371936Z",
     "start_time": "2021-02-09T05:13:47.152926Z"
    }
   },
   "outputs": [
    {
     "name": "stdout",
     "output_type": "stream",
     "text": [
      "<class 'pandas.core.frame.DataFrame'>\n",
      "Int64Index: 20146 entries, 73557 to 93702\n",
      "Data columns (total 7 columns):\n",
      " #   Column   Non-Null Count  Dtype  \n",
      "---  ------   --------------  -----  \n",
      " 0   SMD030   5001 non-null   float64\n",
      " 1   SMQ040   5001 non-null   float64\n",
      " 2   SMQ050Q  2669 non-null   float64\n",
      " 3   SMQ050U  2552 non-null   float64\n",
      " 4   SMD057   2669 non-null   float64\n",
      " 5   SMD650   2357 non-null   float64\n",
      " 6   SMD460   19708 non-null  float64\n",
      "dtypes: float64(7)\n",
      "memory usage: 1.2 MB\n"
     ]
    }
   ],
   "source": [
    "# Checking the new dataframe\n",
    "smoking_clean.info()"
   ]
  },
  {
   "cell_type": "markdown",
   "metadata": {},
   "source": [
    "## Days Since Quitting"
   ]
  },
  {
   "cell_type": "code",
   "execution_count": 304,
   "metadata": {
    "ExecuteTime": {
     "end_time": "2021-02-09T05:13:49.124022Z",
     "start_time": "2021-02-09T05:13:49.026928Z"
    },
    "scrolled": true
   },
   "outputs": [
    {
     "data": {
      "text/plain": [
       "NaN          17477\n",
       "30.000         164\n",
       "20.000         155\n",
       "2.000          142\n",
       "3.000          137\n",
       "15.000         137\n",
       "10.000         135\n",
       "5.000          121\n",
       "4.000          112\n",
       "25.000         106\n",
       "1.000          103\n",
       "66666.000       96\n",
       "40.000          92\n",
       "6.000           88\n",
       "8.000           77\n",
       "7.000           76\n",
       "35.000          58\n",
       "14.000          53\n",
       "12.000          52\n",
       "9.000           49\n",
       "18.000          47\n",
       "13.000          44\n",
       "23.000          38\n",
       "24.000          36\n",
       "22.000          36\n",
       "45.000          36\n",
       "16.000          34\n",
       "28.000          33\n",
       "17.000          32\n",
       "33.000          29\n",
       "21.000          28\n",
       "26.000          26\n",
       "39.000          22\n",
       "99999.000       21\n",
       "11.000          21\n",
       "34.000          21\n",
       "19.000          20\n",
       "31.000          19\n",
       "32.000          18\n",
       "37.000          17\n",
       "44.000          16\n",
       "27.000          16\n",
       "42.000          15\n",
       "38.000          14\n",
       "29.000          13\n",
       "41.000          12\n",
       "46.000          11\n",
       "36.000          11\n",
       "47.000          11\n",
       "48.000           7\n",
       "43.000           7\n",
       "49.000           4\n",
       "90.000           1\n",
       "Name: SMQ050Q, dtype: int64"
      ]
     },
     "execution_count": 304,
     "metadata": {},
     "output_type": "execute_result"
    }
   ],
   "source": [
    "# Checking column values\n",
    "smoking_clean.SMQ050Q.value_counts(dropna=False)"
   ]
  },
  {
   "cell_type": "code",
   "execution_count": 305,
   "metadata": {
    "ExecuteTime": {
     "end_time": "2021-02-09T05:13:49.681039Z",
     "start_time": "2021-02-09T05:13:49.588928Z"
    }
   },
   "outputs": [
    {
     "data": {
      "text/plain": [
       "NaN      17594\n",
       "4.000     2277\n",
       "3.000      203\n",
       "2.000       48\n",
       "1.000       24\n",
       "Name: SMQ050U, dtype: int64"
      ]
     },
     "execution_count": 305,
     "metadata": {},
     "output_type": "execute_result"
    }
   ],
   "source": [
    "# Checking column values\n",
    "smoking_clean.SMQ050U.value_counts(dropna=False)"
   ]
  },
  {
   "cell_type": "code",
   "execution_count": 306,
   "metadata": {
    "ExecuteTime": {
     "end_time": "2021-02-09T05:13:50.190927Z",
     "start_time": "2021-02-09T05:13:50.106927Z"
    }
   },
   "outputs": [],
   "source": [
    "# Fill null values\n",
    "smoking_clean.SMQ050Q.fillna(0, inplace=True)"
   ]
  },
  {
   "cell_type": "code",
   "execution_count": 307,
   "metadata": {
    "ExecuteTime": {
     "end_time": "2021-02-09T05:13:50.806018Z",
     "start_time": "2021-02-09T05:13:50.724000Z"
    }
   },
   "outputs": [],
   "source": [
    "# Replace values and fill null values\n",
    "smoking_clean.SMQ050U.replace({2.000: 7,\n",
    "                            3.000: 30, \n",
    "                            4.000: 365}, \n",
    "                            inplace=True)\n",
    "smoking_clean.SMQ050U.fillna(0, inplace=True)"
   ]
  },
  {
   "cell_type": "code",
   "execution_count": 308,
   "metadata": {
    "ExecuteTime": {
     "end_time": "2021-02-09T05:13:51.721066Z",
     "start_time": "2021-02-09T05:13:51.635927Z"
    }
   },
   "outputs": [],
   "source": [
    "# Multiply two columns together into one column\n",
    "smoking_clean['days_quit_smoking'] = smoking_clean['SMQ050Q'] * smoking_clean['SMQ050U']"
   ]
  },
  {
   "cell_type": "code",
   "execution_count": 309,
   "metadata": {
    "ExecuteTime": {
     "end_time": "2021-02-09T05:13:52.557924Z",
     "start_time": "2021-02-09T05:13:52.468925Z"
    }
   },
   "outputs": [],
   "source": [
    "# Change entries of the 66666 option to appropriate number\n",
    "smoking_clean.loc[smoking_clean['SMQ050Q'] == 66666, 'days_quit_smoking'] = 18250"
   ]
  },
  {
   "cell_type": "code",
   "execution_count": 310,
   "metadata": {
    "ExecuteTime": {
     "end_time": "2021-02-09T05:13:53.386003Z",
     "start_time": "2021-02-09T05:13:53.236929Z"
    }
   },
   "outputs": [
    {
     "data": {
      "text/html": [
       "<div>\n",
       "<style scoped>\n",
       "    .dataframe tbody tr th:only-of-type {\n",
       "        vertical-align: middle;\n",
       "    }\n",
       "\n",
       "    .dataframe tbody tr th {\n",
       "        vertical-align: top;\n",
       "    }\n",
       "\n",
       "    .dataframe thead th {\n",
       "        text-align: right;\n",
       "    }\n",
       "</style>\n",
       "<table border=\"1\" class=\"dataframe\">\n",
       "  <thead>\n",
       "    <tr style=\"text-align: right;\">\n",
       "      <th></th>\n",
       "      <th>SMD030</th>\n",
       "      <th>SMQ040</th>\n",
       "      <th>SMQ050Q</th>\n",
       "      <th>SMQ050U</th>\n",
       "      <th>SMD057</th>\n",
       "      <th>SMD650</th>\n",
       "      <th>SMD460</th>\n",
       "      <th>days_quit_smoking</th>\n",
       "    </tr>\n",
       "    <tr>\n",
       "      <th>SEQN</th>\n",
       "      <th></th>\n",
       "      <th></th>\n",
       "      <th></th>\n",
       "      <th></th>\n",
       "      <th></th>\n",
       "      <th></th>\n",
       "      <th></th>\n",
       "      <th></th>\n",
       "    </tr>\n",
       "  </thead>\n",
       "  <tbody>\n",
       "    <tr>\n",
       "      <th>73672</th>\n",
       "      <td>13.000</td>\n",
       "      <td>3.000</td>\n",
       "      <td>66666.000</td>\n",
       "      <td>0.000</td>\n",
       "      <td>20.000</td>\n",
       "      <td>NaN</td>\n",
       "      <td>0.000</td>\n",
       "      <td>18250.000</td>\n",
       "    </tr>\n",
       "    <tr>\n",
       "      <th>73766</th>\n",
       "      <td>19.000</td>\n",
       "      <td>3.000</td>\n",
       "      <td>66666.000</td>\n",
       "      <td>0.000</td>\n",
       "      <td>20.000</td>\n",
       "      <td>NaN</td>\n",
       "      <td>0.000</td>\n",
       "      <td>18250.000</td>\n",
       "    </tr>\n",
       "    <tr>\n",
       "      <th>73873</th>\n",
       "      <td>18.000</td>\n",
       "      <td>3.000</td>\n",
       "      <td>66666.000</td>\n",
       "      <td>0.000</td>\n",
       "      <td>2.000</td>\n",
       "      <td>NaN</td>\n",
       "      <td>0.000</td>\n",
       "      <td>18250.000</td>\n",
       "    </tr>\n",
       "    <tr>\n",
       "      <th>74138</th>\n",
       "      <td>14.000</td>\n",
       "      <td>3.000</td>\n",
       "      <td>66666.000</td>\n",
       "      <td>0.000</td>\n",
       "      <td>8.000</td>\n",
       "      <td>NaN</td>\n",
       "      <td>0.000</td>\n",
       "      <td>18250.000</td>\n",
       "    </tr>\n",
       "    <tr>\n",
       "      <th>74508</th>\n",
       "      <td>18.000</td>\n",
       "      <td>3.000</td>\n",
       "      <td>66666.000</td>\n",
       "      <td>0.000</td>\n",
       "      <td>7.000</td>\n",
       "      <td>NaN</td>\n",
       "      <td>0.000</td>\n",
       "      <td>18250.000</td>\n",
       "    </tr>\n",
       "    <tr>\n",
       "      <th>74790</th>\n",
       "      <td>16.000</td>\n",
       "      <td>3.000</td>\n",
       "      <td>66666.000</td>\n",
       "      <td>0.000</td>\n",
       "      <td>10.000</td>\n",
       "      <td>NaN</td>\n",
       "      <td>0.000</td>\n",
       "      <td>18250.000</td>\n",
       "    </tr>\n",
       "    <tr>\n",
       "      <th>75117</th>\n",
       "      <td>20.000</td>\n",
       "      <td>3.000</td>\n",
       "      <td>66666.000</td>\n",
       "      <td>0.000</td>\n",
       "      <td>5.000</td>\n",
       "      <td>NaN</td>\n",
       "      <td>0.000</td>\n",
       "      <td>18250.000</td>\n",
       "    </tr>\n",
       "    <tr>\n",
       "      <th>75343</th>\n",
       "      <td>18.000</td>\n",
       "      <td>3.000</td>\n",
       "      <td>66666.000</td>\n",
       "      <td>0.000</td>\n",
       "      <td>20.000</td>\n",
       "      <td>NaN</td>\n",
       "      <td>0.000</td>\n",
       "      <td>18250.000</td>\n",
       "    </tr>\n",
       "    <tr>\n",
       "      <th>75774</th>\n",
       "      <td>28.000</td>\n",
       "      <td>3.000</td>\n",
       "      <td>66666.000</td>\n",
       "      <td>0.000</td>\n",
       "      <td>10.000</td>\n",
       "      <td>NaN</td>\n",
       "      <td>0.000</td>\n",
       "      <td>18250.000</td>\n",
       "    </tr>\n",
       "    <tr>\n",
       "      <th>75892</th>\n",
       "      <td>22.000</td>\n",
       "      <td>3.000</td>\n",
       "      <td>66666.000</td>\n",
       "      <td>0.000</td>\n",
       "      <td>4.000</td>\n",
       "      <td>NaN</td>\n",
       "      <td>0.000</td>\n",
       "      <td>18250.000</td>\n",
       "    </tr>\n",
       "    <tr>\n",
       "      <th>76277</th>\n",
       "      <td>18.000</td>\n",
       "      <td>3.000</td>\n",
       "      <td>66666.000</td>\n",
       "      <td>0.000</td>\n",
       "      <td>40.000</td>\n",
       "      <td>NaN</td>\n",
       "      <td>0.000</td>\n",
       "      <td>18250.000</td>\n",
       "    </tr>\n",
       "    <tr>\n",
       "      <th>76530</th>\n",
       "      <td>18.000</td>\n",
       "      <td>3.000</td>\n",
       "      <td>66666.000</td>\n",
       "      <td>0.000</td>\n",
       "      <td>20.000</td>\n",
       "      <td>NaN</td>\n",
       "      <td>0.000</td>\n",
       "      <td>18250.000</td>\n",
       "    </tr>\n",
       "    <tr>\n",
       "      <th>77040</th>\n",
       "      <td>20.000</td>\n",
       "      <td>3.000</td>\n",
       "      <td>66666.000</td>\n",
       "      <td>0.000</td>\n",
       "      <td>2.000</td>\n",
       "      <td>NaN</td>\n",
       "      <td>1.000</td>\n",
       "      <td>18250.000</td>\n",
       "    </tr>\n",
       "    <tr>\n",
       "      <th>77094</th>\n",
       "      <td>14.000</td>\n",
       "      <td>3.000</td>\n",
       "      <td>66666.000</td>\n",
       "      <td>0.000</td>\n",
       "      <td>20.000</td>\n",
       "      <td>NaN</td>\n",
       "      <td>0.000</td>\n",
       "      <td>18250.000</td>\n",
       "    </tr>\n",
       "    <tr>\n",
       "      <th>77212</th>\n",
       "      <td>17.000</td>\n",
       "      <td>3.000</td>\n",
       "      <td>66666.000</td>\n",
       "      <td>0.000</td>\n",
       "      <td>40.000</td>\n",
       "      <td>NaN</td>\n",
       "      <td>0.000</td>\n",
       "      <td>18250.000</td>\n",
       "    </tr>\n",
       "    <tr>\n",
       "      <th>77423</th>\n",
       "      <td>16.000</td>\n",
       "      <td>3.000</td>\n",
       "      <td>66666.000</td>\n",
       "      <td>0.000</td>\n",
       "      <td>1.000</td>\n",
       "      <td>NaN</td>\n",
       "      <td>0.000</td>\n",
       "      <td>18250.000</td>\n",
       "    </tr>\n",
       "    <tr>\n",
       "      <th>77598</th>\n",
       "      <td>25.000</td>\n",
       "      <td>3.000</td>\n",
       "      <td>66666.000</td>\n",
       "      <td>0.000</td>\n",
       "      <td>10.000</td>\n",
       "      <td>NaN</td>\n",
       "      <td>0.000</td>\n",
       "      <td>18250.000</td>\n",
       "    </tr>\n",
       "    <tr>\n",
       "      <th>78101</th>\n",
       "      <td>30.000</td>\n",
       "      <td>3.000</td>\n",
       "      <td>66666.000</td>\n",
       "      <td>0.000</td>\n",
       "      <td>3.000</td>\n",
       "      <td>NaN</td>\n",
       "      <td>0.000</td>\n",
       "      <td>18250.000</td>\n",
       "    </tr>\n",
       "    <tr>\n",
       "      <th>78403</th>\n",
       "      <td>21.000</td>\n",
       "      <td>3.000</td>\n",
       "      <td>66666.000</td>\n",
       "      <td>0.000</td>\n",
       "      <td>4.000</td>\n",
       "      <td>NaN</td>\n",
       "      <td>0.000</td>\n",
       "      <td>18250.000</td>\n",
       "    </tr>\n",
       "    <tr>\n",
       "      <th>78752</th>\n",
       "      <td>13.000</td>\n",
       "      <td>3.000</td>\n",
       "      <td>66666.000</td>\n",
       "      <td>0.000</td>\n",
       "      <td>10.000</td>\n",
       "      <td>NaN</td>\n",
       "      <td>0.000</td>\n",
       "      <td>18250.000</td>\n",
       "    </tr>\n",
       "    <tr>\n",
       "      <th>78951</th>\n",
       "      <td>24.000</td>\n",
       "      <td>3.000</td>\n",
       "      <td>66666.000</td>\n",
       "      <td>0.000</td>\n",
       "      <td>5.000</td>\n",
       "      <td>NaN</td>\n",
       "      <td>0.000</td>\n",
       "      <td>18250.000</td>\n",
       "    </tr>\n",
       "    <tr>\n",
       "      <th>79016</th>\n",
       "      <td>21.000</td>\n",
       "      <td>3.000</td>\n",
       "      <td>66666.000</td>\n",
       "      <td>0.000</td>\n",
       "      <td>40.000</td>\n",
       "      <td>NaN</td>\n",
       "      <td>0.000</td>\n",
       "      <td>18250.000</td>\n",
       "    </tr>\n",
       "    <tr>\n",
       "      <th>79048</th>\n",
       "      <td>20.000</td>\n",
       "      <td>3.000</td>\n",
       "      <td>66666.000</td>\n",
       "      <td>0.000</td>\n",
       "      <td>3.000</td>\n",
       "      <td>NaN</td>\n",
       "      <td>0.000</td>\n",
       "      <td>18250.000</td>\n",
       "    </tr>\n",
       "    <tr>\n",
       "      <th>79077</th>\n",
       "      <td>16.000</td>\n",
       "      <td>3.000</td>\n",
       "      <td>66666.000</td>\n",
       "      <td>0.000</td>\n",
       "      <td>1.000</td>\n",
       "      <td>NaN</td>\n",
       "      <td>0.000</td>\n",
       "      <td>18250.000</td>\n",
       "    </tr>\n",
       "    <tr>\n",
       "      <th>79162</th>\n",
       "      <td>14.000</td>\n",
       "      <td>3.000</td>\n",
       "      <td>66666.000</td>\n",
       "      <td>0.000</td>\n",
       "      <td>15.000</td>\n",
       "      <td>NaN</td>\n",
       "      <td>0.000</td>\n",
       "      <td>18250.000</td>\n",
       "    </tr>\n",
       "    <tr>\n",
       "      <th>79469</th>\n",
       "      <td>0.000</td>\n",
       "      <td>3.000</td>\n",
       "      <td>66666.000</td>\n",
       "      <td>0.000</td>\n",
       "      <td>10.000</td>\n",
       "      <td>NaN</td>\n",
       "      <td>0.000</td>\n",
       "      <td>18250.000</td>\n",
       "    </tr>\n",
       "    <tr>\n",
       "      <th>79819</th>\n",
       "      <td>19.000</td>\n",
       "      <td>3.000</td>\n",
       "      <td>66666.000</td>\n",
       "      <td>0.000</td>\n",
       "      <td>1.000</td>\n",
       "      <td>NaN</td>\n",
       "      <td>0.000</td>\n",
       "      <td>18250.000</td>\n",
       "    </tr>\n",
       "    <tr>\n",
       "      <th>80381</th>\n",
       "      <td>19.000</td>\n",
       "      <td>3.000</td>\n",
       "      <td>66666.000</td>\n",
       "      <td>0.000</td>\n",
       "      <td>4.000</td>\n",
       "      <td>NaN</td>\n",
       "      <td>0.000</td>\n",
       "      <td>18250.000</td>\n",
       "    </tr>\n",
       "    <tr>\n",
       "      <th>80570</th>\n",
       "      <td>19.000</td>\n",
       "      <td>3.000</td>\n",
       "      <td>66666.000</td>\n",
       "      <td>0.000</td>\n",
       "      <td>10.000</td>\n",
       "      <td>NaN</td>\n",
       "      <td>0.000</td>\n",
       "      <td>18250.000</td>\n",
       "    </tr>\n",
       "    <tr>\n",
       "      <th>80817</th>\n",
       "      <td>20.000</td>\n",
       "      <td>3.000</td>\n",
       "      <td>66666.000</td>\n",
       "      <td>0.000</td>\n",
       "      <td>2.000</td>\n",
       "      <td>NaN</td>\n",
       "      <td>0.000</td>\n",
       "      <td>18250.000</td>\n",
       "    </tr>\n",
       "    <tr>\n",
       "      <th>81179</th>\n",
       "      <td>12.000</td>\n",
       "      <td>3.000</td>\n",
       "      <td>66666.000</td>\n",
       "      <td>0.000</td>\n",
       "      <td>20.000</td>\n",
       "      <td>NaN</td>\n",
       "      <td>0.000</td>\n",
       "      <td>18250.000</td>\n",
       "    </tr>\n",
       "    <tr>\n",
       "      <th>81434</th>\n",
       "      <td>19.000</td>\n",
       "      <td>3.000</td>\n",
       "      <td>66666.000</td>\n",
       "      <td>0.000</td>\n",
       "      <td>10.000</td>\n",
       "      <td>NaN</td>\n",
       "      <td>0.000</td>\n",
       "      <td>18250.000</td>\n",
       "    </tr>\n",
       "    <tr>\n",
       "      <th>81832</th>\n",
       "      <td>16.000</td>\n",
       "      <td>3.000</td>\n",
       "      <td>66666.000</td>\n",
       "      <td>0.000</td>\n",
       "      <td>5.000</td>\n",
       "      <td>NaN</td>\n",
       "      <td>0.000</td>\n",
       "      <td>18250.000</td>\n",
       "    </tr>\n",
       "    <tr>\n",
       "      <th>81994</th>\n",
       "      <td>16.000</td>\n",
       "      <td>3.000</td>\n",
       "      <td>66666.000</td>\n",
       "      <td>0.000</td>\n",
       "      <td>18.000</td>\n",
       "      <td>NaN</td>\n",
       "      <td>1.000</td>\n",
       "      <td>18250.000</td>\n",
       "    </tr>\n",
       "    <tr>\n",
       "      <th>82027</th>\n",
       "      <td>14.000</td>\n",
       "      <td>3.000</td>\n",
       "      <td>66666.000</td>\n",
       "      <td>0.000</td>\n",
       "      <td>4.000</td>\n",
       "      <td>NaN</td>\n",
       "      <td>0.000</td>\n",
       "      <td>18250.000</td>\n",
       "    </tr>\n",
       "    <tr>\n",
       "      <th>82143</th>\n",
       "      <td>19.000</td>\n",
       "      <td>3.000</td>\n",
       "      <td>66666.000</td>\n",
       "      <td>0.000</td>\n",
       "      <td>4.000</td>\n",
       "      <td>NaN</td>\n",
       "      <td>0.000</td>\n",
       "      <td>18250.000</td>\n",
       "    </tr>\n",
       "    <tr>\n",
       "      <th>82254</th>\n",
       "      <td>17.000</td>\n",
       "      <td>3.000</td>\n",
       "      <td>66666.000</td>\n",
       "      <td>0.000</td>\n",
       "      <td>10.000</td>\n",
       "      <td>NaN</td>\n",
       "      <td>0.000</td>\n",
       "      <td>18250.000</td>\n",
       "    </tr>\n",
       "    <tr>\n",
       "      <th>82507</th>\n",
       "      <td>15.000</td>\n",
       "      <td>3.000</td>\n",
       "      <td>66666.000</td>\n",
       "      <td>0.000</td>\n",
       "      <td>20.000</td>\n",
       "      <td>NaN</td>\n",
       "      <td>0.000</td>\n",
       "      <td>18250.000</td>\n",
       "    </tr>\n",
       "    <tr>\n",
       "      <th>82652</th>\n",
       "      <td>0.000</td>\n",
       "      <td>3.000</td>\n",
       "      <td>66666.000</td>\n",
       "      <td>0.000</td>\n",
       "      <td>2.000</td>\n",
       "      <td>NaN</td>\n",
       "      <td>0.000</td>\n",
       "      <td>18250.000</td>\n",
       "    </tr>\n",
       "    <tr>\n",
       "      <th>82842</th>\n",
       "      <td>13.000</td>\n",
       "      <td>3.000</td>\n",
       "      <td>66666.000</td>\n",
       "      <td>0.000</td>\n",
       "      <td>10.000</td>\n",
       "      <td>NaN</td>\n",
       "      <td>0.000</td>\n",
       "      <td>18250.000</td>\n",
       "    </tr>\n",
       "    <tr>\n",
       "      <th>82967</th>\n",
       "      <td>19.000</td>\n",
       "      <td>3.000</td>\n",
       "      <td>66666.000</td>\n",
       "      <td>0.000</td>\n",
       "      <td>20.000</td>\n",
       "      <td>NaN</td>\n",
       "      <td>0.000</td>\n",
       "      <td>18250.000</td>\n",
       "    </tr>\n",
       "    <tr>\n",
       "      <th>83160</th>\n",
       "      <td>19.000</td>\n",
       "      <td>3.000</td>\n",
       "      <td>66666.000</td>\n",
       "      <td>0.000</td>\n",
       "      <td>20.000</td>\n",
       "      <td>NaN</td>\n",
       "      <td>0.000</td>\n",
       "      <td>18250.000</td>\n",
       "    </tr>\n",
       "    <tr>\n",
       "      <th>83244</th>\n",
       "      <td>22.000</td>\n",
       "      <td>3.000</td>\n",
       "      <td>66666.000</td>\n",
       "      <td>0.000</td>\n",
       "      <td>27.000</td>\n",
       "      <td>NaN</td>\n",
       "      <td>0.000</td>\n",
       "      <td>18250.000</td>\n",
       "    </tr>\n",
       "    <tr>\n",
       "      <th>83347</th>\n",
       "      <td>0.000</td>\n",
       "      <td>3.000</td>\n",
       "      <td>66666.000</td>\n",
       "      <td>0.000</td>\n",
       "      <td>1.000</td>\n",
       "      <td>NaN</td>\n",
       "      <td>0.000</td>\n",
       "      <td>18250.000</td>\n",
       "    </tr>\n",
       "    <tr>\n",
       "      <th>83406</th>\n",
       "      <td>999.000</td>\n",
       "      <td>3.000</td>\n",
       "      <td>66666.000</td>\n",
       "      <td>0.000</td>\n",
       "      <td>999.000</td>\n",
       "      <td>NaN</td>\n",
       "      <td>0.000</td>\n",
       "      <td>18250.000</td>\n",
       "    </tr>\n",
       "    <tr>\n",
       "      <th>83638</th>\n",
       "      <td>19.000</td>\n",
       "      <td>3.000</td>\n",
       "      <td>66666.000</td>\n",
       "      <td>0.000</td>\n",
       "      <td>2.000</td>\n",
       "      <td>NaN</td>\n",
       "      <td>0.000</td>\n",
       "      <td>18250.000</td>\n",
       "    </tr>\n",
       "    <tr>\n",
       "      <th>83788</th>\n",
       "      <td>16.000</td>\n",
       "      <td>3.000</td>\n",
       "      <td>66666.000</td>\n",
       "      <td>0.000</td>\n",
       "      <td>3.000</td>\n",
       "      <td>NaN</td>\n",
       "      <td>0.000</td>\n",
       "      <td>18250.000</td>\n",
       "    </tr>\n",
       "    <tr>\n",
       "      <th>83843</th>\n",
       "      <td>14.000</td>\n",
       "      <td>3.000</td>\n",
       "      <td>66666.000</td>\n",
       "      <td>0.000</td>\n",
       "      <td>25.000</td>\n",
       "      <td>NaN</td>\n",
       "      <td>0.000</td>\n",
       "      <td>18250.000</td>\n",
       "    </tr>\n",
       "    <tr>\n",
       "      <th>83886</th>\n",
       "      <td>20.000</td>\n",
       "      <td>3.000</td>\n",
       "      <td>66666.000</td>\n",
       "      <td>0.000</td>\n",
       "      <td>24.000</td>\n",
       "      <td>NaN</td>\n",
       "      <td>1.000</td>\n",
       "      <td>18250.000</td>\n",
       "    </tr>\n",
       "    <tr>\n",
       "      <th>84236</th>\n",
       "      <td>17.000</td>\n",
       "      <td>3.000</td>\n",
       "      <td>66666.000</td>\n",
       "      <td>0.000</td>\n",
       "      <td>999.000</td>\n",
       "      <td>NaN</td>\n",
       "      <td>0.000</td>\n",
       "      <td>18250.000</td>\n",
       "    </tr>\n",
       "    <tr>\n",
       "      <th>84530</th>\n",
       "      <td>15.000</td>\n",
       "      <td>3.000</td>\n",
       "      <td>66666.000</td>\n",
       "      <td>0.000</td>\n",
       "      <td>20.000</td>\n",
       "      <td>NaN</td>\n",
       "      <td>0.000</td>\n",
       "      <td>18250.000</td>\n",
       "    </tr>\n",
       "    <tr>\n",
       "      <th>84802</th>\n",
       "      <td>16.000</td>\n",
       "      <td>3.000</td>\n",
       "      <td>66666.000</td>\n",
       "      <td>0.000</td>\n",
       "      <td>10.000</td>\n",
       "      <td>NaN</td>\n",
       "      <td>0.000</td>\n",
       "      <td>18250.000</td>\n",
       "    </tr>\n",
       "    <tr>\n",
       "      <th>84967</th>\n",
       "      <td>0.000</td>\n",
       "      <td>3.000</td>\n",
       "      <td>66666.000</td>\n",
       "      <td>0.000</td>\n",
       "      <td>1.000</td>\n",
       "      <td>NaN</td>\n",
       "      <td>0.000</td>\n",
       "      <td>18250.000</td>\n",
       "    </tr>\n",
       "    <tr>\n",
       "      <th>85143</th>\n",
       "      <td>15.000</td>\n",
       "      <td>3.000</td>\n",
       "      <td>66666.000</td>\n",
       "      <td>0.000</td>\n",
       "      <td>3.000</td>\n",
       "      <td>NaN</td>\n",
       "      <td>1.000</td>\n",
       "      <td>18250.000</td>\n",
       "    </tr>\n",
       "    <tr>\n",
       "      <th>85647</th>\n",
       "      <td>17.000</td>\n",
       "      <td>3.000</td>\n",
       "      <td>66666.000</td>\n",
       "      <td>0.000</td>\n",
       "      <td>5.000</td>\n",
       "      <td>NaN</td>\n",
       "      <td>0.000</td>\n",
       "      <td>18250.000</td>\n",
       "    </tr>\n",
       "    <tr>\n",
       "      <th>85737</th>\n",
       "      <td>21.000</td>\n",
       "      <td>3.000</td>\n",
       "      <td>66666.000</td>\n",
       "      <td>0.000</td>\n",
       "      <td>1.000</td>\n",
       "      <td>NaN</td>\n",
       "      <td>0.000</td>\n",
       "      <td>18250.000</td>\n",
       "    </tr>\n",
       "    <tr>\n",
       "      <th>85740</th>\n",
       "      <td>19.000</td>\n",
       "      <td>3.000</td>\n",
       "      <td>66666.000</td>\n",
       "      <td>0.000</td>\n",
       "      <td>20.000</td>\n",
       "      <td>NaN</td>\n",
       "      <td>0.000</td>\n",
       "      <td>18250.000</td>\n",
       "    </tr>\n",
       "    <tr>\n",
       "      <th>85813</th>\n",
       "      <td>16.000</td>\n",
       "      <td>3.000</td>\n",
       "      <td>66666.000</td>\n",
       "      <td>0.000</td>\n",
       "      <td>60.000</td>\n",
       "      <td>NaN</td>\n",
       "      <td>0.000</td>\n",
       "      <td>18250.000</td>\n",
       "    </tr>\n",
       "    <tr>\n",
       "      <th>85899</th>\n",
       "      <td>17.000</td>\n",
       "      <td>3.000</td>\n",
       "      <td>66666.000</td>\n",
       "      <td>0.000</td>\n",
       "      <td>1.000</td>\n",
       "      <td>NaN</td>\n",
       "      <td>0.000</td>\n",
       "      <td>18250.000</td>\n",
       "    </tr>\n",
       "    <tr>\n",
       "      <th>86062</th>\n",
       "      <td>18.000</td>\n",
       "      <td>3.000</td>\n",
       "      <td>66666.000</td>\n",
       "      <td>0.000</td>\n",
       "      <td>10.000</td>\n",
       "      <td>NaN</td>\n",
       "      <td>0.000</td>\n",
       "      <td>18250.000</td>\n",
       "    </tr>\n",
       "    <tr>\n",
       "      <th>86168</th>\n",
       "      <td>17.000</td>\n",
       "      <td>3.000</td>\n",
       "      <td>66666.000</td>\n",
       "      <td>0.000</td>\n",
       "      <td>20.000</td>\n",
       "      <td>NaN</td>\n",
       "      <td>0.000</td>\n",
       "      <td>18250.000</td>\n",
       "    </tr>\n",
       "    <tr>\n",
       "      <th>86194</th>\n",
       "      <td>23.000</td>\n",
       "      <td>3.000</td>\n",
       "      <td>66666.000</td>\n",
       "      <td>0.000</td>\n",
       "      <td>2.000</td>\n",
       "      <td>NaN</td>\n",
       "      <td>0.000</td>\n",
       "      <td>18250.000</td>\n",
       "    </tr>\n",
       "    <tr>\n",
       "      <th>86320</th>\n",
       "      <td>18.000</td>\n",
       "      <td>3.000</td>\n",
       "      <td>66666.000</td>\n",
       "      <td>0.000</td>\n",
       "      <td>20.000</td>\n",
       "      <td>NaN</td>\n",
       "      <td>0.000</td>\n",
       "      <td>18250.000</td>\n",
       "    </tr>\n",
       "    <tr>\n",
       "      <th>86646</th>\n",
       "      <td>16.000</td>\n",
       "      <td>3.000</td>\n",
       "      <td>66666.000</td>\n",
       "      <td>0.000</td>\n",
       "      <td>10.000</td>\n",
       "      <td>NaN</td>\n",
       "      <td>0.000</td>\n",
       "      <td>18250.000</td>\n",
       "    </tr>\n",
       "    <tr>\n",
       "      <th>87032</th>\n",
       "      <td>16.000</td>\n",
       "      <td>3.000</td>\n",
       "      <td>66666.000</td>\n",
       "      <td>0.000</td>\n",
       "      <td>20.000</td>\n",
       "      <td>NaN</td>\n",
       "      <td>0.000</td>\n",
       "      <td>18250.000</td>\n",
       "    </tr>\n",
       "    <tr>\n",
       "      <th>87193</th>\n",
       "      <td>18.000</td>\n",
       "      <td>3.000</td>\n",
       "      <td>66666.000</td>\n",
       "      <td>0.000</td>\n",
       "      <td>10.000</td>\n",
       "      <td>NaN</td>\n",
       "      <td>1.000</td>\n",
       "      <td>18250.000</td>\n",
       "    </tr>\n",
       "    <tr>\n",
       "      <th>87210</th>\n",
       "      <td>19.000</td>\n",
       "      <td>3.000</td>\n",
       "      <td>66666.000</td>\n",
       "      <td>0.000</td>\n",
       "      <td>20.000</td>\n",
       "      <td>NaN</td>\n",
       "      <td>0.000</td>\n",
       "      <td>18250.000</td>\n",
       "    </tr>\n",
       "    <tr>\n",
       "      <th>87887</th>\n",
       "      <td>11.000</td>\n",
       "      <td>3.000</td>\n",
       "      <td>66666.000</td>\n",
       "      <td>0.000</td>\n",
       "      <td>10.000</td>\n",
       "      <td>NaN</td>\n",
       "      <td>0.000</td>\n",
       "      <td>18250.000</td>\n",
       "    </tr>\n",
       "    <tr>\n",
       "      <th>88448</th>\n",
       "      <td>18.000</td>\n",
       "      <td>3.000</td>\n",
       "      <td>66666.000</td>\n",
       "      <td>0.000</td>\n",
       "      <td>10.000</td>\n",
       "      <td>NaN</td>\n",
       "      <td>0.000</td>\n",
       "      <td>18250.000</td>\n",
       "    </tr>\n",
       "    <tr>\n",
       "      <th>88612</th>\n",
       "      <td>14.000</td>\n",
       "      <td>3.000</td>\n",
       "      <td>66666.000</td>\n",
       "      <td>0.000</td>\n",
       "      <td>40.000</td>\n",
       "      <td>NaN</td>\n",
       "      <td>0.000</td>\n",
       "      <td>18250.000</td>\n",
       "    </tr>\n",
       "    <tr>\n",
       "      <th>89381</th>\n",
       "      <td>10.000</td>\n",
       "      <td>3.000</td>\n",
       "      <td>66666.000</td>\n",
       "      <td>0.000</td>\n",
       "      <td>20.000</td>\n",
       "      <td>NaN</td>\n",
       "      <td>0.000</td>\n",
       "      <td>18250.000</td>\n",
       "    </tr>\n",
       "    <tr>\n",
       "      <th>89413</th>\n",
       "      <td>22.000</td>\n",
       "      <td>3.000</td>\n",
       "      <td>66666.000</td>\n",
       "      <td>0.000</td>\n",
       "      <td>2.000</td>\n",
       "      <td>NaN</td>\n",
       "      <td>0.000</td>\n",
       "      <td>18250.000</td>\n",
       "    </tr>\n",
       "    <tr>\n",
       "      <th>89504</th>\n",
       "      <td>8.000</td>\n",
       "      <td>3.000</td>\n",
       "      <td>66666.000</td>\n",
       "      <td>0.000</td>\n",
       "      <td>20.000</td>\n",
       "      <td>NaN</td>\n",
       "      <td>0.000</td>\n",
       "      <td>18250.000</td>\n",
       "    </tr>\n",
       "    <tr>\n",
       "      <th>89690</th>\n",
       "      <td>16.000</td>\n",
       "      <td>3.000</td>\n",
       "      <td>66666.000</td>\n",
       "      <td>0.000</td>\n",
       "      <td>40.000</td>\n",
       "      <td>NaN</td>\n",
       "      <td>0.000</td>\n",
       "      <td>18250.000</td>\n",
       "    </tr>\n",
       "    <tr>\n",
       "      <th>90258</th>\n",
       "      <td>22.000</td>\n",
       "      <td>3.000</td>\n",
       "      <td>66666.000</td>\n",
       "      <td>0.000</td>\n",
       "      <td>10.000</td>\n",
       "      <td>NaN</td>\n",
       "      <td>0.000</td>\n",
       "      <td>18250.000</td>\n",
       "    </tr>\n",
       "    <tr>\n",
       "      <th>90263</th>\n",
       "      <td>21.000</td>\n",
       "      <td>3.000</td>\n",
       "      <td>66666.000</td>\n",
       "      <td>0.000</td>\n",
       "      <td>5.000</td>\n",
       "      <td>NaN</td>\n",
       "      <td>0.000</td>\n",
       "      <td>18250.000</td>\n",
       "    </tr>\n",
       "    <tr>\n",
       "      <th>90381</th>\n",
       "      <td>18.000</td>\n",
       "      <td>3.000</td>\n",
       "      <td>66666.000</td>\n",
       "      <td>0.000</td>\n",
       "      <td>20.000</td>\n",
       "      <td>NaN</td>\n",
       "      <td>0.000</td>\n",
       "      <td>18250.000</td>\n",
       "    </tr>\n",
       "    <tr>\n",
       "      <th>90419</th>\n",
       "      <td>16.000</td>\n",
       "      <td>3.000</td>\n",
       "      <td>66666.000</td>\n",
       "      <td>0.000</td>\n",
       "      <td>1.000</td>\n",
       "      <td>NaN</td>\n",
       "      <td>0.000</td>\n",
       "      <td>18250.000</td>\n",
       "    </tr>\n",
       "    <tr>\n",
       "      <th>90675</th>\n",
       "      <td>15.000</td>\n",
       "      <td>3.000</td>\n",
       "      <td>66666.000</td>\n",
       "      <td>0.000</td>\n",
       "      <td>80.000</td>\n",
       "      <td>NaN</td>\n",
       "      <td>0.000</td>\n",
       "      <td>18250.000</td>\n",
       "    </tr>\n",
       "    <tr>\n",
       "      <th>90690</th>\n",
       "      <td>21.000</td>\n",
       "      <td>3.000</td>\n",
       "      <td>66666.000</td>\n",
       "      <td>0.000</td>\n",
       "      <td>10.000</td>\n",
       "      <td>NaN</td>\n",
       "      <td>0.000</td>\n",
       "      <td>18250.000</td>\n",
       "    </tr>\n",
       "    <tr>\n",
       "      <th>90892</th>\n",
       "      <td>16.000</td>\n",
       "      <td>3.000</td>\n",
       "      <td>66666.000</td>\n",
       "      <td>0.000</td>\n",
       "      <td>30.000</td>\n",
       "      <td>NaN</td>\n",
       "      <td>0.000</td>\n",
       "      <td>18250.000</td>\n",
       "    </tr>\n",
       "    <tr>\n",
       "      <th>90975</th>\n",
       "      <td>20.000</td>\n",
       "      <td>3.000</td>\n",
       "      <td>66666.000</td>\n",
       "      <td>0.000</td>\n",
       "      <td>1.000</td>\n",
       "      <td>NaN</td>\n",
       "      <td>0.000</td>\n",
       "      <td>18250.000</td>\n",
       "    </tr>\n",
       "    <tr>\n",
       "      <th>91034</th>\n",
       "      <td>16.000</td>\n",
       "      <td>3.000</td>\n",
       "      <td>66666.000</td>\n",
       "      <td>0.000</td>\n",
       "      <td>20.000</td>\n",
       "      <td>NaN</td>\n",
       "      <td>0.000</td>\n",
       "      <td>18250.000</td>\n",
       "    </tr>\n",
       "    <tr>\n",
       "      <th>91137</th>\n",
       "      <td>20.000</td>\n",
       "      <td>3.000</td>\n",
       "      <td>66666.000</td>\n",
       "      <td>0.000</td>\n",
       "      <td>2.000</td>\n",
       "      <td>NaN</td>\n",
       "      <td>0.000</td>\n",
       "      <td>18250.000</td>\n",
       "    </tr>\n",
       "    <tr>\n",
       "      <th>91280</th>\n",
       "      <td>20.000</td>\n",
       "      <td>3.000</td>\n",
       "      <td>66666.000</td>\n",
       "      <td>0.000</td>\n",
       "      <td>5.000</td>\n",
       "      <td>NaN</td>\n",
       "      <td>0.000</td>\n",
       "      <td>18250.000</td>\n",
       "    </tr>\n",
       "    <tr>\n",
       "      <th>91368</th>\n",
       "      <td>15.000</td>\n",
       "      <td>3.000</td>\n",
       "      <td>66666.000</td>\n",
       "      <td>0.000</td>\n",
       "      <td>4.000</td>\n",
       "      <td>NaN</td>\n",
       "      <td>0.000</td>\n",
       "      <td>18250.000</td>\n",
       "    </tr>\n",
       "    <tr>\n",
       "      <th>91373</th>\n",
       "      <td>17.000</td>\n",
       "      <td>3.000</td>\n",
       "      <td>66666.000</td>\n",
       "      <td>0.000</td>\n",
       "      <td>1.000</td>\n",
       "      <td>NaN</td>\n",
       "      <td>0.000</td>\n",
       "      <td>18250.000</td>\n",
       "    </tr>\n",
       "    <tr>\n",
       "      <th>91820</th>\n",
       "      <td>20.000</td>\n",
       "      <td>3.000</td>\n",
       "      <td>66666.000</td>\n",
       "      <td>0.000</td>\n",
       "      <td>20.000</td>\n",
       "      <td>NaN</td>\n",
       "      <td>0.000</td>\n",
       "      <td>18250.000</td>\n",
       "    </tr>\n",
       "    <tr>\n",
       "      <th>92090</th>\n",
       "      <td>14.000</td>\n",
       "      <td>3.000</td>\n",
       "      <td>66666.000</td>\n",
       "      <td>0.000</td>\n",
       "      <td>20.000</td>\n",
       "      <td>NaN</td>\n",
       "      <td>0.000</td>\n",
       "      <td>18250.000</td>\n",
       "    </tr>\n",
       "    <tr>\n",
       "      <th>92507</th>\n",
       "      <td>15.000</td>\n",
       "      <td>3.000</td>\n",
       "      <td>66666.000</td>\n",
       "      <td>0.000</td>\n",
       "      <td>20.000</td>\n",
       "      <td>NaN</td>\n",
       "      <td>0.000</td>\n",
       "      <td>18250.000</td>\n",
       "    </tr>\n",
       "    <tr>\n",
       "      <th>92561</th>\n",
       "      <td>18.000</td>\n",
       "      <td>3.000</td>\n",
       "      <td>66666.000</td>\n",
       "      <td>0.000</td>\n",
       "      <td>4.000</td>\n",
       "      <td>NaN</td>\n",
       "      <td>0.000</td>\n",
       "      <td>18250.000</td>\n",
       "    </tr>\n",
       "    <tr>\n",
       "      <th>92974</th>\n",
       "      <td>22.000</td>\n",
       "      <td>3.000</td>\n",
       "      <td>66666.000</td>\n",
       "      <td>0.000</td>\n",
       "      <td>2.000</td>\n",
       "      <td>NaN</td>\n",
       "      <td>0.000</td>\n",
       "      <td>18250.000</td>\n",
       "    </tr>\n",
       "    <tr>\n",
       "      <th>93145</th>\n",
       "      <td>0.000</td>\n",
       "      <td>3.000</td>\n",
       "      <td>66666.000</td>\n",
       "      <td>0.000</td>\n",
       "      <td>1.000</td>\n",
       "      <td>NaN</td>\n",
       "      <td>0.000</td>\n",
       "      <td>18250.000</td>\n",
       "    </tr>\n",
       "    <tr>\n",
       "      <th>93442</th>\n",
       "      <td>21.000</td>\n",
       "      <td>3.000</td>\n",
       "      <td>66666.000</td>\n",
       "      <td>0.000</td>\n",
       "      <td>20.000</td>\n",
       "      <td>NaN</td>\n",
       "      <td>1.000</td>\n",
       "      <td>18250.000</td>\n",
       "    </tr>\n",
       "    <tr>\n",
       "      <th>93540</th>\n",
       "      <td>19.000</td>\n",
       "      <td>3.000</td>\n",
       "      <td>66666.000</td>\n",
       "      <td>0.000</td>\n",
       "      <td>95.000</td>\n",
       "      <td>NaN</td>\n",
       "      <td>0.000</td>\n",
       "      <td>18250.000</td>\n",
       "    </tr>\n",
       "    <tr>\n",
       "      <th>93598</th>\n",
       "      <td>15.000</td>\n",
       "      <td>3.000</td>\n",
       "      <td>66666.000</td>\n",
       "      <td>0.000</td>\n",
       "      <td>1.000</td>\n",
       "      <td>NaN</td>\n",
       "      <td>0.000</td>\n",
       "      <td>18250.000</td>\n",
       "    </tr>\n",
       "  </tbody>\n",
       "</table>\n",
       "</div>"
      ],
      "text/plain": [
       "       SMD030  SMQ040   SMQ050Q  ...  SMD650  SMD460  days_quit_smoking\n",
       "SEQN                             ...                                   \n",
       "73672  13.000   3.000 66666.000  ...     NaN   0.000          18250.000\n",
       "73766  19.000   3.000 66666.000  ...     NaN   0.000          18250.000\n",
       "73873  18.000   3.000 66666.000  ...     NaN   0.000          18250.000\n",
       "74138  14.000   3.000 66666.000  ...     NaN   0.000          18250.000\n",
       "74508  18.000   3.000 66666.000  ...     NaN   0.000          18250.000\n",
       "74790  16.000   3.000 66666.000  ...     NaN   0.000          18250.000\n",
       "75117  20.000   3.000 66666.000  ...     NaN   0.000          18250.000\n",
       "75343  18.000   3.000 66666.000  ...     NaN   0.000          18250.000\n",
       "75774  28.000   3.000 66666.000  ...     NaN   0.000          18250.000\n",
       "75892  22.000   3.000 66666.000  ...     NaN   0.000          18250.000\n",
       "76277  18.000   3.000 66666.000  ...     NaN   0.000          18250.000\n",
       "76530  18.000   3.000 66666.000  ...     NaN   0.000          18250.000\n",
       "77040  20.000   3.000 66666.000  ...     NaN   1.000          18250.000\n",
       "77094  14.000   3.000 66666.000  ...     NaN   0.000          18250.000\n",
       "77212  17.000   3.000 66666.000  ...     NaN   0.000          18250.000\n",
       "77423  16.000   3.000 66666.000  ...     NaN   0.000          18250.000\n",
       "77598  25.000   3.000 66666.000  ...     NaN   0.000          18250.000\n",
       "78101  30.000   3.000 66666.000  ...     NaN   0.000          18250.000\n",
       "78403  21.000   3.000 66666.000  ...     NaN   0.000          18250.000\n",
       "78752  13.000   3.000 66666.000  ...     NaN   0.000          18250.000\n",
       "78951  24.000   3.000 66666.000  ...     NaN   0.000          18250.000\n",
       "79016  21.000   3.000 66666.000  ...     NaN   0.000          18250.000\n",
       "79048  20.000   3.000 66666.000  ...     NaN   0.000          18250.000\n",
       "79077  16.000   3.000 66666.000  ...     NaN   0.000          18250.000\n",
       "79162  14.000   3.000 66666.000  ...     NaN   0.000          18250.000\n",
       "79469   0.000   3.000 66666.000  ...     NaN   0.000          18250.000\n",
       "79819  19.000   3.000 66666.000  ...     NaN   0.000          18250.000\n",
       "80381  19.000   3.000 66666.000  ...     NaN   0.000          18250.000\n",
       "80570  19.000   3.000 66666.000  ...     NaN   0.000          18250.000\n",
       "80817  20.000   3.000 66666.000  ...     NaN   0.000          18250.000\n",
       "81179  12.000   3.000 66666.000  ...     NaN   0.000          18250.000\n",
       "81434  19.000   3.000 66666.000  ...     NaN   0.000          18250.000\n",
       "81832  16.000   3.000 66666.000  ...     NaN   0.000          18250.000\n",
       "81994  16.000   3.000 66666.000  ...     NaN   1.000          18250.000\n",
       "82027  14.000   3.000 66666.000  ...     NaN   0.000          18250.000\n",
       "82143  19.000   3.000 66666.000  ...     NaN   0.000          18250.000\n",
       "82254  17.000   3.000 66666.000  ...     NaN   0.000          18250.000\n",
       "82507  15.000   3.000 66666.000  ...     NaN   0.000          18250.000\n",
       "82652   0.000   3.000 66666.000  ...     NaN   0.000          18250.000\n",
       "82842  13.000   3.000 66666.000  ...     NaN   0.000          18250.000\n",
       "82967  19.000   3.000 66666.000  ...     NaN   0.000          18250.000\n",
       "83160  19.000   3.000 66666.000  ...     NaN   0.000          18250.000\n",
       "83244  22.000   3.000 66666.000  ...     NaN   0.000          18250.000\n",
       "83347   0.000   3.000 66666.000  ...     NaN   0.000          18250.000\n",
       "83406 999.000   3.000 66666.000  ...     NaN   0.000          18250.000\n",
       "83638  19.000   3.000 66666.000  ...     NaN   0.000          18250.000\n",
       "83788  16.000   3.000 66666.000  ...     NaN   0.000          18250.000\n",
       "83843  14.000   3.000 66666.000  ...     NaN   0.000          18250.000\n",
       "83886  20.000   3.000 66666.000  ...     NaN   1.000          18250.000\n",
       "84236  17.000   3.000 66666.000  ...     NaN   0.000          18250.000\n",
       "84530  15.000   3.000 66666.000  ...     NaN   0.000          18250.000\n",
       "84802  16.000   3.000 66666.000  ...     NaN   0.000          18250.000\n",
       "84967   0.000   3.000 66666.000  ...     NaN   0.000          18250.000\n",
       "85143  15.000   3.000 66666.000  ...     NaN   1.000          18250.000\n",
       "85647  17.000   3.000 66666.000  ...     NaN   0.000          18250.000\n",
       "85737  21.000   3.000 66666.000  ...     NaN   0.000          18250.000\n",
       "85740  19.000   3.000 66666.000  ...     NaN   0.000          18250.000\n",
       "85813  16.000   3.000 66666.000  ...     NaN   0.000          18250.000\n",
       "85899  17.000   3.000 66666.000  ...     NaN   0.000          18250.000\n",
       "86062  18.000   3.000 66666.000  ...     NaN   0.000          18250.000\n",
       "86168  17.000   3.000 66666.000  ...     NaN   0.000          18250.000\n",
       "86194  23.000   3.000 66666.000  ...     NaN   0.000          18250.000\n",
       "86320  18.000   3.000 66666.000  ...     NaN   0.000          18250.000\n",
       "86646  16.000   3.000 66666.000  ...     NaN   0.000          18250.000\n",
       "87032  16.000   3.000 66666.000  ...     NaN   0.000          18250.000\n",
       "87193  18.000   3.000 66666.000  ...     NaN   1.000          18250.000\n",
       "87210  19.000   3.000 66666.000  ...     NaN   0.000          18250.000\n",
       "87887  11.000   3.000 66666.000  ...     NaN   0.000          18250.000\n",
       "88448  18.000   3.000 66666.000  ...     NaN   0.000          18250.000\n",
       "88612  14.000   3.000 66666.000  ...     NaN   0.000          18250.000\n",
       "89381  10.000   3.000 66666.000  ...     NaN   0.000          18250.000\n",
       "89413  22.000   3.000 66666.000  ...     NaN   0.000          18250.000\n",
       "89504   8.000   3.000 66666.000  ...     NaN   0.000          18250.000\n",
       "89690  16.000   3.000 66666.000  ...     NaN   0.000          18250.000\n",
       "90258  22.000   3.000 66666.000  ...     NaN   0.000          18250.000\n",
       "90263  21.000   3.000 66666.000  ...     NaN   0.000          18250.000\n",
       "90381  18.000   3.000 66666.000  ...     NaN   0.000          18250.000\n",
       "90419  16.000   3.000 66666.000  ...     NaN   0.000          18250.000\n",
       "90675  15.000   3.000 66666.000  ...     NaN   0.000          18250.000\n",
       "90690  21.000   3.000 66666.000  ...     NaN   0.000          18250.000\n",
       "90892  16.000   3.000 66666.000  ...     NaN   0.000          18250.000\n",
       "90975  20.000   3.000 66666.000  ...     NaN   0.000          18250.000\n",
       "91034  16.000   3.000 66666.000  ...     NaN   0.000          18250.000\n",
       "91137  20.000   3.000 66666.000  ...     NaN   0.000          18250.000\n",
       "91280  20.000   3.000 66666.000  ...     NaN   0.000          18250.000\n",
       "91368  15.000   3.000 66666.000  ...     NaN   0.000          18250.000\n",
       "91373  17.000   3.000 66666.000  ...     NaN   0.000          18250.000\n",
       "91820  20.000   3.000 66666.000  ...     NaN   0.000          18250.000\n",
       "92090  14.000   3.000 66666.000  ...     NaN   0.000          18250.000\n",
       "92507  15.000   3.000 66666.000  ...     NaN   0.000          18250.000\n",
       "92561  18.000   3.000 66666.000  ...     NaN   0.000          18250.000\n",
       "92974  22.000   3.000 66666.000  ...     NaN   0.000          18250.000\n",
       "93145   0.000   3.000 66666.000  ...     NaN   0.000          18250.000\n",
       "93442  21.000   3.000 66666.000  ...     NaN   1.000          18250.000\n",
       "93540  19.000   3.000 66666.000  ...     NaN   0.000          18250.000\n",
       "93598  15.000   3.000 66666.000  ...     NaN   0.000          18250.000\n",
       "\n",
       "[96 rows x 8 columns]"
      ]
     },
     "execution_count": 310,
     "metadata": {},
     "output_type": "execute_result"
    }
   ],
   "source": [
    "# Checking that the values were changed\n",
    "smoking_clean[smoking_clean['SMQ050Q'] == 66666]"
   ]
  },
  {
   "cell_type": "code",
   "execution_count": 311,
   "metadata": {
    "ExecuteTime": {
     "end_time": "2021-02-09T05:13:54.424927Z",
     "start_time": "2021-02-09T05:13:54.336974Z"
    }
   },
   "outputs": [
    {
     "data": {
      "text/plain": [
       "0.000        17498\n",
       "7300.000       154\n",
       "10950.000      153\n",
       "5475.000       131\n",
       "3650.000       129\n",
       "730.000        106\n",
       "1825.000       106\n",
       "9125.000       105\n",
       "18250.000       96\n",
       "1095.000        94\n",
       "14600.000       91\n",
       "1460.000        87\n",
       "365.000         69\n",
       "2555.000        68\n",
       "2920.000        66\n",
       "12775.000       58\n",
       "2190.000        57\n",
       "4380.000        52\n",
       "5110.000        48\n",
       "3285.000        41\n",
       "4745.000        39\n",
       "8395.000        38\n",
       "8760.000        36\n",
       "16425.000       35\n",
       "6570.000        34\n",
       "8030.000        34\n",
       "10220.000       33\n",
       "5840.000        33\n",
       "90.000          30\n",
       "6205.000        30\n",
       "12045.000       29\n",
       "7665.000        27\n",
       "180.000         26\n",
       "9490.000        25\n",
       "60.000          23\n",
       "14235.000       22\n",
       "120.000         21\n",
       "4015.000        20\n",
       "6935.000        20\n",
       "11315.000       19\n",
       "30.000          19\n",
       "12410.000       19\n",
       "11680.000       17\n",
       "7.000           16\n",
       "13505.000       16\n",
       "16060.000       16\n",
       "15330.000       15\n",
       "9855.000        15\n",
       "13870.000       14\n",
       "10585.000       13\n",
       "150.000         13\n",
       "540.000         13\n",
       "21.000          13\n",
       "14965.000       12\n",
       "240.000         11\n",
       "14.000          11\n",
       "13140.000       11\n",
       "17155.000       11\n",
       "16790.000       11\n",
       "900.000          9\n",
       "270.000          8\n",
       "15695.000        7\n",
       "210.000          7\n",
       "17520.000        7\n",
       "390.000          5\n",
       "450.000          5\n",
       "42.000           5\n",
       "300.000          4\n",
       "420.000          4\n",
       "17885.000        4\n",
       "2.000            3\n",
       "28.000           3\n",
       "34.000           2\n",
       "10.000           2\n",
       "1.000            2\n",
       "40.000           1\n",
       "510.000          1\n",
       "17.000           1\n",
       "480.000          1\n",
       "45.000           1\n",
       "630.000          1\n",
       "960.000          1\n",
       "20.000           1\n",
       "105.000          1\n",
       "5.000            1\n",
       "22.000           1\n",
       "4.000            1\n",
       "3.000            1\n",
       "780.000          1\n",
       "25.000           1\n",
       "660.000          1\n",
       "330.000          1\n",
       "35.000           1\n",
       "810.000          1\n",
       "37.000           1\n",
       "Name: days_quit_smoking, dtype: int64"
      ]
     },
     "execution_count": 311,
     "metadata": {},
     "output_type": "execute_result"
    }
   ],
   "source": [
    "# Checking values\n",
    "smoking_clean['days_quit_smoking'].value_counts(dropna=False)"
   ]
  },
  {
   "cell_type": "code",
   "execution_count": 312,
   "metadata": {
    "ExecuteTime": {
     "end_time": "2021-02-09T05:13:55.194928Z",
     "start_time": "2021-02-09T05:13:55.108926Z"
    }
   },
   "outputs": [],
   "source": [
    "# Dropping old columns and casting to int type\n",
    "smoking_clean.drop(columns=['SMQ050Q', 'SMQ050U'], inplace=True)\n",
    "smoking_clean['days_quit_smoking'] = smoking_clean['days_quit_smoking'].astype('int64')"
   ]
  },
  {
   "cell_type": "code",
   "execution_count": 313,
   "metadata": {
    "ExecuteTime": {
     "end_time": "2021-02-09T05:13:56.041970Z",
     "start_time": "2021-02-09T05:13:55.954927Z"
    }
   },
   "outputs": [
    {
     "name": "stdout",
     "output_type": "stream",
     "text": [
      "<class 'pandas.core.frame.DataFrame'>\n",
      "Int64Index: 20146 entries, 73557 to 93702\n",
      "Data columns (total 6 columns):\n",
      " #   Column             Non-Null Count  Dtype  \n",
      "---  ------             --------------  -----  \n",
      " 0   SMD030             5001 non-null   float64\n",
      " 1   SMQ040             5001 non-null   float64\n",
      " 2   SMD057             2669 non-null   float64\n",
      " 3   SMD650             2357 non-null   float64\n",
      " 4   SMD460             19708 non-null  float64\n",
      " 5   days_quit_smoking  20146 non-null  int64  \n",
      "dtypes: float64(5), int64(1)\n",
      "memory usage: 1.1 MB\n"
     ]
    }
   ],
   "source": [
    "# Checking the dataframe\n",
    "smoking_clean.info()"
   ]
  },
  {
   "cell_type": "markdown",
   "metadata": {},
   "source": [
    "## Household Smokers"
   ]
  },
  {
   "cell_type": "code",
   "execution_count": 314,
   "metadata": {
    "ExecuteTime": {
     "end_time": "2021-02-09T05:14:00.103960Z",
     "start_time": "2021-02-09T05:14:00.028884Z"
    }
   },
   "outputs": [
    {
     "data": {
      "text/plain": [
       "0.000      14531\n",
       "1.000       3206\n",
       "2.000       1559\n",
       "NaN          438\n",
       "3.000        400\n",
       "777.000        9\n",
       "999.000        3\n",
       "Name: SMD460, dtype: int64"
      ]
     },
     "execution_count": 314,
     "metadata": {},
     "output_type": "execute_result"
    }
   ],
   "source": [
    "# Checking column values\n",
    "smoking_clean.SMD460.value_counts(dropna=False)"
   ]
  },
  {
   "cell_type": "code",
   "execution_count": 315,
   "metadata": {
    "ExecuteTime": {
     "end_time": "2021-02-09T05:14:01.980553Z",
     "start_time": "2021-02-09T05:14:01.909522Z"
    }
   },
   "outputs": [],
   "source": [
    "# Filling null values\n",
    "smoking_clean.SMD460.fillna(4,inplace=True)\n"
   ]
  },
  {
   "cell_type": "code",
   "execution_count": 316,
   "metadata": {
    "ExecuteTime": {
     "end_time": "2021-02-09T05:14:02.906523Z",
     "start_time": "2021-02-09T05:14:02.827557Z"
    }
   },
   "outputs": [],
   "source": [
    "# Adding columns together\n",
    "smoking_clean['household_smokers'] = smoking_clean['SMD460'] "
   ]
  },
  {
   "cell_type": "code",
   "execution_count": 317,
   "metadata": {
    "ExecuteTime": {
     "end_time": "2021-02-09T05:14:04.143353Z",
     "start_time": "2021-02-09T05:14:04.076315Z"
    }
   },
   "outputs": [
    {
     "data": {
      "text/plain": [
       "0.000      14531\n",
       "1.000       3206\n",
       "2.000       1559\n",
       "4.000        438\n",
       "3.000        400\n",
       "777.000        9\n",
       "999.000        3\n",
       "Name: household_smokers, dtype: int64"
      ]
     },
     "execution_count": 317,
     "metadata": {},
     "output_type": "execute_result"
    }
   ],
   "source": [
    "# Checking column values\n",
    "smoking_clean['household_smokers'].value_counts(dropna=False)"
   ]
  },
  {
   "cell_type": "code",
   "execution_count": 318,
   "metadata": {
    "ExecuteTime": {
     "end_time": "2021-02-09T05:14:05.627607Z",
     "start_time": "2021-02-09T05:14:05.562710Z"
    }
   },
   "outputs": [],
   "source": [
    "# Replacing column values and casting as int type\n",
    "smoking_clean['household_smokers'].replace({4.000: 0, \n",
    "                                            5.000: 1, \n",
    "                                            6.000: 2, \n",
    "                                            7.000:3, \n",
    "                                            8.000: 4,\n",
    "                                            1003.000: 4,\n",
    "                                            781.000: 4}, \n",
    "                                           inplace=True)\n",
    "smoking_clean['household_smokers'] = smoking_clean['household_smokers'].astype('int64')"
   ]
  },
  {
   "cell_type": "code",
   "execution_count": 319,
   "metadata": {
    "ExecuteTime": {
     "end_time": "2021-02-09T05:14:06.274607Z",
     "start_time": "2021-02-09T05:14:06.198607Z"
    }
   },
   "outputs": [
    {
     "data": {
      "text/plain": [
       "0      14969\n",
       "1       3206\n",
       "2       1559\n",
       "3        400\n",
       "777        9\n",
       "999        3\n",
       "Name: household_smokers, dtype: int64"
      ]
     },
     "execution_count": 319,
     "metadata": {},
     "output_type": "execute_result"
    }
   ],
   "source": [
    "# Verifying column values\n",
    "smoking_clean['household_smokers'].value_counts(dropna=False)"
   ]
  },
  {
   "cell_type": "code",
   "execution_count": 320,
   "metadata": {
    "ExecuteTime": {
     "end_time": "2021-02-09T05:14:07.023652Z",
     "start_time": "2021-02-09T05:14:06.942643Z"
    }
   },
   "outputs": [],
   "source": [
    "# Dropping old columns\n",
    "smoking_clean.drop(columns=['SMD460'], inplace=True)"
   ]
  },
  {
   "cell_type": "code",
   "execution_count": 321,
   "metadata": {
    "ExecuteTime": {
     "end_time": "2021-02-09T05:14:07.844687Z",
     "start_time": "2021-02-09T05:14:07.760612Z"
    }
   },
   "outputs": [
    {
     "name": "stdout",
     "output_type": "stream",
     "text": [
      "<class 'pandas.core.frame.DataFrame'>\n",
      "Int64Index: 20146 entries, 73557 to 93702\n",
      "Data columns (total 6 columns):\n",
      " #   Column             Non-Null Count  Dtype  \n",
      "---  ------             --------------  -----  \n",
      " 0   SMD030             5001 non-null   float64\n",
      " 1   SMQ040             5001 non-null   float64\n",
      " 2   SMD057             2669 non-null   float64\n",
      " 3   SMD650             2357 non-null   float64\n",
      " 4   days_quit_smoking  20146 non-null  int64  \n",
      " 5   household_smokers  20146 non-null  int64  \n",
      "dtypes: float64(4), int64(2)\n",
      "memory usage: 1.1 MB\n"
     ]
    }
   ],
   "source": [
    "# Checking the dataframe\n",
    "smoking_clean.info()"
   ]
  },
  {
   "cell_type": "markdown",
   "metadata": {},
   "source": [
    "## Renaming Columns"
   ]
  },
  {
   "cell_type": "code",
   "execution_count": 323,
   "metadata": {
    "ExecuteTime": {
     "end_time": "2021-02-09T05:14:09.836135Z",
     "start_time": "2021-02-09T05:14:09.773135Z"
    }
   },
   "outputs": [
    {
     "data": {
      "text/plain": [
       "Index(['SMD030', 'SMQ040', 'SMD057', 'SMD650', 'days_quit_smoking',\n",
       "       'household_smokers'],\n",
       "      dtype='object')"
      ]
     },
     "execution_count": 323,
     "metadata": {},
     "output_type": "execute_result"
    }
   ],
   "source": [
    "# Listing columns to look up ones to rename\n",
    "smoking_clean.columns"
   ]
  },
  {
   "cell_type": "code",
   "execution_count": 324,
   "metadata": {
    "ExecuteTime": {
     "end_time": "2021-02-09T05:14:10.467197Z",
     "start_time": "2021-02-09T05:14:10.399137Z"
    }
   },
   "outputs": [],
   "source": [
    "# Renaming columns\n",
    "smoking_clean.rename(columns={'SMD030': 'start_smoking_age', \n",
    "                              'SMQ040': 'current_smoker', \n",
    "                              'SMD057': 'previous_cigarettes_per_day', \n",
    "                              'SMD650': 'current_cigarettes_per_day'}, \n",
    "                            inplace=True)"
   ]
  },
  {
   "cell_type": "code",
   "execution_count": 325,
   "metadata": {
    "ExecuteTime": {
     "end_time": "2021-02-09T05:14:11.172138Z",
     "start_time": "2021-02-09T05:14:11.089138Z"
    }
   },
   "outputs": [
    {
     "name": "stdout",
     "output_type": "stream",
     "text": [
      "<class 'pandas.core.frame.DataFrame'>\n",
      "Int64Index: 20146 entries, 73557 to 93702\n",
      "Data columns (total 6 columns):\n",
      " #   Column                       Non-Null Count  Dtype  \n",
      "---  ------                       --------------  -----  \n",
      " 0   start_smoking_age            5001 non-null   float64\n",
      " 1   current_smoker               5001 non-null   float64\n",
      " 2   previous_cigarettes_per_day  2669 non-null   float64\n",
      " 3   current_cigarettes_per_day   2357 non-null   float64\n",
      " 4   days_quit_smoking            20146 non-null  int64  \n",
      " 5   household_smokers            20146 non-null  int64  \n",
      "dtypes: float64(4), int64(2)\n",
      "memory usage: 1.1 MB\n"
     ]
    }
   ],
   "source": [
    "# Checking dataframe\n",
    "smoking_clean.info()"
   ]
  },
  {
   "cell_type": "markdown",
   "metadata": {},
   "source": [
    "## Clean Column Values"
   ]
  },
  {
   "cell_type": "code",
   "execution_count": 326,
   "metadata": {
    "ExecuteTime": {
     "end_time": "2021-02-09T05:14:13.566888Z",
     "start_time": "2021-02-09T05:14:13.503976Z"
    }
   },
   "outputs": [
    {
     "data": {
      "text/plain": [
       "NaN      15145\n",
       "3.000     2669\n",
       "1.000     1824\n",
       "2.000      508\n",
       "Name: current_smoker, dtype: int64"
      ]
     },
     "execution_count": 326,
     "metadata": {},
     "output_type": "execute_result"
    }
   ],
   "source": [
    "# Checking column values\n",
    "smoking_clean.current_smoker.value_counts(dropna=False)"
   ]
  },
  {
   "cell_type": "code",
   "execution_count": 327,
   "metadata": {
    "ExecuteTime": {
     "end_time": "2021-02-09T05:14:14.342233Z",
     "start_time": "2021-02-09T05:14:14.268241Z"
    }
   },
   "outputs": [],
   "source": [
    "# Replacing values to be in ordinal order, filling nulls, and casting as int type\n",
    "smoking_clean.current_smoker.replace({7.000: 0, 1.000: 3, 3.000: 1}, inplace=True)\n",
    "smoking_clean.current_smoker.fillna(0, inplace=True)\n",
    "smoking_clean.current_smoker = smoking_clean.current_smoker.astype('int64')"
   ]
  },
  {
   "cell_type": "code",
   "execution_count": 328,
   "metadata": {
    "ExecuteTime": {
     "end_time": "2021-02-09T05:14:15.615957Z",
     "start_time": "2021-02-09T05:14:15.546954Z"
    }
   },
   "outputs": [
    {
     "data": {
      "text/plain": [
       "0    15145\n",
       "1     2669\n",
       "3     1824\n",
       "2      508\n",
       "Name: current_smoker, dtype: int64"
      ]
     },
     "execution_count": 328,
     "metadata": {},
     "output_type": "execute_result"
    }
   ],
   "source": [
    "# Checking column values\n",
    "smoking_clean.current_smoker.value_counts(dropna=False)"
   ]
  },
  {
   "cell_type": "code",
   "execution_count": 329,
   "metadata": {
    "ExecuteTime": {
     "end_time": "2021-02-09T05:14:27.658417Z",
     "start_time": "2021-02-09T05:14:27.599320Z"
    },
    "scrolled": true
   },
   "outputs": [],
   "source": [
    "# Listing remaining columns that need cleaning\n",
    "smoking_list = ['start_smoking_age', 'previous_cigarettes_per_day', \n",
    "                'current_cigarettes_per_day']"
   ]
  },
  {
   "cell_type": "code",
   "execution_count": 330,
   "metadata": {
    "ExecuteTime": {
     "end_time": "2021-02-09T05:14:28.234347Z",
     "start_time": "2021-02-09T05:14:28.161310Z"
    },
    "scrolled": true
   },
   "outputs": [
    {
     "data": {
      "text/plain": [
       "NaN        15145\n",
       "18.000       712\n",
       "16.000       581\n",
       "17.000       516\n",
       "15.000       464\n",
       "20.000       355\n",
       "19.000       304\n",
       "14.000       300\n",
       "13.000       248\n",
       "0.000        197\n",
       "21.000       194\n",
       "12.000       158\n",
       "22.000       156\n",
       "25.000       149\n",
       "23.000        97\n",
       "30.000        73\n",
       "10.000        51\n",
       "24.000        50\n",
       "11.000        48\n",
       "9.000         37\n",
       "27.000        32\n",
       "26.000        27\n",
       "28.000        27\n",
       "999.000       26\n",
       "40.000        24\n",
       "35.000        23\n",
       "8.000         21\n",
       "32.000        21\n",
       "7.000         19\n",
       "29.000        12\n",
       "45.000         9\n",
       "31.000         7\n",
       "42.000         7\n",
       "37.000         7\n",
       "36.000         6\n",
       "39.000         5\n",
       "44.000         5\n",
       "38.000         4\n",
       "46.000         4\n",
       "43.000         4\n",
       "48.000         3\n",
       "34.000         3\n",
       "58.000         2\n",
       "55.000         2\n",
       "777.000        2\n",
       "41.000         2\n",
       "33.000         2\n",
       "49.000         2\n",
       "64.000         1\n",
       "50.000         1\n",
       "54.000         1\n",
       "Name: start_smoking_age, dtype: int64"
      ]
     },
     "metadata": {},
     "output_type": "display_data"
    },
    {
     "data": {
      "text/plain": [
       "NaN        17477\n",
       "20.000       601\n",
       "10.000       412\n",
       "1.000        239\n",
       "5.000        204\n",
       "3.000        187\n",
       "40.000       158\n",
       "2.000        156\n",
       "30.000       123\n",
       "4.000        119\n",
       "6.000         90\n",
       "15.000        68\n",
       "60.000        47\n",
       "8.000         44\n",
       "7.000         42\n",
       "12.000        36\n",
       "999.000       32\n",
       "50.000        16\n",
       "25.000        16\n",
       "80.000        10\n",
       "95.000        10\n",
       "18.000         9\n",
       "9.000          6\n",
       "35.000         5\n",
       "70.000         4\n",
       "17.000         3\n",
       "14.000         3\n",
       "90.000         3\n",
       "24.000         2\n",
       "27.000         2\n",
       "16.000         2\n",
       "11.000         2\n",
       "45.000         2\n",
       "29.000         1\n",
       "48.000         1\n",
       "47.000         1\n",
       "75.000         1\n",
       "42.000         1\n",
       "26.000         1\n",
       "13.000         1\n",
       "55.000         1\n",
       "49.000         1\n",
       "36.000         1\n",
       "37.000         1\n",
       "38.000         1\n",
       "39.000         1\n",
       "31.000         1\n",
       "53.000         1\n",
       "28.000         1\n",
       "Name: previous_cigarettes_per_day, dtype: int64"
      ]
     },
     "metadata": {},
     "output_type": "display_data"
    },
    {
     "data": {
      "text/plain": [
       "NaN        17789\n",
       "10.000       450\n",
       "20.000       401\n",
       "5.000        220\n",
       "1.000        196\n",
       "3.000        179\n",
       "2.000        172\n",
       "15.000       144\n",
       "4.000        129\n",
       "6.000        100\n",
       "7.000         77\n",
       "30.000        60\n",
       "12.000        57\n",
       "8.000         55\n",
       "40.000        29\n",
       "25.000        14\n",
       "9.000         13\n",
       "18.000        12\n",
       "11.000        10\n",
       "13.000         8\n",
       "50.000         5\n",
       "999.000        4\n",
       "17.000         4\n",
       "14.000         3\n",
       "16.000         2\n",
       "60.000         2\n",
       "19.000         2\n",
       "23.000         2\n",
       "27.000         1\n",
       "90.000         1\n",
       "29.000         1\n",
       "28.000         1\n",
       "35.000         1\n",
       "26.000         1\n",
       "95.000         1\n",
       "Name: current_cigarettes_per_day, dtype: int64"
      ]
     },
     "metadata": {},
     "output_type": "display_data"
    }
   ],
   "source": [
    "# Listing column values\n",
    "for col in smoking_list:\n",
    "    display(smoking_clean[col].value_counts(dropna=False))"
   ]
  },
  {
   "cell_type": "code",
   "execution_count": 331,
   "metadata": {
    "ExecuteTime": {
     "end_time": "2021-02-09T05:14:28.959387Z",
     "start_time": "2021-02-09T05:14:28.868311Z"
    },
    "scrolled": true
   },
   "outputs": [
    {
     "data": {
      "text/plain": [
       "0     15370\n",
       "18      712\n",
       "16      581\n",
       "17      516\n",
       "15      464\n",
       "20      355\n",
       "19      304\n",
       "14      300\n",
       "13      248\n",
       "21      194\n",
       "12      158\n",
       "22      156\n",
       "25      149\n",
       "23       97\n",
       "30       73\n",
       "10       51\n",
       "24       50\n",
       "11       48\n",
       "9        37\n",
       "27       32\n",
       "28       27\n",
       "26       27\n",
       "40       24\n",
       "35       23\n",
       "8        21\n",
       "32       21\n",
       "7        19\n",
       "29       12\n",
       "45        9\n",
       "42        7\n",
       "37        7\n",
       "31        7\n",
       "36        6\n",
       "39        5\n",
       "44        5\n",
       "38        4\n",
       "46        4\n",
       "43        4\n",
       "34        3\n",
       "48        3\n",
       "49        2\n",
       "33        2\n",
       "41        2\n",
       "55        2\n",
       "58        2\n",
       "64        1\n",
       "50        1\n",
       "54        1\n",
       "Name: start_smoking_age, dtype: int64"
      ]
     },
     "metadata": {},
     "output_type": "display_data"
    },
    {
     "data": {
      "text/plain": [
       "0     17509\n",
       "20      601\n",
       "10      412\n",
       "1       239\n",
       "5       204\n",
       "3       187\n",
       "40      158\n",
       "2       156\n",
       "30      123\n",
       "4       119\n",
       "6        90\n",
       "15       68\n",
       "60       47\n",
       "8        44\n",
       "7        42\n",
       "12       36\n",
       "50       16\n",
       "25       16\n",
       "95       10\n",
       "80       10\n",
       "18        9\n",
       "9         6\n",
       "35        5\n",
       "70        4\n",
       "90        3\n",
       "14        3\n",
       "17        3\n",
       "11        2\n",
       "16        2\n",
       "27        2\n",
       "24        2\n",
       "45        2\n",
       "42        1\n",
       "13        1\n",
       "75        1\n",
       "26        1\n",
       "29        1\n",
       "48        1\n",
       "47        1\n",
       "31        1\n",
       "49        1\n",
       "36        1\n",
       "37        1\n",
       "38        1\n",
       "39        1\n",
       "55        1\n",
       "53        1\n",
       "28        1\n",
       "Name: previous_cigarettes_per_day, dtype: int64"
      ]
     },
     "metadata": {},
     "output_type": "display_data"
    },
    {
     "data": {
      "text/plain": [
       "0     17793\n",
       "10      450\n",
       "20      401\n",
       "5       220\n",
       "1       196\n",
       "3       179\n",
       "2       172\n",
       "15      144\n",
       "4       129\n",
       "6       100\n",
       "7        77\n",
       "30       60\n",
       "12       57\n",
       "8        55\n",
       "40       29\n",
       "25       14\n",
       "9        13\n",
       "18       12\n",
       "11       10\n",
       "13        8\n",
       "50        5\n",
       "17        4\n",
       "14        3\n",
       "19        2\n",
       "60        2\n",
       "16        2\n",
       "23        2\n",
       "27        1\n",
       "90        1\n",
       "29        1\n",
       "28        1\n",
       "35        1\n",
       "26        1\n",
       "95        1\n",
       "Name: current_cigarettes_per_day, dtype: int64"
      ]
     },
     "metadata": {},
     "output_type": "display_data"
    }
   ],
   "source": [
    "# Replacing values, filling nulls, casting as int type, and verifying values\n",
    "for col in smoking_list:\n",
    "    smoking_clean[col].replace({777.000: 0,\n",
    "                               999.000: 0}, \n",
    "                               inplace=True)\n",
    "    smoking_clean[col].fillna(0, inplace=True)\n",
    "    smoking_clean[col] = smoking_clean[col].astype('int64')\n",
    "    display(smoking_clean[col].value_counts(dropna=False))"
   ]
  },
  {
   "cell_type": "code",
   "execution_count": 332,
   "metadata": {
    "ExecuteTime": {
     "end_time": "2021-02-09T05:14:29.654387Z",
     "start_time": "2021-02-09T05:14:29.579311Z"
    }
   },
   "outputs": [
    {
     "data": {
      "text/html": [
       "<div>\n",
       "<style scoped>\n",
       "    .dataframe tbody tr th:only-of-type {\n",
       "        vertical-align: middle;\n",
       "    }\n",
       "\n",
       "    .dataframe tbody tr th {\n",
       "        vertical-align: top;\n",
       "    }\n",
       "\n",
       "    .dataframe thead th {\n",
       "        text-align: right;\n",
       "    }\n",
       "</style>\n",
       "<table border=\"1\" class=\"dataframe\">\n",
       "  <thead>\n",
       "    <tr style=\"text-align: right;\">\n",
       "      <th></th>\n",
       "      <th>start_smoking_age</th>\n",
       "      <th>current_smoker</th>\n",
       "      <th>previous_cigarettes_per_day</th>\n",
       "      <th>current_cigarettes_per_day</th>\n",
       "      <th>days_quit_smoking</th>\n",
       "      <th>household_smokers</th>\n",
       "    </tr>\n",
       "    <tr>\n",
       "      <th>SEQN</th>\n",
       "      <th></th>\n",
       "      <th></th>\n",
       "      <th></th>\n",
       "      <th></th>\n",
       "      <th></th>\n",
       "      <th></th>\n",
       "    </tr>\n",
       "  </thead>\n",
       "  <tbody>\n",
       "    <tr>\n",
       "      <th>73557</th>\n",
       "      <td>17</td>\n",
       "      <td>1</td>\n",
       "      <td>2</td>\n",
       "      <td>0</td>\n",
       "      <td>1095</td>\n",
       "      <td>1</td>\n",
       "    </tr>\n",
       "    <tr>\n",
       "      <th>73558</th>\n",
       "      <td>0</td>\n",
       "      <td>2</td>\n",
       "      <td>0</td>\n",
       "      <td>1</td>\n",
       "      <td>0</td>\n",
       "      <td>2</td>\n",
       "    </tr>\n",
       "    <tr>\n",
       "      <th>73559</th>\n",
       "      <td>20</td>\n",
       "      <td>1</td>\n",
       "      <td>3</td>\n",
       "      <td>0</td>\n",
       "      <td>14600</td>\n",
       "      <td>0</td>\n",
       "    </tr>\n",
       "    <tr>\n",
       "      <th>73560</th>\n",
       "      <td>0</td>\n",
       "      <td>0</td>\n",
       "      <td>0</td>\n",
       "      <td>0</td>\n",
       "      <td>0</td>\n",
       "      <td>1</td>\n",
       "    </tr>\n",
       "    <tr>\n",
       "      <th>73561</th>\n",
       "      <td>0</td>\n",
       "      <td>0</td>\n",
       "      <td>0</td>\n",
       "      <td>0</td>\n",
       "      <td>0</td>\n",
       "      <td>0</td>\n",
       "    </tr>\n",
       "  </tbody>\n",
       "</table>\n",
       "</div>"
      ],
      "text/plain": [
       "       start_smoking_age  current_smoker  ...  days_quit_smoking  household_smokers\n",
       "SEQN                                      ...                                      \n",
       "73557                 17               1  ...               1095                  1\n",
       "73558                  0               2  ...                  0                  2\n",
       "73559                 20               1  ...              14600                  0\n",
       "73560                  0               0  ...                  0                  1\n",
       "73561                  0               0  ...                  0                  0\n",
       "\n",
       "[5 rows x 6 columns]"
      ]
     },
     "execution_count": 332,
     "metadata": {},
     "output_type": "execute_result"
    }
   ],
   "source": [
    "# Checking the dataframe\n",
    "smoking_clean.head()"
   ]
  },
  {
   "cell_type": "code",
   "execution_count": 333,
   "metadata": {
    "ExecuteTime": {
     "end_time": "2021-02-09T05:14:30.425371Z",
     "start_time": "2021-02-09T05:14:30.356310Z"
    }
   },
   "outputs": [
    {
     "name": "stdout",
     "output_type": "stream",
     "text": [
      "<class 'pandas.core.frame.DataFrame'>\n",
      "Int64Index: 20146 entries, 73557 to 93702\n",
      "Data columns (total 6 columns):\n",
      " #   Column                       Non-Null Count  Dtype\n",
      "---  ------                       --------------  -----\n",
      " 0   start_smoking_age            20146 non-null  int64\n",
      " 1   current_smoker               20146 non-null  int64\n",
      " 2   previous_cigarettes_per_day  20146 non-null  int64\n",
      " 3   current_cigarettes_per_day   20146 non-null  int64\n",
      " 4   days_quit_smoking            20146 non-null  int64\n",
      " 5   household_smokers            20146 non-null  int64\n",
      "dtypes: int64(6)\n",
      "memory usage: 1.1 MB\n"
     ]
    }
   ],
   "source": [
    "smoking_clean.info()"
   ]
  },
  {
   "cell_type": "markdown",
   "metadata": {},
   "source": [
    "# Combine Data"
   ]
  },
  {
   "cell_type": "code",
   "execution_count": 336,
   "metadata": {
    "ExecuteTime": {
     "end_time": "2021-02-09T23:59:47.759765Z",
     "start_time": "2021-02-09T23:59:47.673790Z"
    }
   },
   "outputs": [
    {
     "name": "stdout",
     "output_type": "stream",
     "text": [
      "1\n",
      "11\n",
      "4\n",
      "6\n"
     ]
    }
   ],
   "source": [
    "# Checking the column lengths of all the dataframes\n",
    "dataframes = [target_clean, demo_clean, occupation_clean, \n",
    "              smoking_clean]\n",
    "for df in dataframes:\n",
    "    print(len(df.columns))"
   ]
  },
  {
   "cell_type": "code",
   "execution_count": 337,
   "metadata": {
    "ExecuteTime": {
     "end_time": "2021-02-09T23:59:52.673433Z",
     "start_time": "2021-02-09T23:59:51.833515Z"
    }
   },
   "outputs": [
    {
     "data": {
      "text/html": [
       "<div>\n",
       "<style scoped>\n",
       "    .dataframe tbody tr th:only-of-type {\n",
       "        vertical-align: middle;\n",
       "    }\n",
       "\n",
       "    .dataframe tbody tr th {\n",
       "        vertical-align: top;\n",
       "    }\n",
       "\n",
       "    .dataframe thead th {\n",
       "        text-align: right;\n",
       "    }\n",
       "</style>\n",
       "<table border=\"1\" class=\"dataframe\">\n",
       "  <thead>\n",
       "    <tr style=\"text-align: right;\">\n",
       "      <th></th>\n",
       "      <th>depression</th>\n",
       "      <th>gender</th>\n",
       "      <th>age</th>\n",
       "      <th>race</th>\n",
       "      <th>citizenship</th>\n",
       "      <th>education_level</th>\n",
       "      <th>marital_status</th>\n",
       "      <th>pregnant</th>\n",
       "      <th>household_size</th>\n",
       "      <th>birth_place</th>\n",
       "      <th>veteran</th>\n",
       "      <th>household_income</th>\n",
       "      <th>full_time_work</th>\n",
       "      <th>work_type</th>\n",
       "      <th>time_in_current_job</th>\n",
       "      <th>out_of_work</th>\n",
       "      <th>start_smoking_age</th>\n",
       "      <th>current_smoker</th>\n",
       "      <th>previous_cigarettes_per_day</th>\n",
       "      <th>current_cigarettes_per_day</th>\n",
       "      <th>days_quit_smoking</th>\n",
       "      <th>household_smokers</th>\n",
       "    </tr>\n",
       "    <tr>\n",
       "      <th>SEQN</th>\n",
       "      <th></th>\n",
       "      <th></th>\n",
       "      <th></th>\n",
       "      <th></th>\n",
       "      <th></th>\n",
       "      <th></th>\n",
       "      <th></th>\n",
       "      <th></th>\n",
       "      <th></th>\n",
       "      <th></th>\n",
       "      <th></th>\n",
       "      <th></th>\n",
       "      <th></th>\n",
       "      <th></th>\n",
       "      <th></th>\n",
       "      <th></th>\n",
       "      <th></th>\n",
       "      <th></th>\n",
       "      <th></th>\n",
       "      <th></th>\n",
       "      <th></th>\n",
       "      <th></th>\n",
       "    </tr>\n",
       "  </thead>\n",
       "  <tbody>\n",
       "    <tr>\n",
       "      <th>73557</th>\n",
       "      <td>Not Depressed</td>\n",
       "      <td>0</td>\n",
       "      <td>69</td>\n",
       "      <td>Black</td>\n",
       "      <td>Citizen</td>\n",
       "      <td>3</td>\n",
       "      <td>Separated</td>\n",
       "      <td>Missing</td>\n",
       "      <td>3</td>\n",
       "      <td>USA</td>\n",
       "      <td>Yes</td>\n",
       "      <td>4</td>\n",
       "      <td>Missing</td>\n",
       "      <td>Missing</td>\n",
       "      <td>0.000</td>\n",
       "      <td>Retired</td>\n",
       "      <td>17</td>\n",
       "      <td>1</td>\n",
       "      <td>2</td>\n",
       "      <td>0</td>\n",
       "      <td>1095</td>\n",
       "      <td>1</td>\n",
       "    </tr>\n",
       "    <tr>\n",
       "      <th>73558</th>\n",
       "      <td>Not Depressed</td>\n",
       "      <td>0</td>\n",
       "      <td>54</td>\n",
       "      <td>White</td>\n",
       "      <td>Citizen</td>\n",
       "      <td>3</td>\n",
       "      <td>Married</td>\n",
       "      <td>Missing</td>\n",
       "      <td>4</td>\n",
       "      <td>USA</td>\n",
       "      <td>No</td>\n",
       "      <td>7</td>\n",
       "      <td>Missing</td>\n",
       "      <td>Private Wage Worker</td>\n",
       "      <td>420.000</td>\n",
       "      <td>Missing</td>\n",
       "      <td>0</td>\n",
       "      <td>2</td>\n",
       "      <td>0</td>\n",
       "      <td>1</td>\n",
       "      <td>0</td>\n",
       "      <td>2</td>\n",
       "    </tr>\n",
       "    <tr>\n",
       "      <th>73559</th>\n",
       "      <td>Not Depressed</td>\n",
       "      <td>0</td>\n",
       "      <td>72</td>\n",
       "      <td>White</td>\n",
       "      <td>Citizen</td>\n",
       "      <td>4</td>\n",
       "      <td>Married</td>\n",
       "      <td>Missing</td>\n",
       "      <td>2</td>\n",
       "      <td>USA</td>\n",
       "      <td>Yes</td>\n",
       "      <td>10</td>\n",
       "      <td>Missing</td>\n",
       "      <td>Missing</td>\n",
       "      <td>0.000</td>\n",
       "      <td>Retired</td>\n",
       "      <td>20</td>\n",
       "      <td>1</td>\n",
       "      <td>3</td>\n",
       "      <td>0</td>\n",
       "      <td>14600</td>\n",
       "      <td>0</td>\n",
       "    </tr>\n",
       "    <tr>\n",
       "      <th>73560</th>\n",
       "      <td>NaN</td>\n",
       "      <td>0</td>\n",
       "      <td>9</td>\n",
       "      <td>White</td>\n",
       "      <td>Citizen</td>\n",
       "      <td>0</td>\n",
       "      <td>Missing</td>\n",
       "      <td>Missing</td>\n",
       "      <td>4</td>\n",
       "      <td>USA</td>\n",
       "      <td>Missing</td>\n",
       "      <td>9</td>\n",
       "      <td>NaN</td>\n",
       "      <td>NaN</td>\n",
       "      <td>NaN</td>\n",
       "      <td>NaN</td>\n",
       "      <td>0</td>\n",
       "      <td>0</td>\n",
       "      <td>0</td>\n",
       "      <td>0</td>\n",
       "      <td>0</td>\n",
       "      <td>1</td>\n",
       "    </tr>\n",
       "    <tr>\n",
       "      <th>73561</th>\n",
       "      <td>Not Depressed</td>\n",
       "      <td>1</td>\n",
       "      <td>73</td>\n",
       "      <td>White</td>\n",
       "      <td>Citizen</td>\n",
       "      <td>5</td>\n",
       "      <td>Married</td>\n",
       "      <td>Missing</td>\n",
       "      <td>2</td>\n",
       "      <td>USA</td>\n",
       "      <td>No</td>\n",
       "      <td>12</td>\n",
       "      <td>Missing</td>\n",
       "      <td>Missing</td>\n",
       "      <td>0.000</td>\n",
       "      <td>Health</td>\n",
       "      <td>0</td>\n",
       "      <td>0</td>\n",
       "      <td>0</td>\n",
       "      <td>0</td>\n",
       "      <td>0</td>\n",
       "      <td>0</td>\n",
       "    </tr>\n",
       "  </tbody>\n",
       "</table>\n",
       "</div>"
      ],
      "text/plain": [
       "          depression  gender  ...  days_quit_smoking household_smokers\n",
       "SEQN                          ...                                     \n",
       "73557  Not Depressed       0  ...               1095                 1\n",
       "73558  Not Depressed       0  ...                  0                 2\n",
       "73559  Not Depressed       0  ...              14600                 0\n",
       "73560            NaN       0  ...                  0                 1\n",
       "73561  Not Depressed       1  ...                  0                 0\n",
       "\n",
       "[5 rows x 22 columns]"
      ]
     },
     "execution_count": 337,
     "metadata": {},
     "output_type": "execute_result"
    }
   ],
   "source": [
    "# Putting all the data together and looking at the dataframe\n",
    "full_df = pd.concat([target_clean, demo_clean, occupation_clean,smoking_clean], \n",
    "                     axis=1)\n",
    "full_df.head()"
   ]
  },
  {
   "cell_type": "code",
   "execution_count": 338,
   "metadata": {
    "ExecuteTime": {
     "end_time": "2021-02-09T23:59:54.856238Z",
     "start_time": "2021-02-09T23:59:54.273299Z"
    }
   },
   "outputs": [
    {
     "data": {
      "text/html": [
       "<div>\n",
       "<style scoped>\n",
       "    .dataframe tbody tr th:only-of-type {\n",
       "        vertical-align: middle;\n",
       "    }\n",
       "\n",
       "    .dataframe tbody tr th {\n",
       "        vertical-align: top;\n",
       "    }\n",
       "\n",
       "    .dataframe thead th {\n",
       "        text-align: right;\n",
       "    }\n",
       "</style>\n",
       "<table border=\"1\" class=\"dataframe\">\n",
       "  <thead>\n",
       "    <tr style=\"text-align: right;\">\n",
       "      <th></th>\n",
       "      <th>depression</th>\n",
       "      <th>gender</th>\n",
       "      <th>age</th>\n",
       "      <th>race</th>\n",
       "      <th>citizenship</th>\n",
       "      <th>education_level</th>\n",
       "      <th>marital_status</th>\n",
       "      <th>pregnant</th>\n",
       "      <th>household_size</th>\n",
       "      <th>birth_place</th>\n",
       "      <th>veteran</th>\n",
       "      <th>household_income</th>\n",
       "      <th>full_time_work</th>\n",
       "      <th>work_type</th>\n",
       "      <th>time_in_current_job</th>\n",
       "      <th>out_of_work</th>\n",
       "      <th>start_smoking_age</th>\n",
       "      <th>current_smoker</th>\n",
       "      <th>previous_cigarettes_per_day</th>\n",
       "      <th>current_cigarettes_per_day</th>\n",
       "      <th>days_quit_smoking</th>\n",
       "      <th>household_smokers</th>\n",
       "    </tr>\n",
       "    <tr>\n",
       "      <th>SEQN</th>\n",
       "      <th></th>\n",
       "      <th></th>\n",
       "      <th></th>\n",
       "      <th></th>\n",
       "      <th></th>\n",
       "      <th></th>\n",
       "      <th></th>\n",
       "      <th></th>\n",
       "      <th></th>\n",
       "      <th></th>\n",
       "      <th></th>\n",
       "      <th></th>\n",
       "      <th></th>\n",
       "      <th></th>\n",
       "      <th></th>\n",
       "      <th></th>\n",
       "      <th></th>\n",
       "      <th></th>\n",
       "      <th></th>\n",
       "      <th></th>\n",
       "      <th></th>\n",
       "      <th></th>\n",
       "    </tr>\n",
       "  </thead>\n",
       "  <tbody>\n",
       "    <tr>\n",
       "      <th>73557</th>\n",
       "      <td>Not Depressed</td>\n",
       "      <td>0</td>\n",
       "      <td>69</td>\n",
       "      <td>Black</td>\n",
       "      <td>Citizen</td>\n",
       "      <td>3</td>\n",
       "      <td>Separated</td>\n",
       "      <td>Missing</td>\n",
       "      <td>3</td>\n",
       "      <td>USA</td>\n",
       "      <td>Yes</td>\n",
       "      <td>4</td>\n",
       "      <td>Missing</td>\n",
       "      <td>Missing</td>\n",
       "      <td>0.000</td>\n",
       "      <td>Retired</td>\n",
       "      <td>17</td>\n",
       "      <td>1</td>\n",
       "      <td>2</td>\n",
       "      <td>0</td>\n",
       "      <td>1095</td>\n",
       "      <td>1</td>\n",
       "    </tr>\n",
       "    <tr>\n",
       "      <th>73558</th>\n",
       "      <td>Not Depressed</td>\n",
       "      <td>0</td>\n",
       "      <td>54</td>\n",
       "      <td>White</td>\n",
       "      <td>Citizen</td>\n",
       "      <td>3</td>\n",
       "      <td>Married</td>\n",
       "      <td>Missing</td>\n",
       "      <td>4</td>\n",
       "      <td>USA</td>\n",
       "      <td>No</td>\n",
       "      <td>7</td>\n",
       "      <td>Missing</td>\n",
       "      <td>Private Wage Worker</td>\n",
       "      <td>420.000</td>\n",
       "      <td>Missing</td>\n",
       "      <td>0</td>\n",
       "      <td>2</td>\n",
       "      <td>0</td>\n",
       "      <td>1</td>\n",
       "      <td>0</td>\n",
       "      <td>2</td>\n",
       "    </tr>\n",
       "    <tr>\n",
       "      <th>73559</th>\n",
       "      <td>Not Depressed</td>\n",
       "      <td>0</td>\n",
       "      <td>72</td>\n",
       "      <td>White</td>\n",
       "      <td>Citizen</td>\n",
       "      <td>4</td>\n",
       "      <td>Married</td>\n",
       "      <td>Missing</td>\n",
       "      <td>2</td>\n",
       "      <td>USA</td>\n",
       "      <td>Yes</td>\n",
       "      <td>10</td>\n",
       "      <td>Missing</td>\n",
       "      <td>Missing</td>\n",
       "      <td>0.000</td>\n",
       "      <td>Retired</td>\n",
       "      <td>20</td>\n",
       "      <td>1</td>\n",
       "      <td>3</td>\n",
       "      <td>0</td>\n",
       "      <td>14600</td>\n",
       "      <td>0</td>\n",
       "    </tr>\n",
       "    <tr>\n",
       "      <th>73561</th>\n",
       "      <td>Not Depressed</td>\n",
       "      <td>1</td>\n",
       "      <td>73</td>\n",
       "      <td>White</td>\n",
       "      <td>Citizen</td>\n",
       "      <td>5</td>\n",
       "      <td>Married</td>\n",
       "      <td>Missing</td>\n",
       "      <td>2</td>\n",
       "      <td>USA</td>\n",
       "      <td>No</td>\n",
       "      <td>12</td>\n",
       "      <td>Missing</td>\n",
       "      <td>Missing</td>\n",
       "      <td>0.000</td>\n",
       "      <td>Health</td>\n",
       "      <td>0</td>\n",
       "      <td>0</td>\n",
       "      <td>0</td>\n",
       "      <td>0</td>\n",
       "      <td>0</td>\n",
       "      <td>0</td>\n",
       "    </tr>\n",
       "    <tr>\n",
       "      <th>73562</th>\n",
       "      <td>Depressed</td>\n",
       "      <td>0</td>\n",
       "      <td>56</td>\n",
       "      <td>Mexican</td>\n",
       "      <td>Citizen</td>\n",
       "      <td>4</td>\n",
       "      <td>Divorced</td>\n",
       "      <td>Missing</td>\n",
       "      <td>1</td>\n",
       "      <td>USA</td>\n",
       "      <td>Yes</td>\n",
       "      <td>9</td>\n",
       "      <td>Missing</td>\n",
       "      <td>Government</td>\n",
       "      <td>372.000</td>\n",
       "      <td>Missing</td>\n",
       "      <td>18</td>\n",
       "      <td>1</td>\n",
       "      <td>5</td>\n",
       "      <td>0</td>\n",
       "      <td>5840</td>\n",
       "      <td>0</td>\n",
       "    </tr>\n",
       "  </tbody>\n",
       "</table>\n",
       "</div>"
      ],
      "text/plain": [
       "          depression  gender  ...  days_quit_smoking household_smokers\n",
       "SEQN                          ...                                     \n",
       "73557  Not Depressed       0  ...               1095                 1\n",
       "73558  Not Depressed       0  ...                  0                 2\n",
       "73559  Not Depressed       0  ...              14600                 0\n",
       "73561  Not Depressed       1  ...                  0                 0\n",
       "73562      Depressed       0  ...               5840                 0\n",
       "\n",
       "[5 rows x 22 columns]"
      ]
     },
     "execution_count": 338,
     "metadata": {},
     "output_type": "execute_result"
    }
   ],
   "source": [
    "# Keeping only the entries that are not null for the target\n",
    "full_df = full_df[full_df['depression'].notnull()]\n",
    "full_df.head()"
   ]
  },
  {
   "cell_type": "code",
   "execution_count": 339,
   "metadata": {
    "ExecuteTime": {
     "end_time": "2021-02-09T23:59:58.415250Z",
     "start_time": "2021-02-09T23:59:58.335301Z"
    }
   },
   "outputs": [
    {
     "name": "stdout",
     "output_type": "stream",
     "text": [
      "<class 'pandas.core.frame.DataFrame'>\n",
      "Int64Index: 10506 entries, 73557 to 93702\n",
      "Data columns (total 22 columns):\n",
      " #   Column                       Non-Null Count  Dtype  \n",
      "---  ------                       --------------  -----  \n",
      " 0   depression                   10506 non-null  object \n",
      " 1   gender                       10506 non-null  int64  \n",
      " 2   age                          10506 non-null  int64  \n",
      " 3   race                         10506 non-null  object \n",
      " 4   citizenship                  10506 non-null  object \n",
      " 5   education_level              10506 non-null  int64  \n",
      " 6   marital_status               10506 non-null  object \n",
      " 7   pregnant                     10506 non-null  object \n",
      " 8   household_size               10506 non-null  int64  \n",
      " 9   birth_place                  10506 non-null  object \n",
      " 10  veteran                      10506 non-null  object \n",
      " 11  household_income             10506 non-null  int64  \n",
      " 12  full_time_work               10506 non-null  object \n",
      " 13  work_type                    10506 non-null  object \n",
      " 14  time_in_current_job          10506 non-null  float64\n",
      " 15  out_of_work                  10506 non-null  object \n",
      " 16  start_smoking_age            10506 non-null  int64  \n",
      " 17  current_smoker               10506 non-null  int64  \n",
      " 18  previous_cigarettes_per_day  10506 non-null  int64  \n",
      " 19  current_cigarettes_per_day   10506 non-null  int64  \n",
      " 20  days_quit_smoking            10506 non-null  int64  \n",
      " 21  household_smokers            10506 non-null  int64  \n",
      "dtypes: float64(1), int64(11), object(10)\n",
      "memory usage: 1.8+ MB\n"
     ]
    }
   ],
   "source": [
    "# Checking the info\n",
    "full_df.info()"
   ]
  },
  {
   "cell_type": "code",
   "execution_count": 340,
   "metadata": {
    "ExecuteTime": {
     "end_time": "2021-02-09T23:59:59.630327Z",
     "start_time": "2021-02-09T23:59:59.473328Z"
    },
    "scrolled": true
   },
   "outputs": [
    {
     "data": {
      "text/plain": [
       "depression                     0\n",
       "gender                         0\n",
       "age                            0\n",
       "race                           0\n",
       "citizenship                    0\n",
       "education_level                0\n",
       "marital_status                 0\n",
       "pregnant                       0\n",
       "household_size                 0\n",
       "birth_place                    0\n",
       "veteran                        0\n",
       "household_income               0\n",
       "full_time_work                 0\n",
       "work_type                      0\n",
       "time_in_current_job            0\n",
       "out_of_work                    0\n",
       "start_smoking_age              0\n",
       "current_smoker                 0\n",
       "previous_cigarettes_per_day    0\n",
       "current_cigarettes_per_day     0\n",
       "days_quit_smoking              0\n",
       "household_smokers              0\n",
       "dtype: int64"
      ]
     },
     "execution_count": 340,
     "metadata": {},
     "output_type": "execute_result"
    }
   ],
   "source": [
    "# Checking null values\n",
    "full_df.isna().sum()"
   ]
  },
  {
   "cell_type": "code",
   "execution_count": 342,
   "metadata": {
    "ExecuteTime": {
     "end_time": "2021-02-10T00:00:04.355604Z",
     "start_time": "2021-02-10T00:00:04.099559Z"
    }
   },
   "outputs": [
    {
     "data": {
      "text/plain": [
       "depression                     0\n",
       "gender                         0\n",
       "age                            0\n",
       "race                           0\n",
       "citizenship                    0\n",
       "education_level                0\n",
       "marital_status                 0\n",
       "pregnant                       0\n",
       "household_size                 0\n",
       "birth_place                    0\n",
       "veteran                        0\n",
       "household_income               0\n",
       "full_time_work                 0\n",
       "work_type                      0\n",
       "time_in_current_job            0\n",
       "out_of_work                    0\n",
       "start_smoking_age              0\n",
       "current_smoker                 0\n",
       "previous_cigarettes_per_day    0\n",
       "current_cigarettes_per_day     0\n",
       "days_quit_smoking              0\n",
       "household_smokers              0\n",
       "dtype: int64"
      ]
     },
     "execution_count": 342,
     "metadata": {},
     "output_type": "execute_result"
    }
   ],
   "source": [
    "# Filling in the rest of the nulls with zero as appropriate\n",
    "full_df.fillna(0, inplace=True)\n",
    "full_df.isna().sum()"
   ]
  },
  {
   "cell_type": "code",
   "execution_count": 344,
   "metadata": {
    "ExecuteTime": {
     "end_time": "2021-02-10T00:00:35.812949Z",
     "start_time": "2021-02-10T00:00:23.025949Z"
    }
   },
   "outputs": [],
   "source": [
    "# Saving the file\n",
    "full_df.to_csv(r'FullData.csv')"
   ]
  }
 ],
 "metadata": {
  "kernelspec": {
   "display_name": "Python 3 (ipykernel)",
   "language": "python",
   "name": "python3"
  },
  "language_info": {
   "codemirror_mode": {
    "name": "ipython",
    "version": 3
   },
   "file_extension": ".py",
   "mimetype": "text/x-python",
   "name": "python",
   "nbconvert_exporter": "python",
   "pygments_lexer": "ipython3",
   "version": "3.9.7"
  },
  "toc": {
   "base_numbering": 1,
   "nav_menu": {},
   "number_sections": true,
   "sideBar": true,
   "skip_h1_title": false,
   "title_cell": "Table of Contents",
   "title_sidebar": "Contents",
   "toc_cell": true,
   "toc_position": {},
   "toc_section_display": true,
   "toc_window_display": true
  }
 },
 "nbformat": 4,
 "nbformat_minor": 4
}
